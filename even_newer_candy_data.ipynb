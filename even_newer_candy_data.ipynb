{
 "cells": [
  {
   "cell_type": "markdown",
   "id": "cdf4c499",
   "metadata": {},
   "source": [
    "# Ich habe zwei Wege ausprobiert\n",
    "\n",
    "# 1. Mit Scipy (mehr oder weniger so wie ich es mit IBM SPSS machen würde/kannte)\n",
    "Dokumentiert ab Zeile 14\n",
    "\n",
    "# 2. Mit Sklearn\n",
    "Dokumentiert ab Zeile 19\n",
    "\n",
    "# Summary\n",
    "Am Ende mit den wichtigsten Infos auf einen Blick"
   ]
  },
  {
   "cell_type": "markdown",
   "id": "8cbb430f",
   "metadata": {},
   "source": [
    "# Import libraries"
   ]
  },
  {
   "cell_type": "code",
   "execution_count": 1,
   "id": "2141a503",
   "metadata": {},
   "outputs": [],
   "source": [
    "import pandas as pd\n",
    "import numpy as np\n",
    "import matplotlib.pyplot as plt\n",
    "from sklearn.linear_model import LinearRegression\n",
    "from sklearn.metrics import mean_absolute_error, mean_squared_error\n",
    "import seaborn as sns\n",
    "import statsmodels.formula.api as smf"
   ]
  },
  {
   "cell_type": "markdown",
   "id": "b7c2c389",
   "metadata": {},
   "source": [
    "# Import csv file"
   ]
  },
  {
   "cell_type": "code",
   "execution_count": 2,
   "id": "4d9b4613",
   "metadata": {},
   "outputs": [
    {
     "data": {
      "text/html": [
       "<div>\n",
       "<style scoped>\n",
       "    .dataframe tbody tr th:only-of-type {\n",
       "        vertical-align: middle;\n",
       "    }\n",
       "\n",
       "    .dataframe tbody tr th {\n",
       "        vertical-align: top;\n",
       "    }\n",
       "\n",
       "    .dataframe thead th {\n",
       "        text-align: right;\n",
       "    }\n",
       "</style>\n",
       "<table border=\"1\" class=\"dataframe\">\n",
       "  <thead>\n",
       "    <tr style=\"text-align: right;\">\n",
       "      <th></th>\n",
       "      <th>competitorname</th>\n",
       "      <th>chocolate</th>\n",
       "      <th>fruity</th>\n",
       "      <th>caramel</th>\n",
       "      <th>peanutyalmondy</th>\n",
       "      <th>nougat</th>\n",
       "      <th>crispedricewafer</th>\n",
       "      <th>hard</th>\n",
       "      <th>bar</th>\n",
       "      <th>pluribus</th>\n",
       "      <th>sugarpercent</th>\n",
       "      <th>pricepercent</th>\n",
       "      <th>winpercent</th>\n",
       "    </tr>\n",
       "  </thead>\n",
       "  <tbody>\n",
       "    <tr>\n",
       "      <th>0</th>\n",
       "      <td>100 Grand</td>\n",
       "      <td>1</td>\n",
       "      <td>0</td>\n",
       "      <td>1</td>\n",
       "      <td>0</td>\n",
       "      <td>0</td>\n",
       "      <td>1</td>\n",
       "      <td>0</td>\n",
       "      <td>1</td>\n",
       "      <td>0</td>\n",
       "      <td>0.732</td>\n",
       "      <td>0.860</td>\n",
       "      <td>66.971725</td>\n",
       "    </tr>\n",
       "    <tr>\n",
       "      <th>1</th>\n",
       "      <td>3 Musketeers</td>\n",
       "      <td>1</td>\n",
       "      <td>0</td>\n",
       "      <td>0</td>\n",
       "      <td>0</td>\n",
       "      <td>1</td>\n",
       "      <td>0</td>\n",
       "      <td>0</td>\n",
       "      <td>1</td>\n",
       "      <td>0</td>\n",
       "      <td>0.604</td>\n",
       "      <td>0.511</td>\n",
       "      <td>67.602936</td>\n",
       "    </tr>\n",
       "    <tr>\n",
       "      <th>2</th>\n",
       "      <td>One dime</td>\n",
       "      <td>0</td>\n",
       "      <td>0</td>\n",
       "      <td>0</td>\n",
       "      <td>0</td>\n",
       "      <td>0</td>\n",
       "      <td>0</td>\n",
       "      <td>0</td>\n",
       "      <td>0</td>\n",
       "      <td>0</td>\n",
       "      <td>0.011</td>\n",
       "      <td>0.116</td>\n",
       "      <td>32.261086</td>\n",
       "    </tr>\n",
       "  </tbody>\n",
       "</table>\n",
       "</div>"
      ],
      "text/plain": [
       "  competitorname  chocolate  fruity  caramel  peanutyalmondy  nougat  \\\n",
       "0      100 Grand          1       0        1               0       0   \n",
       "1   3 Musketeers          1       0        0               0       1   \n",
       "2       One dime          0       0        0               0       0   \n",
       "\n",
       "   crispedricewafer  hard  bar  pluribus  sugarpercent  pricepercent  \\\n",
       "0                 1     0    1         0         0.732         0.860   \n",
       "1                 0     0    1         0         0.604         0.511   \n",
       "2                 0     0    0         0         0.011         0.116   \n",
       "\n",
       "   winpercent  \n",
       "0   66.971725  \n",
       "1   67.602936  \n",
       "2   32.261086  "
      ]
     },
     "execution_count": 2,
     "metadata": {},
     "output_type": "execute_result"
    }
   ],
   "source": [
    "df_candy = pd.read_csv(\"/Users\\Lenovo\\Documents\\candy-data.csv\")\n",
    "df_candy.head(3)"
   ]
  },
  {
   "cell_type": "markdown",
   "id": "21993c89",
   "metadata": {},
   "source": [
    "# Get to know my data"
   ]
  },
  {
   "cell_type": "code",
   "execution_count": 3,
   "id": "0949c4c0",
   "metadata": {},
   "outputs": [
    {
     "data": {
      "text/html": [
       "<div>\n",
       "<style scoped>\n",
       "    .dataframe tbody tr th:only-of-type {\n",
       "        vertical-align: middle;\n",
       "    }\n",
       "\n",
       "    .dataframe tbody tr th {\n",
       "        vertical-align: top;\n",
       "    }\n",
       "\n",
       "    .dataframe thead th {\n",
       "        text-align: right;\n",
       "    }\n",
       "</style>\n",
       "<table border=\"1\" class=\"dataframe\">\n",
       "  <thead>\n",
       "    <tr style=\"text-align: right;\">\n",
       "      <th></th>\n",
       "      <th>competitorname</th>\n",
       "      <th>chocolate</th>\n",
       "      <th>fruity</th>\n",
       "      <th>caramel</th>\n",
       "      <th>peanutyalmondy</th>\n",
       "      <th>nougat</th>\n",
       "      <th>crispedricewafer</th>\n",
       "      <th>hard</th>\n",
       "      <th>bar</th>\n",
       "      <th>pluribus</th>\n",
       "      <th>sugarpercent</th>\n",
       "      <th>pricepercent</th>\n",
       "      <th>winpercent</th>\n",
       "    </tr>\n",
       "  </thead>\n",
       "  <tbody>\n",
       "    <tr>\n",
       "      <th>52</th>\n",
       "      <td>Reese's Peanut Butter cup</td>\n",
       "      <td>1</td>\n",
       "      <td>0</td>\n",
       "      <td>0</td>\n",
       "      <td>1</td>\n",
       "      <td>0</td>\n",
       "      <td>0</td>\n",
       "      <td>0</td>\n",
       "      <td>0</td>\n",
       "      <td>0</td>\n",
       "      <td>0.720</td>\n",
       "      <td>0.651</td>\n",
       "      <td>84.180290</td>\n",
       "    </tr>\n",
       "    <tr>\n",
       "      <th>51</th>\n",
       "      <td>Reese's Miniatures</td>\n",
       "      <td>1</td>\n",
       "      <td>0</td>\n",
       "      <td>0</td>\n",
       "      <td>1</td>\n",
       "      <td>0</td>\n",
       "      <td>0</td>\n",
       "      <td>0</td>\n",
       "      <td>0</td>\n",
       "      <td>0</td>\n",
       "      <td>0.034</td>\n",
       "      <td>0.279</td>\n",
       "      <td>81.866257</td>\n",
       "    </tr>\n",
       "    <tr>\n",
       "      <th>79</th>\n",
       "      <td>Twix</td>\n",
       "      <td>1</td>\n",
       "      <td>0</td>\n",
       "      <td>1</td>\n",
       "      <td>0</td>\n",
       "      <td>0</td>\n",
       "      <td>1</td>\n",
       "      <td>0</td>\n",
       "      <td>1</td>\n",
       "      <td>0</td>\n",
       "      <td>0.546</td>\n",
       "      <td>0.906</td>\n",
       "      <td>81.642914</td>\n",
       "    </tr>\n",
       "    <tr>\n",
       "      <th>28</th>\n",
       "      <td>Kit Kat</td>\n",
       "      <td>1</td>\n",
       "      <td>0</td>\n",
       "      <td>0</td>\n",
       "      <td>0</td>\n",
       "      <td>0</td>\n",
       "      <td>1</td>\n",
       "      <td>0</td>\n",
       "      <td>1</td>\n",
       "      <td>0</td>\n",
       "      <td>0.313</td>\n",
       "      <td>0.511</td>\n",
       "      <td>76.768600</td>\n",
       "    </tr>\n",
       "    <tr>\n",
       "      <th>64</th>\n",
       "      <td>Snickers</td>\n",
       "      <td>1</td>\n",
       "      <td>0</td>\n",
       "      <td>1</td>\n",
       "      <td>1</td>\n",
       "      <td>1</td>\n",
       "      <td>0</td>\n",
       "      <td>0</td>\n",
       "      <td>1</td>\n",
       "      <td>0</td>\n",
       "      <td>0.546</td>\n",
       "      <td>0.651</td>\n",
       "      <td>76.673782</td>\n",
       "    </tr>\n",
       "    <tr>\n",
       "      <th>53</th>\n",
       "      <td>Reese's pieces</td>\n",
       "      <td>1</td>\n",
       "      <td>0</td>\n",
       "      <td>0</td>\n",
       "      <td>1</td>\n",
       "      <td>0</td>\n",
       "      <td>0</td>\n",
       "      <td>0</td>\n",
       "      <td>0</td>\n",
       "      <td>1</td>\n",
       "      <td>0.406</td>\n",
       "      <td>0.651</td>\n",
       "      <td>73.434990</td>\n",
       "    </tr>\n",
       "    <tr>\n",
       "      <th>36</th>\n",
       "      <td>Milky Way</td>\n",
       "      <td>1</td>\n",
       "      <td>0</td>\n",
       "      <td>1</td>\n",
       "      <td>0</td>\n",
       "      <td>1</td>\n",
       "      <td>0</td>\n",
       "      <td>0</td>\n",
       "      <td>1</td>\n",
       "      <td>0</td>\n",
       "      <td>0.604</td>\n",
       "      <td>0.651</td>\n",
       "      <td>73.099556</td>\n",
       "    </tr>\n",
       "    <tr>\n",
       "      <th>54</th>\n",
       "      <td>Reese's stuffed with pieces</td>\n",
       "      <td>1</td>\n",
       "      <td>0</td>\n",
       "      <td>0</td>\n",
       "      <td>1</td>\n",
       "      <td>0</td>\n",
       "      <td>0</td>\n",
       "      <td>0</td>\n",
       "      <td>0</td>\n",
       "      <td>0</td>\n",
       "      <td>0.988</td>\n",
       "      <td>0.651</td>\n",
       "      <td>72.887901</td>\n",
       "    </tr>\n",
       "    <tr>\n",
       "      <th>32</th>\n",
       "      <td>Peanut butter M&amp;M's</td>\n",
       "      <td>1</td>\n",
       "      <td>0</td>\n",
       "      <td>0</td>\n",
       "      <td>1</td>\n",
       "      <td>0</td>\n",
       "      <td>0</td>\n",
       "      <td>0</td>\n",
       "      <td>0</td>\n",
       "      <td>1</td>\n",
       "      <td>0.825</td>\n",
       "      <td>0.651</td>\n",
       "      <td>71.465050</td>\n",
       "    </tr>\n",
       "    <tr>\n",
       "      <th>42</th>\n",
       "      <td>Nestle Butterfinger</td>\n",
       "      <td>1</td>\n",
       "      <td>0</td>\n",
       "      <td>0</td>\n",
       "      <td>1</td>\n",
       "      <td>0</td>\n",
       "      <td>0</td>\n",
       "      <td>0</td>\n",
       "      <td>1</td>\n",
       "      <td>0</td>\n",
       "      <td>0.604</td>\n",
       "      <td>0.767</td>\n",
       "      <td>70.735641</td>\n",
       "    </tr>\n",
       "  </tbody>\n",
       "</table>\n",
       "</div>"
      ],
      "text/plain": [
       "                 competitorname  chocolate  fruity  caramel  peanutyalmondy  \\\n",
       "52    Reese's Peanut Butter cup          1       0        0               1   \n",
       "51           Reese's Miniatures          1       0        0               1   \n",
       "79                         Twix          1       0        1               0   \n",
       "28                      Kit Kat          1       0        0               0   \n",
       "64                     Snickers          1       0        1               1   \n",
       "53               Reese's pieces          1       0        0               1   \n",
       "36                    Milky Way          1       0        1               0   \n",
       "54  Reese's stuffed with pieces          1       0        0               1   \n",
       "32          Peanut butter M&M's          1       0        0               1   \n",
       "42          Nestle Butterfinger          1       0        0               1   \n",
       "\n",
       "    nougat  crispedricewafer  hard  bar  pluribus  sugarpercent  pricepercent  \\\n",
       "52       0                 0     0    0         0         0.720         0.651   \n",
       "51       0                 0     0    0         0         0.034         0.279   \n",
       "79       0                 1     0    1         0         0.546         0.906   \n",
       "28       0                 1     0    1         0         0.313         0.511   \n",
       "64       1                 0     0    1         0         0.546         0.651   \n",
       "53       0                 0     0    0         1         0.406         0.651   \n",
       "36       1                 0     0    1         0         0.604         0.651   \n",
       "54       0                 0     0    0         0         0.988         0.651   \n",
       "32       0                 0     0    0         1         0.825         0.651   \n",
       "42       0                 0     0    1         0         0.604         0.767   \n",
       "\n",
       "    winpercent  \n",
       "52   84.180290  \n",
       "51   81.866257  \n",
       "79   81.642914  \n",
       "28   76.768600  \n",
       "64   76.673782  \n",
       "53   73.434990  \n",
       "36   73.099556  \n",
       "54   72.887901  \n",
       "32   71.465050  \n",
       "42   70.735641  "
      ]
     },
     "execution_count": 3,
     "metadata": {},
     "output_type": "execute_result"
    }
   ],
   "source": [
    "# Largest values for DV \"winpercent\"\n",
    "df_candy.sort_values(by=\"winpercent\", ascending=False).head(10)"
   ]
  },
  {
   "cell_type": "code",
   "execution_count": 4,
   "id": "2dadaf2c",
   "metadata": {},
   "outputs": [
    {
     "data": {
      "text/html": [
       "<div>\n",
       "<style scoped>\n",
       "    .dataframe tbody tr th:only-of-type {\n",
       "        vertical-align: middle;\n",
       "    }\n",
       "\n",
       "    .dataframe tbody tr th {\n",
       "        vertical-align: top;\n",
       "    }\n",
       "\n",
       "    .dataframe thead th {\n",
       "        text-align: right;\n",
       "    }\n",
       "</style>\n",
       "<table border=\"1\" class=\"dataframe\">\n",
       "  <thead>\n",
       "    <tr style=\"text-align: right;\">\n",
       "      <th></th>\n",
       "      <th>competitorname</th>\n",
       "      <th>chocolate</th>\n",
       "      <th>fruity</th>\n",
       "      <th>caramel</th>\n",
       "      <th>peanutyalmondy</th>\n",
       "      <th>nougat</th>\n",
       "      <th>crispedricewafer</th>\n",
       "      <th>hard</th>\n",
       "      <th>bar</th>\n",
       "      <th>pluribus</th>\n",
       "      <th>sugarpercent</th>\n",
       "      <th>pricepercent</th>\n",
       "      <th>winpercent</th>\n",
       "    </tr>\n",
       "  </thead>\n",
       "  <tbody>\n",
       "    <tr>\n",
       "      <th>44</th>\n",
       "      <td>Nik L Nip</td>\n",
       "      <td>0</td>\n",
       "      <td>1</td>\n",
       "      <td>0</td>\n",
       "      <td>0</td>\n",
       "      <td>0</td>\n",
       "      <td>0</td>\n",
       "      <td>0</td>\n",
       "      <td>0</td>\n",
       "      <td>1</td>\n",
       "      <td>0.197</td>\n",
       "      <td>0.976</td>\n",
       "      <td>22.445341</td>\n",
       "    </tr>\n",
       "    <tr>\n",
       "      <th>7</th>\n",
       "      <td>Boston Baked Beans</td>\n",
       "      <td>0</td>\n",
       "      <td>0</td>\n",
       "      <td>0</td>\n",
       "      <td>1</td>\n",
       "      <td>0</td>\n",
       "      <td>0</td>\n",
       "      <td>0</td>\n",
       "      <td>0</td>\n",
       "      <td>1</td>\n",
       "      <td>0.313</td>\n",
       "      <td>0.511</td>\n",
       "      <td>23.417824</td>\n",
       "    </tr>\n",
       "    <tr>\n",
       "      <th>12</th>\n",
       "      <td>Chiclets</td>\n",
       "      <td>0</td>\n",
       "      <td>1</td>\n",
       "      <td>0</td>\n",
       "      <td>0</td>\n",
       "      <td>0</td>\n",
       "      <td>0</td>\n",
       "      <td>0</td>\n",
       "      <td>0</td>\n",
       "      <td>1</td>\n",
       "      <td>0.046</td>\n",
       "      <td>0.325</td>\n",
       "      <td>24.524988</td>\n",
       "    </tr>\n",
       "    <tr>\n",
       "      <th>72</th>\n",
       "      <td>Super Bubble</td>\n",
       "      <td>0</td>\n",
       "      <td>1</td>\n",
       "      <td>0</td>\n",
       "      <td>0</td>\n",
       "      <td>0</td>\n",
       "      <td>0</td>\n",
       "      <td>0</td>\n",
       "      <td>0</td>\n",
       "      <td>0</td>\n",
       "      <td>0.162</td>\n",
       "      <td>0.116</td>\n",
       "      <td>27.303865</td>\n",
       "    </tr>\n",
       "    <tr>\n",
       "      <th>26</th>\n",
       "      <td>Jawbusters</td>\n",
       "      <td>0</td>\n",
       "      <td>1</td>\n",
       "      <td>0</td>\n",
       "      <td>0</td>\n",
       "      <td>0</td>\n",
       "      <td>0</td>\n",
       "      <td>1</td>\n",
       "      <td>0</td>\n",
       "      <td>1</td>\n",
       "      <td>0.093</td>\n",
       "      <td>0.511</td>\n",
       "      <td>28.127439</td>\n",
       "    </tr>\n",
       "    <tr>\n",
       "      <th>57</th>\n",
       "      <td>Root Beer Barrels</td>\n",
       "      <td>0</td>\n",
       "      <td>0</td>\n",
       "      <td>0</td>\n",
       "      <td>0</td>\n",
       "      <td>0</td>\n",
       "      <td>0</td>\n",
       "      <td>1</td>\n",
       "      <td>0</td>\n",
       "      <td>1</td>\n",
       "      <td>0.732</td>\n",
       "      <td>0.069</td>\n",
       "      <td>29.703691</td>\n",
       "    </tr>\n",
       "    <tr>\n",
       "      <th>71</th>\n",
       "      <td>Sugar Daddy</td>\n",
       "      <td>0</td>\n",
       "      <td>0</td>\n",
       "      <td>1</td>\n",
       "      <td>0</td>\n",
       "      <td>0</td>\n",
       "      <td>0</td>\n",
       "      <td>0</td>\n",
       "      <td>0</td>\n",
       "      <td>0</td>\n",
       "      <td>0.418</td>\n",
       "      <td>0.325</td>\n",
       "      <td>32.230995</td>\n",
       "    </tr>\n",
       "    <tr>\n",
       "      <th>2</th>\n",
       "      <td>One dime</td>\n",
       "      <td>0</td>\n",
       "      <td>0</td>\n",
       "      <td>0</td>\n",
       "      <td>0</td>\n",
       "      <td>0</td>\n",
       "      <td>0</td>\n",
       "      <td>0</td>\n",
       "      <td>0</td>\n",
       "      <td>0</td>\n",
       "      <td>0.011</td>\n",
       "      <td>0.116</td>\n",
       "      <td>32.261086</td>\n",
       "    </tr>\n",
       "    <tr>\n",
       "      <th>70</th>\n",
       "      <td>Sugar Babies</td>\n",
       "      <td>0</td>\n",
       "      <td>0</td>\n",
       "      <td>1</td>\n",
       "      <td>0</td>\n",
       "      <td>0</td>\n",
       "      <td>0</td>\n",
       "      <td>0</td>\n",
       "      <td>0</td>\n",
       "      <td>1</td>\n",
       "      <td>0.965</td>\n",
       "      <td>0.767</td>\n",
       "      <td>33.437550</td>\n",
       "    </tr>\n",
       "    <tr>\n",
       "      <th>19</th>\n",
       "      <td>Haribo Happy Cola</td>\n",
       "      <td>0</td>\n",
       "      <td>0</td>\n",
       "      <td>0</td>\n",
       "      <td>0</td>\n",
       "      <td>0</td>\n",
       "      <td>0</td>\n",
       "      <td>0</td>\n",
       "      <td>0</td>\n",
       "      <td>1</td>\n",
       "      <td>0.465</td>\n",
       "      <td>0.465</td>\n",
       "      <td>34.158958</td>\n",
       "    </tr>\n",
       "  </tbody>\n",
       "</table>\n",
       "</div>"
      ],
      "text/plain": [
       "        competitorname  chocolate  fruity  caramel  peanutyalmondy  nougat  \\\n",
       "44           Nik L Nip          0       1        0               0       0   \n",
       "7   Boston Baked Beans          0       0        0               1       0   \n",
       "12            Chiclets          0       1        0               0       0   \n",
       "72        Super Bubble          0       1        0               0       0   \n",
       "26          Jawbusters          0       1        0               0       0   \n",
       "57   Root Beer Barrels          0       0        0               0       0   \n",
       "71         Sugar Daddy          0       0        1               0       0   \n",
       "2             One dime          0       0        0               0       0   \n",
       "70        Sugar Babies          0       0        1               0       0   \n",
       "19   Haribo Happy Cola          0       0        0               0       0   \n",
       "\n",
       "    crispedricewafer  hard  bar  pluribus  sugarpercent  pricepercent  \\\n",
       "44                 0     0    0         1         0.197         0.976   \n",
       "7                  0     0    0         1         0.313         0.511   \n",
       "12                 0     0    0         1         0.046         0.325   \n",
       "72                 0     0    0         0         0.162         0.116   \n",
       "26                 0     1    0         1         0.093         0.511   \n",
       "57                 0     1    0         1         0.732         0.069   \n",
       "71                 0     0    0         0         0.418         0.325   \n",
       "2                  0     0    0         0         0.011         0.116   \n",
       "70                 0     0    0         1         0.965         0.767   \n",
       "19                 0     0    0         1         0.465         0.465   \n",
       "\n",
       "    winpercent  \n",
       "44   22.445341  \n",
       "7    23.417824  \n",
       "12   24.524988  \n",
       "72   27.303865  \n",
       "26   28.127439  \n",
       "57   29.703691  \n",
       "71   32.230995  \n",
       "2    32.261086  \n",
       "70   33.437550  \n",
       "19   34.158958  "
      ]
     },
     "execution_count": 4,
     "metadata": {},
     "output_type": "execute_result"
    }
   ],
   "source": [
    "# Smallest values for DV \"winpercent\"\n",
    "df_candy.sort_values(by=\"winpercent\").head(10)"
   ]
  },
  {
   "cell_type": "code",
   "execution_count": 5,
   "id": "e547895d",
   "metadata": {},
   "outputs": [
    {
     "name": "stdout",
     "output_type": "stream",
     "text": [
      "The average is 50.316763811764716\n",
      "The median is 47.829754\n"
     ]
    },
    {
     "data": {
      "image/png": "[encoded data removed]",
      "text/plain": [
       "<Figure size 640x480 with 1 Axes>"
      ]
     },
     "metadata": {},
     "output_type": "display_data"
    },
    {
     "data": {
      "image/png": "[encoded data removed]",
      "text/plain": [
       "<Figure size 640x480 with 1 Axes>"
      ]
     },
     "metadata": {},
     "output_type": "display_data"
    }
   ],
   "source": [
    "# Average of DV \"winpercent\"\n",
    "print(\"The average is \" + str(np.mean(df_candy[\"winpercent\"])))\n",
    "\n",
    "# Median of DV \"winpercent\"\n",
    "print(\"The median is \" + str(np.median(df_candy[\"winpercent\"])))\n",
    "\n",
    "# Check boxplot DV \"winpercent\"\n",
    "plt.boxplot(df_candy[\"winpercent\"], vert = 0)\n",
    "plt.title(\"Boxplot of Winpercent\")\n",
    "plt.xlabel(\"Winpercent\")\n",
    "plt.show()\n",
    "\n",
    "# Inspect histogram of DV \"winpercent\" \n",
    "plt.hist(df_candy[\"winpercent\"])\n",
    "plt.title(\"Histogram of winpercent\")\n",
    "plt.xlabel(\"winpercent\")\n",
    "plt.ylabel(\"Frequency\")\n",
    "plt.show()"
   ]
  },
  {
   "cell_type": "code",
   "execution_count": 6,
   "id": "2f53138e",
   "metadata": {},
   "outputs": [
    {
     "name": "stdout",
     "output_type": "stream",
     "text": [
      "The average is 0.4786470514588235\n",
      "The median is 0.465\n"
     ]
    },
    {
     "data": {
      "image/png": "[encoded data removed]",
      "text/plain": [
       "<Figure size 640x480 with 1 Axes>"
      ]
     },
     "metadata": {},
     "output_type": "display_data"
    },
    {
     "data": {
      "image/png": "[encoded data removed]",
      "text/plain": [
       "<Figure size 640x480 with 1 Axes>"
      ]
     },
     "metadata": {},
     "output_type": "display_data"
    }
   ],
   "source": [
    "# Average of IV \"sugarpercent\"\n",
    "print(\"The average is \" + str(np.mean(df_candy[\"sugarpercent\"])))\n",
    "\n",
    "# Median of IV \"sugarpercent\"\n",
    "print(\"The median is \" + str(np.median(df_candy[\"sugarpercent\"])))\n",
    "\n",
    "# Check boxplot IV \"sugarpercent\" \n",
    "plt.boxplot(df_candy[\"sugarpercent\"], vert = 0)\n",
    "plt.title(\"Boxplot of sugarpercent\")\n",
    "plt.xlabel(\"sugarpercent\")\n",
    "plt.show()\n",
    "\n",
    "# Inspect histogram of IV \"sugarpercent\"\n",
    "plt.hist(df_candy[\"sugarpercent\"])\n",
    "plt.title(\"Histogram of sugarpercent\")\n",
    "plt.xlabel(\"sugarpercent\")\n",
    "plt.ylabel(\"Frequency\")\n",
    "plt.show()"
   ]
  },
  {
   "cell_type": "code",
   "execution_count": 7,
   "id": "b9e795b6",
   "metadata": {},
   "outputs": [
    {
     "name": "stdout",
     "output_type": "stream",
     "text": [
      "The average is 0.46888235249411764\n",
      "The median is 0.465\n"
     ]
    },
    {
     "data": {
      "image/png": "[encoded data removed]",
      "text/plain": [
       "<Figure size 640x480 with 1 Axes>"
      ]
     },
     "metadata": {},
     "output_type": "display_data"
    },
    {
     "data": {
      "image/png": "[encoded data removed]",
      "text/plain": [
       "<Figure size 640x480 with 1 Axes>"
      ]
     },
     "metadata": {},
     "output_type": "display_data"
    }
   ],
   "source": [
    "# Average of IV \"pricepercent\"\n",
    "print(\"The average is \" + str(np.mean(df_candy[\"pricepercent\"])))\n",
    "\n",
    "# Median of IV \"pricepercent\"\n",
    "print(\"The median is \" + str(np.median(df_candy[\"pricepercent\"])))\n",
    "\n",
    "# Check boxplot IV \"pricepercent\"\n",
    "plt.boxplot(df_candy[\"pricepercent\"], vert = 0)\n",
    "plt.title(\"Boxplot of pricepercent\")\n",
    "plt.xlabel(\"pricepercent\")\n",
    "plt.show()\n",
    "\n",
    "# Inspect histogram of IV \"pricepercent\"\n",
    "plt.hist(df_candy[\"pricepercent\"])\n",
    "plt.title(\"Histogram of pricepercent\")\n",
    "plt.xlabel(\"pricepercent\")\n",
    "plt.ylabel(\"Frequency\")\n",
    "plt.show()"
   ]
  },
  {
   "cell_type": "code",
   "execution_count": 8,
   "id": "cedfc435",
   "metadata": {},
   "outputs": [
    {
     "name": "stdout",
     "output_type": "stream",
     "text": [
      "How high is the proportion of candies that have the following characteristics?\n",
      "\n",
      "chocolate candy: 0.43529411764705883\n",
      "fruity candy: 0.4470588235294118\n",
      "caramel candy: 0.16470588235294117\n",
      "peanutyalmondy candy: 0.16470588235294117\n",
      "nougat: 0.08235294117647059\n",
      "crispedricewafer: 0.08235294117647059\n",
      "hard: 0.17647058823529413\n",
      "bar: 0.24705882352941178\n",
      "pluribus: 0.5176470588235295\n"
     ]
    }
   ],
   "source": [
    "# Find out proportion of my dichotomous IVs\n",
    "print(\"How high is the proportion of candies that have the following characteristics?\")\n",
    "print()\n",
    "print(\"chocolate candy: \" + str(np.mean(df_candy[\"chocolate\"])))\n",
    "print(\"fruity candy: \" + str(np.mean(df_candy[\"fruity\"])))\n",
    "print(\"caramel candy: \" + str(np.mean(df_candy[\"caramel\"])))\n",
    "print(\"peanutyalmondy candy: \" + str(np.mean(df_candy[\"peanutyalmondy\"])))\n",
    "print(\"nougat: \" + str(np.mean(df_candy[\"nougat\"])))\n",
    "print(\"crispedricewafer: \" + str(np.mean(df_candy[\"crispedricewafer\"])))\n",
    "print(\"hard: \" + str(np.mean(df_candy[\"hard\"])))\n",
    "print(\"bar: \" + str(np.mean(df_candy[\"bar\"])))\n",
    "print(\"pluribus: \" + str(np.mean(df_candy[\"pluribus\"])))\n",
    "\n",
    "# Maybe I could have solved this with a loop, but time is too short to experiment... "
   ]
  },
  {
   "cell_type": "markdown",
   "id": "f38c652d",
   "metadata": {},
   "source": [
    "# Check assumption: No Multicolinearity\n",
    "\n",
    "look at correlation coefficients"
   ]
  },
  {
   "cell_type": "code",
   "execution_count": 9,
   "id": "e8bb7c73",
   "metadata": {},
   "outputs": [
    {
     "data": {
      "text/html": [
       "<div>\n",
       "<style scoped>\n",
       "    .dataframe tbody tr th:only-of-type {\n",
       "        vertical-align: middle;\n",
       "    }\n",
       "\n",
       "    .dataframe tbody tr th {\n",
       "        vertical-align: top;\n",
       "    }\n",
       "\n",
       "    .dataframe thead th {\n",
       "        text-align: right;\n",
       "    }\n",
       "</style>\n",
       "<table border=\"1\" class=\"dataframe\">\n",
       "  <thead>\n",
       "    <tr style=\"text-align: right;\">\n",
       "      <th></th>\n",
       "      <th>chocolate</th>\n",
       "      <th>fruity</th>\n",
       "      <th>caramel</th>\n",
       "      <th>peanutyalmondy</th>\n",
       "      <th>nougat</th>\n",
       "      <th>crispedricewafer</th>\n",
       "      <th>hard</th>\n",
       "      <th>bar</th>\n",
       "      <th>pluribus</th>\n",
       "      <th>sugarpercent</th>\n",
       "      <th>pricepercent</th>\n",
       "      <th>winpercent</th>\n",
       "    </tr>\n",
       "  </thead>\n",
       "  <tbody>\n",
       "    <tr>\n",
       "      <th>chocolate</th>\n",
       "      <td>1.000000</td>\n",
       "      <td>-0.741721</td>\n",
       "      <td>0.249875</td>\n",
       "      <td>0.377824</td>\n",
       "      <td>0.254892</td>\n",
       "      <td>0.341210</td>\n",
       "      <td>-0.344177</td>\n",
       "      <td>0.597421</td>\n",
       "      <td>-0.339675</td>\n",
       "      <td>0.104169</td>\n",
       "      <td>0.504675</td>\n",
       "      <td>0.636517</td>\n",
       "    </tr>\n",
       "    <tr>\n",
       "      <th>fruity</th>\n",
       "      <td>-0.741721</td>\n",
       "      <td>1.000000</td>\n",
       "      <td>-0.335485</td>\n",
       "      <td>-0.399280</td>\n",
       "      <td>-0.269367</td>\n",
       "      <td>-0.269367</td>\n",
       "      <td>0.390678</td>\n",
       "      <td>-0.515066</td>\n",
       "      <td>0.299725</td>\n",
       "      <td>-0.034393</td>\n",
       "      <td>-0.430969</td>\n",
       "      <td>-0.380938</td>\n",
       "    </tr>\n",
       "    <tr>\n",
       "      <th>caramel</th>\n",
       "      <td>0.249875</td>\n",
       "      <td>-0.335485</td>\n",
       "      <td>1.000000</td>\n",
       "      <td>0.059356</td>\n",
       "      <td>0.328493</td>\n",
       "      <td>0.213113</td>\n",
       "      <td>-0.122355</td>\n",
       "      <td>0.333960</td>\n",
       "      <td>-0.269585</td>\n",
       "      <td>0.221933</td>\n",
       "      <td>0.254327</td>\n",
       "      <td>0.213416</td>\n",
       "    </tr>\n",
       "    <tr>\n",
       "      <th>peanutyalmondy</th>\n",
       "      <td>0.377824</td>\n",
       "      <td>-0.399280</td>\n",
       "      <td>0.059356</td>\n",
       "      <td>1.000000</td>\n",
       "      <td>0.213113</td>\n",
       "      <td>-0.017646</td>\n",
       "      <td>-0.205557</td>\n",
       "      <td>0.260420</td>\n",
       "      <td>-0.206109</td>\n",
       "      <td>0.087889</td>\n",
       "      <td>0.309153</td>\n",
       "      <td>0.406192</td>\n",
       "    </tr>\n",
       "    <tr>\n",
       "      <th>nougat</th>\n",
       "      <td>0.254892</td>\n",
       "      <td>-0.269367</td>\n",
       "      <td>0.328493</td>\n",
       "      <td>0.213113</td>\n",
       "      <td>1.000000</td>\n",
       "      <td>-0.089744</td>\n",
       "      <td>-0.138675</td>\n",
       "      <td>0.522976</td>\n",
       "      <td>-0.310339</td>\n",
       "      <td>0.123081</td>\n",
       "      <td>0.153196</td>\n",
       "      <td>0.199375</td>\n",
       "    </tr>\n",
       "    <tr>\n",
       "      <th>crispedricewafer</th>\n",
       "      <td>0.341210</td>\n",
       "      <td>-0.269367</td>\n",
       "      <td>0.213113</td>\n",
       "      <td>-0.017646</td>\n",
       "      <td>-0.089744</td>\n",
       "      <td>1.000000</td>\n",
       "      <td>-0.138675</td>\n",
       "      <td>0.423751</td>\n",
       "      <td>-0.224693</td>\n",
       "      <td>0.069950</td>\n",
       "      <td>0.328265</td>\n",
       "      <td>0.324680</td>\n",
       "    </tr>\n",
       "    <tr>\n",
       "      <th>hard</th>\n",
       "      <td>-0.344177</td>\n",
       "      <td>0.390678</td>\n",
       "      <td>-0.122355</td>\n",
       "      <td>-0.205557</td>\n",
       "      <td>-0.138675</td>\n",
       "      <td>-0.138675</td>\n",
       "      <td>1.000000</td>\n",
       "      <td>-0.265165</td>\n",
       "      <td>0.014532</td>\n",
       "      <td>0.091810</td>\n",
       "      <td>-0.244365</td>\n",
       "      <td>-0.310382</td>\n",
       "    </tr>\n",
       "    <tr>\n",
       "      <th>bar</th>\n",
       "      <td>0.597421</td>\n",
       "      <td>-0.515066</td>\n",
       "      <td>0.333960</td>\n",
       "      <td>0.260420</td>\n",
       "      <td>0.522976</td>\n",
       "      <td>0.423751</td>\n",
       "      <td>-0.265165</td>\n",
       "      <td>1.000000</td>\n",
       "      <td>-0.593409</td>\n",
       "      <td>0.099985</td>\n",
       "      <td>0.518407</td>\n",
       "      <td>0.429929</td>\n",
       "    </tr>\n",
       "    <tr>\n",
       "      <th>pluribus</th>\n",
       "      <td>-0.339675</td>\n",
       "      <td>0.299725</td>\n",
       "      <td>-0.269585</td>\n",
       "      <td>-0.206109</td>\n",
       "      <td>-0.310339</td>\n",
       "      <td>-0.224693</td>\n",
       "      <td>0.014532</td>\n",
       "      <td>-0.593409</td>\n",
       "      <td>1.000000</td>\n",
       "      <td>0.045523</td>\n",
       "      <td>-0.220794</td>\n",
       "      <td>-0.247448</td>\n",
       "    </tr>\n",
       "    <tr>\n",
       "      <th>sugarpercent</th>\n",
       "      <td>0.104169</td>\n",
       "      <td>-0.034393</td>\n",
       "      <td>0.221933</td>\n",
       "      <td>0.087889</td>\n",
       "      <td>0.123081</td>\n",
       "      <td>0.069950</td>\n",
       "      <td>0.091810</td>\n",
       "      <td>0.099985</td>\n",
       "      <td>0.045523</td>\n",
       "      <td>1.000000</td>\n",
       "      <td>0.329706</td>\n",
       "      <td>0.229151</td>\n",
       "    </tr>\n",
       "    <tr>\n",
       "      <th>pricepercent</th>\n",
       "      <td>0.504675</td>\n",
       "      <td>-0.430969</td>\n",
       "      <td>0.254327</td>\n",
       "      <td>0.309153</td>\n",
       "      <td>0.153196</td>\n",
       "      <td>0.328265</td>\n",
       "      <td>-0.244365</td>\n",
       "      <td>0.518407</td>\n",
       "      <td>-0.220794</td>\n",
       "      <td>0.329706</td>\n",
       "      <td>1.000000</td>\n",
       "      <td>0.345325</td>\n",
       "    </tr>\n",
       "    <tr>\n",
       "      <th>winpercent</th>\n",
       "      <td>0.636517</td>\n",
       "      <td>-0.380938</td>\n",
       "      <td>0.213416</td>\n",
       "      <td>0.406192</td>\n",
       "      <td>0.199375</td>\n",
       "      <td>0.324680</td>\n",
       "      <td>-0.310382</td>\n",
       "      <td>0.429929</td>\n",
       "      <td>-0.247448</td>\n",
       "      <td>0.229151</td>\n",
       "      <td>0.345325</td>\n",
       "      <td>1.000000</td>\n",
       "    </tr>\n",
       "  </tbody>\n",
       "</table>\n",
       "</div>"
      ],
      "text/plain": [
       "                  chocolate    fruity   caramel  peanutyalmondy    nougat  \\\n",
       "chocolate          1.000000 -0.741721  0.249875        0.377824  0.254892   \n",
       "fruity            -0.741721  1.000000 -0.335485       -0.399280 -0.269367   \n",
       "caramel            0.249875 -0.335485  1.000000        0.059356  0.328493   \n",
       "peanutyalmondy     0.377824 -0.399280  0.059356        1.000000  0.213113   \n",
       "nougat             0.254892 -0.269367  0.328493        0.213113  1.000000   \n",
       "crispedricewafer   0.341210 -0.269367  0.213113       -0.017646 -0.089744   \n",
       "hard              -0.344177  0.390678 -0.122355       -0.205557 -0.138675   \n",
       "bar                0.597421 -0.515066  0.333960        0.260420  0.522976   \n",
       "pluribus          -0.339675  0.299725 -0.269585       -0.206109 -0.310339   \n",
       "sugarpercent       0.104169 -0.034393  0.221933        0.087889  0.123081   \n",
       "pricepercent       0.504675 -0.430969  0.254327        0.309153  0.153196   \n",
       "winpercent         0.636517 -0.380938  0.213416        0.406192  0.199375   \n",
       "\n",
       "                  crispedricewafer      hard       bar  pluribus  \\\n",
       "chocolate                 0.341210 -0.344177  0.597421 -0.339675   \n",
       "fruity                   -0.269367  0.390678 -0.515066  0.299725   \n",
       "caramel                   0.213113 -0.122355  0.333960 -0.269585   \n",
       "peanutyalmondy           -0.017646 -0.205557  0.260420 -0.206109   \n",
       "nougat                   -0.089744 -0.138675  0.522976 -0.310339   \n",
       "crispedricewafer          1.000000 -0.138675  0.423751 -0.224693   \n",
       "hard                     -0.138675  1.000000 -0.265165  0.014532   \n",
       "bar                       0.423751 -0.265165  1.000000 -0.593409   \n",
       "pluribus                 -0.224693  0.014532 -0.593409  1.000000   \n",
       "sugarpercent              0.069950  0.091810  0.099985  0.045523   \n",
       "pricepercent              0.328265 -0.244365  0.518407 -0.220794   \n",
       "winpercent                0.324680 -0.310382  0.429929 -0.247448   \n",
       "\n",
       "                  sugarpercent  pricepercent  winpercent  \n",
       "chocolate             0.104169      0.504675    0.636517  \n",
       "fruity               -0.034393     -0.430969   -0.380938  \n",
       "caramel               0.221933      0.254327    0.213416  \n",
       "peanutyalmondy        0.087889      0.309153    0.406192  \n",
       "nougat                0.123081      0.153196    0.199375  \n",
       "crispedricewafer      0.069950      0.328265    0.324680  \n",
       "hard                  0.091810     -0.244365   -0.310382  \n",
       "bar                   0.099985      0.518407    0.429929  \n",
       "pluribus              0.045523     -0.220794   -0.247448  \n",
       "sugarpercent          1.000000      0.329706    0.229151  \n",
       "pricepercent          0.329706      1.000000    0.345325  \n",
       "winpercent            0.229151      0.345325    1.000000  "
      ]
     },
     "execution_count": 9,
     "metadata": {},
     "output_type": "execute_result"
    }
   ],
   "source": [
    "df_candy.corr(numeric_only=True)"
   ]
  },
  {
   "cell_type": "code",
   "execution_count": 10,
   "id": "7a296ac0",
   "metadata": {},
   "outputs": [],
   "source": [
    "# The correlation coefficients were not extremely high (highest \"chocolate\" & \"fruity\" = -0.742); therefore, we can assume no multicolinearity"
   ]
  },
  {
   "cell_type": "markdown",
   "id": "34d352b5",
   "metadata": {},
   "source": [
    "# Check assumption: Linear relationship DV and IVs\n",
    "\n",
    "Plot some scatterplots to visualize the correlations (makes little sense for the dichotomous variables):"
   ]
  },
  {
   "cell_type": "code",
   "execution_count": 11,
   "id": "e9055570",
   "metadata": {},
   "outputs": [
    {
     "data": {
      "image/png": "[encoded data removed]",
      "text/plain": [
       "<Figure size 640x480 with 1 Axes>"
      ]
     },
     "metadata": {},
     "output_type": "display_data"
    }
   ],
   "source": [
    "# Create a scatterplot of sugarpercent vs. winpercent\n",
    "sns.regplot(x=\"sugarpercent\", y=\"winpercent\", data=df_candy)\n",
    "\n",
    "# Add axis labels and a title\n",
    "plt.xlabel(\"Sugarpercent\")\n",
    "plt.ylabel(\"Winpercent\")\n",
    "plt.title(\"Scatterplot of Sugarpercent vs. Winpercent\")\n",
    "\n",
    "# Show the plot\n",
    "plt.show()"
   ]
  },
  {
   "cell_type": "code",
   "execution_count": 12,
   "id": "b5386650",
   "metadata": {},
   "outputs": [
    {
     "data": {
      "image/png": "[encoded data removed]",
      "text/plain": [
       "<Figure size 640x480 with 1 Axes>"
      ]
     },
     "metadata": {},
     "output_type": "display_data"
    }
   ],
   "source": [
    "# Create a scatterplot of sugarpercent vs. winpercent\n",
    "sns.regplot(x=\"pricepercent\", y=\"winpercent\", data=df_candy)\n",
    "\n",
    "# Add axis labels and a title\n",
    "plt.xlabel(\"Pricepercent\")\n",
    "plt.ylabel(\"Winpercent\")\n",
    "plt.title(\"Scatterplot of Pricepercent vs. Winpercent\")\n",
    "\n",
    "# Show the plot\n",
    "plt.show()"
   ]
  },
  {
   "cell_type": "code",
   "execution_count": 13,
   "id": "ebb0137a",
   "metadata": {},
   "outputs": [],
   "source": [
    "# Scatterplots indicate linear relationship between IVs and DV"
   ]
  },
  {
   "cell_type": "markdown",
   "id": "eac23087",
   "metadata": {},
   "source": [
    "# 1. Mit scipy\n",
    "\n",
    "# Multiple Linear Regression Analysis"
   ]
  },
  {
   "cell_type": "code",
   "execution_count": 14,
   "id": "df659569",
   "metadata": {},
   "outputs": [
    {
     "data": {
      "text/html": [
       "<div>\n",
       "<style scoped>\n",
       "    .dataframe tbody tr th:only-of-type {\n",
       "        vertical-align: middle;\n",
       "    }\n",
       "\n",
       "    .dataframe tbody tr th {\n",
       "        vertical-align: top;\n",
       "    }\n",
       "\n",
       "    .dataframe thead th {\n",
       "        text-align: right;\n",
       "    }\n",
       "</style>\n",
       "<table border=\"1\" class=\"dataframe\">\n",
       "  <thead>\n",
       "    <tr style=\"text-align: right;\">\n",
       "      <th></th>\n",
       "      <th>x1_choc</th>\n",
       "      <th>x2_fruity</th>\n",
       "      <th>x3_caramel</th>\n",
       "      <th>x4_peanuty</th>\n",
       "      <th>x5_nougat</th>\n",
       "      <th>x6_crisped</th>\n",
       "      <th>x7_hard</th>\n",
       "      <th>x8_bar</th>\n",
       "      <th>x9_pluribus</th>\n",
       "      <th>x10_sugar</th>\n",
       "      <th>x11_price</th>\n",
       "      <th>y_win</th>\n",
       "    </tr>\n",
       "  </thead>\n",
       "  <tbody>\n",
       "    <tr>\n",
       "      <th>0</th>\n",
       "      <td>1</td>\n",
       "      <td>0</td>\n",
       "      <td>1</td>\n",
       "      <td>0</td>\n",
       "      <td>0</td>\n",
       "      <td>1</td>\n",
       "      <td>0</td>\n",
       "      <td>1</td>\n",
       "      <td>0</td>\n",
       "      <td>0.732</td>\n",
       "      <td>0.860</td>\n",
       "      <td>66.971725</td>\n",
       "    </tr>\n",
       "    <tr>\n",
       "      <th>1</th>\n",
       "      <td>1</td>\n",
       "      <td>0</td>\n",
       "      <td>0</td>\n",
       "      <td>0</td>\n",
       "      <td>1</td>\n",
       "      <td>0</td>\n",
       "      <td>0</td>\n",
       "      <td>1</td>\n",
       "      <td>0</td>\n",
       "      <td>0.604</td>\n",
       "      <td>0.511</td>\n",
       "      <td>67.602936</td>\n",
       "    </tr>\n",
       "    <tr>\n",
       "      <th>2</th>\n",
       "      <td>0</td>\n",
       "      <td>0</td>\n",
       "      <td>0</td>\n",
       "      <td>0</td>\n",
       "      <td>0</td>\n",
       "      <td>0</td>\n",
       "      <td>0</td>\n",
       "      <td>0</td>\n",
       "      <td>0</td>\n",
       "      <td>0.011</td>\n",
       "      <td>0.116</td>\n",
       "      <td>32.261086</td>\n",
       "    </tr>\n",
       "  </tbody>\n",
       "</table>\n",
       "</div>"
      ],
      "text/plain": [
       "   x1_choc  x2_fruity  x3_caramel  x4_peanuty  x5_nougat  x6_crisped  x7_hard  \\\n",
       "0        1          0           1           0          0           1        0   \n",
       "1        1          0           0           0          1           0        0   \n",
       "2        0          0           0           0          0           0        0   \n",
       "\n",
       "   x8_bar  x9_pluribus  x10_sugar  x11_price      y_win  \n",
       "0       1            0      0.732      0.860  66.971725  \n",
       "1       1            0      0.604      0.511  67.602936  \n",
       "2       0            0      0.011      0.116  32.261086  "
      ]
     },
     "execution_count": 14,
     "metadata": {},
     "output_type": "execute_result"
    }
   ],
   "source": [
    "# Clarify my Criterion and my Predictors\n",
    "\n",
    "y_win = df_candy[\"winpercent\"]\n",
    "x1_choc = df_candy[\"chocolate\"]\n",
    "x2_fruity = df_candy[\"fruity\"]\n",
    "x3_caramel = df_candy[\"caramel\"]\n",
    "x4_peanuty = df_candy[\"peanutyalmondy\"]\n",
    "x5_nougat = df_candy[\"nougat\"]\n",
    "x6_crisped = df_candy[\"crispedricewafer\"]\n",
    "x7_hard = df_candy[\"hard\"]\n",
    "x8_bar = df_candy[\"bar\"]\n",
    "x9_pluribus = df_candy[\"pluribus\"]\n",
    "x10_sugar = df_candy[\"sugarpercent\"]\n",
    "x11_price = df_candy[\"pricepercent\"]\n",
    "\n",
    "mlr_candy = pd.concat([x1_choc, x2_fruity, x3_caramel, x4_peanuty, x5_nougat, x6_crisped, x7_hard, x8_bar, x9_pluribus, x10_sugar, x11_price, y_win], axis=1, keys=[\"x1_choc\", \"x2_fruity\", \"x3_caramel\", \"x4_peanuty\", \"x5_nougat\", \"x6_crisped\", \"x7_hard\", \"x8_bar\", \"x9_pluribus\", \"x10_sugar\", \"x11_price\", \"y_win\"])\n",
    "mlr_candy.head(3)\n"
   ]
  },
  {
   "cell_type": "code",
   "execution_count": 15,
   "id": "fff54439",
   "metadata": {},
   "outputs": [
    {
     "data": {
      "text/html": [
       "<table class=\"simpletable\">\n",
       "<caption>OLS Regression Results</caption>\n",
       "<tr>\n",
       "  <th>Dep. Variable:</th>          <td>y_win</td>      <th>  R-squared:         </th> <td>   0.540</td>\n",
       "</tr>\n",
       "<tr>\n",
       "  <th>Model:</th>                   <td>OLS</td>       <th>  Adj. R-squared:    </th> <td>   0.471</td>\n",
       "</tr>\n",
       "<tr>\n",
       "  <th>Method:</th>             <td>Least Squares</td>  <th>  F-statistic:       </th> <td>   7.797</td>\n",
       "</tr>\n",
       "<tr>\n",
       "  <th>Date:</th>             <td>Sun, 26 Feb 2023</td> <th>  Prob (F-statistic):</th> <td>9.50e-09</td>\n",
       "</tr>\n",
       "<tr>\n",
       "  <th>Time:</th>                 <td>17:05:16</td>     <th>  Log-Likelihood:    </th> <td> -315.64</td>\n",
       "</tr>\n",
       "<tr>\n",
       "  <th>No. Observations:</th>      <td>    85</td>      <th>  AIC:               </th> <td>   655.3</td>\n",
       "</tr>\n",
       "<tr>\n",
       "  <th>Df Residuals:</th>          <td>    73</td>      <th>  BIC:               </th> <td>   684.6</td>\n",
       "</tr>\n",
       "<tr>\n",
       "  <th>Df Model:</th>              <td>    11</td>      <th>                     </th>     <td> </td>   \n",
       "</tr>\n",
       "<tr>\n",
       "  <th>Covariance Type:</th>      <td>nonrobust</td>    <th>                     </th>     <td> </td>   \n",
       "</tr>\n",
       "</table>\n",
       "<table class=\"simpletable\">\n",
       "<tr>\n",
       "       <td></td>          <th>coef</th>     <th>std err</th>      <th>t</th>      <th>P>|t|</th>  <th>[0.025</th>    <th>0.975]</th>  \n",
       "</tr>\n",
       "<tr>\n",
       "  <th>Intercept</th>   <td>   34.5340</td> <td>    4.320</td> <td>    7.994</td> <td> 0.000</td> <td>   25.924</td> <td>   43.144</td>\n",
       "</tr>\n",
       "<tr>\n",
       "  <th>x1_choc</th>     <td>   19.7481</td> <td>    3.899</td> <td>    5.065</td> <td> 0.000</td> <td>   11.978</td> <td>   27.518</td>\n",
       "</tr>\n",
       "<tr>\n",
       "  <th>x2_fruity</th>   <td>    9.4223</td> <td>    3.763</td> <td>    2.504</td> <td> 0.015</td> <td>    1.923</td> <td>   16.922</td>\n",
       "</tr>\n",
       "<tr>\n",
       "  <th>x3_caramel</th>  <td>    2.2245</td> <td>    3.657</td> <td>    0.608</td> <td> 0.545</td> <td>   -5.065</td> <td>    9.514</td>\n",
       "</tr>\n",
       "<tr>\n",
       "  <th>x4_peanuty</th>  <td>   10.0707</td> <td>    3.616</td> <td>    2.785</td> <td> 0.007</td> <td>    2.864</td> <td>   17.277</td>\n",
       "</tr>\n",
       "<tr>\n",
       "  <th>x5_nougat</th>   <td>    0.8043</td> <td>    5.716</td> <td>    0.141</td> <td> 0.888</td> <td>  -10.588</td> <td>   12.197</td>\n",
       "</tr>\n",
       "<tr>\n",
       "  <th>x6_crisped</th>  <td>    8.9190</td> <td>    5.268</td> <td>    1.693</td> <td> 0.095</td> <td>   -1.580</td> <td>   19.418</td>\n",
       "</tr>\n",
       "<tr>\n",
       "  <th>x7_hard</th>     <td>   -6.1653</td> <td>    3.455</td> <td>   -1.784</td> <td> 0.079</td> <td>  -13.051</td> <td>    0.721</td>\n",
       "</tr>\n",
       "<tr>\n",
       "  <th>x8_bar</th>      <td>    0.4415</td> <td>    5.061</td> <td>    0.087</td> <td> 0.931</td> <td>   -9.645</td> <td>   10.528</td>\n",
       "</tr>\n",
       "<tr>\n",
       "  <th>x9_pluribus</th> <td>   -0.8545</td> <td>    3.040</td> <td>   -0.281</td> <td> 0.779</td> <td>   -6.913</td> <td>    5.204</td>\n",
       "</tr>\n",
       "<tr>\n",
       "  <th>x10_sugar</th>   <td>    9.0868</td> <td>    4.659</td> <td>    1.950</td> <td> 0.055</td> <td>   -0.200</td> <td>   18.373</td>\n",
       "</tr>\n",
       "<tr>\n",
       "  <th>x11_price</th>   <td>   -5.9284</td> <td>    5.513</td> <td>   -1.075</td> <td> 0.286</td> <td>  -16.916</td> <td>    5.060</td>\n",
       "</tr>\n",
       "</table>\n",
       "<table class=\"simpletable\">\n",
       "<tr>\n",
       "  <th>Omnibus:</th>       <td> 1.025</td> <th>  Durbin-Watson:     </th> <td>   1.728</td>\n",
       "</tr>\n",
       "<tr>\n",
       "  <th>Prob(Omnibus):</th> <td> 0.599</td> <th>  Jarque-Bera (JB):  </th> <td>   1.000</td>\n",
       "</tr>\n",
       "<tr>\n",
       "  <th>Skew:</th>          <td>-0.104</td> <th>  Prob(JB):          </th> <td>   0.606</td>\n",
       "</tr>\n",
       "<tr>\n",
       "  <th>Kurtosis:</th>      <td> 2.511</td> <th>  Cond. No.          </th> <td>    10.0</td>\n",
       "</tr>\n",
       "</table><br/><br/>Notes:<br/>[1] Standard Errors assume that the covariance matrix of the errors is correctly specified."
      ],
      "text/plain": [
       "<class 'statsmodels.iolib.summary.Summary'>\n",
       "\"\"\"\n",
       "                            OLS Regression Results                            \n",
       "==============================================================================\n",
       "Dep. Variable:                  y_win   R-squared:                       0.540\n",
       "Model:                            OLS   Adj. R-squared:                  0.471\n",
       "Method:                 Least Squares   F-statistic:                     7.797\n",
       "Date:                Sun, 26 Feb 2023   Prob (F-statistic):           9.50e-09\n",
       "Time:                        17:05:16   Log-Likelihood:                -315.64\n",
       "No. Observations:                  85   AIC:                             655.3\n",
       "Df Residuals:                      73   BIC:                             684.6\n",
       "Df Model:                          11                                         \n",
       "Covariance Type:            nonrobust                                         \n",
       "===============================================================================\n",
       "                  coef    std err          t      P>|t|      [0.025      0.975]\n",
       "-------------------------------------------------------------------------------\n",
       "Intercept      34.5340      4.320      7.994      0.000      25.924      43.144\n",
       "x1_choc        19.7481      3.899      5.065      0.000      11.978      27.518\n",
       "x2_fruity       9.4223      3.763      2.504      0.015       1.923      16.922\n",
       "x3_caramel      2.2245      3.657      0.608      0.545      -5.065       9.514\n",
       "x4_peanuty     10.0707      3.616      2.785      0.007       2.864      17.277\n",
       "x5_nougat       0.8043      5.716      0.141      0.888     -10.588      12.197\n",
       "x6_crisped      8.9190      5.268      1.693      0.095      -1.580      19.418\n",
       "x7_hard        -6.1653      3.455     -1.784      0.079     -13.051       0.721\n",
       "x8_bar          0.4415      5.061      0.087      0.931      -9.645      10.528\n",
       "x9_pluribus    -0.8545      3.040     -0.281      0.779      -6.913       5.204\n",
       "x10_sugar       9.0868      4.659      1.950      0.055      -0.200      18.373\n",
       "x11_price      -5.9284      5.513     -1.075      0.286     -16.916       5.060\n",
       "==============================================================================\n",
       "Omnibus:                        1.025   Durbin-Watson:                   1.728\n",
       "Prob(Omnibus):                  0.599   Jarque-Bera (JB):                1.000\n",
       "Skew:                          -0.104   Prob(JB):                        0.606\n",
       "Kurtosis:                       2.511   Cond. No.                         10.0\n",
       "==============================================================================\n",
       "\n",
       "Notes:\n",
       "[1] Standard Errors assume that the covariance matrix of the errors is correctly specified.\n",
       "\"\"\""
      ]
     },
     "execution_count": 15,
     "metadata": {},
     "output_type": "execute_result"
    }
   ],
   "source": [
    "fit_mlr_candy = smf.ols(\"y_win ~ x1_choc + x2_fruity + x3_caramel + x4_peanuty + x5_nougat + x6_crisped + x7_hard + x8_bar + x9_pluribus + x10_sugar + x11_price\", mlr_candy).fit()\n",
    "fit_mlr_candy.summary()"
   ]
  },
  {
   "cell_type": "code",
   "execution_count": 16,
   "id": "2428818a",
   "metadata": {},
   "outputs": [],
   "source": [
    "# Notes to myself:\n",
    "# Rsquared=0.540 (probably positively biased), adjusted Rsquared=0.471 (more accurate)\n",
    "# adjusted Rsquared=0.471 says that adding all my IVs to the model explains 47.1% of variation in my DV; that's a good effect size\n",
    "# Prob(F-statistic) = p = 9.5e^-9 =0.00117239313, thats significant using alpha = 0.05"
   ]
  },
  {
   "cell_type": "code",
   "execution_count": 17,
   "id": "6a24c29e",
   "metadata": {},
   "outputs": [
    {
     "name": "stdout",
     "output_type": "stream",
     "text": [
      "Intercept      34.533978\n",
      "x1_choc        19.748067\n",
      "x2_fruity       9.422322\n",
      "x3_caramel      2.224481\n",
      "x4_peanuty     10.070688\n",
      "x5_nougat       0.804331\n",
      "x6_crisped      8.918970\n",
      "x7_hard        -6.165327\n",
      "x8_bar          0.441540\n",
      "x9_pluribus    -0.854500\n",
      "x10_sugar       9.086763\n",
      "x11_price      -5.928361\n",
      "dtype: float64\n"
     ]
    }
   ],
   "source": [
    "regression_coefficients_smf = fit_mlr_candy.params\n",
    "print(regression_coefficients_smf)"
   ]
  },
  {
   "cell_type": "markdown",
   "id": "2c84ddc2",
   "metadata": {},
   "source": [
    "# Check assumption: Independence of observations\n",
    "\n",
    "look at Durban-Watson score"
   ]
  },
  {
   "cell_type": "code",
   "execution_count": 18,
   "id": "2bb965bd",
   "metadata": {},
   "outputs": [],
   "source": [
    "# Durban-Watson = 1.728\n",
    "# Theoretically the Durban-Watson score can range from 0-4. A Score close to 2 is desirable.\n",
    "# 1.728 is close to 2; therefore indicates independence of observations"
   ]
  },
  {
   "cell_type": "markdown",
   "id": "cce14a26",
   "metadata": {},
   "source": [
    "# ^^that was more or less how I would have done it with IBM SPSS\n",
    "\n",
    "# Now lets do this with sklearn"
   ]
  },
  {
   "cell_type": "code",
   "execution_count": 19,
   "id": "806bbab0",
   "metadata": {},
   "outputs": [
    {
     "name": "stdout",
     "output_type": "stream",
     "text": [
      "[[1.         0.         1.         0.         0.         1.\n",
      "  0.         1.         0.         0.73199999 0.86000001]\n",
      " [1.         0.         0.         0.         1.         0.\n",
      "  0.         1.         0.         0.60399997 0.51099998]\n",
      " [0.         0.         0.         0.         0.         0.\n",
      "  0.         0.         0.         0.011      0.116     ]\n",
      " [0.         0.         0.         0.         0.         0.\n",
      "  0.         0.         0.         0.011      0.51099998]\n",
      " [0.         1.         0.         0.         0.         0.\n",
      "  0.         0.         0.         0.90600002 0.51099998]\n",
      " [1.         0.         0.         1.         0.         0.\n",
      "  0.         1.         0.         0.465      0.76700002]\n",
      " [1.         0.         1.         1.         1.         0.\n",
      "  0.         1.         0.         0.60399997 0.76700002]\n",
      " [0.         0.         0.         1.         0.         0.\n",
      "  0.         0.         1.         0.31299999 0.51099998]\n",
      " [0.         0.         0.         0.         0.         0.\n",
      "  0.         0.         1.         0.90600002 0.32499999]\n",
      " [0.         1.         1.         0.         0.         0.\n",
      "  0.         0.         0.         0.60399997 0.32499999]\n",
      " [1.         0.         0.         0.         1.         0.\n",
      "  0.         1.         0.         0.60399997 0.51099998]\n",
      " [0.         1.         0.         0.         0.         0.\n",
      "  0.         0.         1.         0.73199999 0.51099998]\n",
      " [0.         1.         0.         0.         0.         0.\n",
      "  0.         0.         1.         0.046      0.32499999]\n",
      " [0.         1.         0.         0.         0.         0.\n",
      "  0.         0.         1.         0.73199999 0.51099998]\n",
      " [0.         1.         0.         0.         0.         0.\n",
      "  1.         0.         0.         0.73199999 0.034     ]\n",
      " [0.         1.         0.         0.         0.         0.\n",
      "  0.         0.         1.         0.127      0.034     ]\n",
      " [0.         1.         0.         0.         0.         0.\n",
      "  1.         0.         0.         0.73199999 0.32499999]\n",
      " [0.         1.         0.         0.         0.         0.\n",
      "  1.         0.         1.         0.90600002 0.45300001]\n",
      " [0.         1.         0.         0.         0.         0.\n",
      "  0.         0.         1.         0.465      0.465     ]\n",
      " [0.         0.         0.         0.         0.         0.\n",
      "  0.         0.         1.         0.465      0.465     ]\n",
      " [0.         1.         0.         0.         0.         0.\n",
      "  0.         0.         1.         0.465      0.465     ]\n",
      " [0.         1.         0.         0.         0.         0.\n",
      "  0.         0.         1.         0.465      0.465     ]\n",
      " [1.         0.         0.         0.         0.         0.\n",
      "  0.         0.         1.         0.127      0.093     ]\n",
      " [1.         0.         0.         0.         0.         1.\n",
      "  0.         1.         0.         0.43000001 0.91799998]\n",
      " [1.         0.         0.         0.         0.         0.\n",
      "  0.         1.         0.         0.43000001 0.91799998]\n",
      " [1.         0.         0.         0.         0.         0.\n",
      "  0.         1.         0.         0.43000001 0.91799998]\n",
      " [0.         1.         0.         0.         0.         0.\n",
      "  1.         0.         1.         0.093      0.51099998]\n",
      " [1.         0.         0.         0.         0.         0.\n",
      "  0.         0.         1.         0.197      0.51099998]\n",
      " [1.         0.         0.         0.         0.         1.\n",
      "  0.         1.         0.         0.31299999 0.51099998]\n",
      " [0.         1.         0.         0.         0.         0.\n",
      "  0.         0.         0.         0.22       0.116     ]\n",
      " [0.         1.         0.         0.         0.         0.\n",
      "  1.         0.         0.         0.046      0.104     ]\n",
      " [0.         1.         0.         0.         0.         0.\n",
      "  0.         0.         0.         0.26699999 0.27900001]\n",
      " [1.         0.         0.         1.         0.         0.\n",
      "  0.         0.         1.         0.82499999 0.65100002]\n",
      " [1.         0.         0.         0.         0.         0.\n",
      "  0.         0.         1.         0.82499999 0.65100002]\n",
      " [0.         1.         0.         0.         0.         0.\n",
      "  0.         0.         1.         0.87199998 0.32499999]\n",
      " [1.         0.         1.         0.         0.         0.\n",
      "  0.         0.         1.         0.30199999 0.51099998]\n",
      " [1.         0.         1.         0.         1.         0.\n",
      "  0.         1.         0.         0.60399997 0.65100002]\n",
      " [1.         0.         1.         0.         1.         0.\n",
      "  0.         1.         0.         0.73199999 0.44100001]\n",
      " [1.         0.         1.         0.         0.         0.\n",
      "  0.         1.         0.         0.96499997 0.86000001]\n",
      " [1.         0.         0.         0.         0.         0.\n",
      "  0.         1.         0.         0.31299999 0.86000001]\n",
      " [1.         0.         0.         1.         0.         0.\n",
      "  0.         1.         0.         0.31299999 0.91799998]\n",
      " [0.         1.         0.         0.         0.         0.\n",
      "  1.         0.         1.         0.84799999 0.32499999]\n",
      " [1.         0.         0.         1.         0.         0.\n",
      "  0.         1.         0.         0.60399997 0.76700002]\n",
      " [1.         0.         0.         0.         0.         1.\n",
      "  0.         1.         0.         0.31299999 0.76700002]\n",
      " [0.         1.         0.         0.         0.         0.\n",
      "  0.         0.         1.         0.197      0.97600001]\n",
      " [0.         1.         0.         0.         0.         0.\n",
      "  0.         0.         1.         0.22       0.32499999]\n",
      " [0.         0.         0.         1.         1.         0.\n",
      "  0.         1.         0.         0.465      0.76700002]\n",
      " [1.         0.         0.         1.         0.         0.\n",
      "  0.         0.         1.         0.59299999 0.65100002]\n",
      " [0.         0.         0.         0.         0.         0.\n",
      "  0.         0.         1.         0.093      0.023     ]\n",
      " [0.         1.         0.         0.         0.         0.\n",
      "  1.         0.         1.         0.60399997 0.83700001]\n",
      " [0.         1.         0.         0.         0.         0.\n",
      "  0.         0.         1.         0.58099997 0.116     ]\n",
      " [1.         0.         0.         1.         0.         0.\n",
      "  0.         0.         0.         0.034      0.27900001]\n",
      " [1.         0.         0.         1.         0.         0.\n",
      "  0.         0.         0.         0.72000003 0.65100002]\n",
      " [1.         0.         0.         1.         0.         0.\n",
      "  0.         0.         1.         0.40599999 0.65100002]\n",
      " [1.         0.         0.         1.         0.         0.\n",
      "  0.         0.         0.         0.98799998 0.65100002]\n",
      " [0.         1.         0.         0.         0.         0.\n",
      "  1.         0.         0.         0.73199999 0.96499997]\n",
      " [1.         0.         1.         0.         0.         0.\n",
      "  0.         0.         1.         0.86000001 0.86000001]\n",
      " [0.         0.         0.         0.         0.         0.\n",
      "  1.         0.         1.         0.73199999 0.069     ]\n",
      " [0.         1.         0.         0.         0.         0.\n",
      "  1.         0.         1.         0.87199998 0.27900001]\n",
      " [1.         0.         0.         0.         0.         0.\n",
      "  0.         0.         1.         0.22       0.081     ]\n",
      " [0.         1.         0.         0.         0.         0.\n",
      "  0.         0.         1.         0.94099998 0.22      ]\n",
      " [0.         1.         0.         0.         0.         0.\n",
      "  0.         0.         1.         0.94099998 0.22      ]\n",
      " [1.         0.         0.         0.         0.         0.\n",
      "  0.         0.         1.         0.26699999 0.97600001]\n",
      " [0.         1.         0.         0.         0.         0.\n",
      "  1.         0.         1.         0.26699999 0.116     ]\n",
      " [1.         0.         1.         1.         1.         0.\n",
      "  0.         1.         0.         0.546      0.65100002]\n",
      " [1.         0.         1.         1.         0.         1.\n",
      "  0.         1.         0.         0.60399997 0.65100002]\n",
      " [0.         1.         0.         0.         0.         0.\n",
      "  0.         0.         1.         0.069      0.116     ]\n",
      " [0.         1.         0.         0.         0.         0.\n",
      "  0.         0.         1.         0.069      0.116     ]\n",
      " [0.         1.         0.         0.         0.         0.\n",
      "  0.         0.         1.         0.15099999 0.22      ]\n",
      " [0.         1.         0.         0.         0.         0.\n",
      "  1.         0.         1.         0.56900001 0.058     ]\n",
      " [0.         0.         1.         0.         0.         0.\n",
      "  0.         0.         1.         0.96499997 0.76700002]\n",
      " [0.         0.         1.         0.         0.         0.\n",
      "  0.         0.         0.         0.41800001 0.32499999]\n",
      " [0.         1.         0.         0.         0.         0.\n",
      "  0.         0.         0.         0.162      0.116     ]\n",
      " [0.         1.         0.         0.         0.         0.\n",
      "  0.         0.         1.         0.60399997 0.755     ]\n",
      " [1.         1.         0.         0.         0.         0.\n",
      "  1.         0.         0.         0.60399997 0.32499999]\n",
      " [1.         0.         0.         0.         0.         0.\n",
      "  0.         0.         0.         0.31299999 0.51099998]\n",
      " [1.         0.         0.         0.         0.         0.\n",
      "  0.         0.         1.         0.17399999 0.011     ]\n",
      " [1.         0.         0.         0.         0.         0.\n",
      "  0.         1.         0.         0.465      0.32499999]\n",
      " [0.         1.         0.         0.         0.         0.\n",
      "  0.         0.         1.         0.31299999 0.255     ]\n",
      " [1.         0.         1.         0.         0.         1.\n",
      "  0.         1.         0.         0.546      0.90600002]\n",
      " [0.         1.         0.         0.         0.         0.\n",
      "  0.         0.         0.         0.22       0.116     ]\n",
      " [0.         1.         0.         0.         0.         0.\n",
      "  1.         0.         0.         0.093      0.116     ]\n",
      " [0.         1.         0.         0.         0.         0.\n",
      "  0.         0.         1.         0.31299999 0.31299999]\n",
      " [0.         0.         1.         0.         0.         0.\n",
      "  1.         0.         0.         0.186      0.26699999]\n",
      " [1.         0.         0.         0.         0.         1.\n",
      "  0.         0.         1.         0.87199998 0.84799999]]\n"
     ]
    }
   ],
   "source": [
    "X_train = df_candy[[\"chocolate\", \"fruity\", \"caramel\", \"peanutyalmondy\", \"nougat\", \"crispedricewafer\", \"hard\", \"bar\", \"pluribus\", \"sugarpercent\", \"pricepercent\"]].values\n",
    "print(X_train)"
   ]
  },
  {
   "cell_type": "code",
   "execution_count": 20,
   "id": "af09f9d7",
   "metadata": {},
   "outputs": [
    {
     "name": "stdout",
     "output_type": "stream",
     "text": [
      "[66.971725 67.602936 32.261086 46.116505 52.341465 50.347546 56.914547\n",
      " 23.417824 38.010963 34.517681 38.975037 36.017628 24.524988 42.272076\n",
      " 39.460556 43.088924 39.185505 46.783348 57.11974  34.158958 51.41243\n",
      " 42.178772 55.375454 62.284481 56.490501 59.236122 28.127439 57.21925\n",
      " 76.7686   41.389557 39.141056 52.911392 71.46505  66.574585 46.411716\n",
      " 55.064072 73.099556 60.800701 64.35334  47.829754 54.526451 55.354046\n",
      " 70.735641 66.47068  22.445341 39.4468   46.296597 69.483788 37.722336\n",
      " 41.265511 37.348522 81.866257 84.18029  73.43499  72.887901 35.290756\n",
      " 65.716286 29.703691 42.849144 34.722    63.08514  55.103695 37.887188\n",
      " 45.995827 76.673782 59.529251 59.863998 52.825947 67.037628 34.578991\n",
      " 33.43755  32.230995 27.303865 54.861111 48.982651 43.068897 45.736748\n",
      " 49.653503 47.173229 81.642914 45.466282 39.011898 44.375519 41.904308\n",
      " 49.524113]\n"
     ]
    }
   ],
   "source": [
    "y_train = df_candy[\"winpercent\"].values\n",
    "print(y_train)"
   ]
  },
  {
   "cell_type": "code",
   "execution_count": 21,
   "id": "a9af5b16",
   "metadata": {},
   "outputs": [
    {
     "data": {
      "text/html": [
       "<style>#sk-container-id-1 {color: black;background-color: white;}#sk-container-id-1 pre{padding: 0;}#sk-container-id-1 div.sk-toggleable {background-color: white;}#sk-container-id-1 label.sk-toggleable__label {cursor: pointer;display: block;width: 100%;margin-bottom: 0;padding: 0.3em;box-sizing: border-box;text-align: center;}#sk-container-id-1 label.sk-toggleable__label-arrow:before {content: \"▸\";float: left;margin-right: 0.25em;color: #696969;}#sk-container-id-1 label.sk-toggleable__label-arrow:hover:before {color: black;}#sk-container-id-1 div.sk-estimator:hover label.sk-toggleable__label-arrow:before {color: black;}#sk-container-id-1 div.sk-toggleable__content {max-height: 0;max-width: 0;overflow: hidden;text-align: left;background-color: #f0f8ff;}#sk-container-id-1 div.sk-toggleable__content pre {margin: 0.2em;color: black;border-radius: 0.25em;background-color: #f0f8ff;}#sk-container-id-1 input.sk-toggleable__control:checked~div.sk-toggleable__content {max-height: 200px;max-width: 100%;overflow: auto;}#sk-container-id-1 input.sk-toggleable__control:checked~label.sk-toggleable__label-arrow:before {content: \"▾\";}#sk-container-id-1 div.sk-estimator input.sk-toggleable__control:checked~label.sk-toggleable__label {background-color: #d4ebff;}#sk-container-id-1 div.sk-label input.sk-toggleable__control:checked~label.sk-toggleable__label {background-color: #d4ebff;}#sk-container-id-1 input.sk-hidden--visually {border: 0;clip: rect(1px 1px 1px 1px);clip: rect(1px, 1px, 1px, 1px);height: 1px;margin: -1px;overflow: hidden;padding: 0;position: absolute;width: 1px;}#sk-container-id-1 div.sk-estimator {font-family: monospace;background-color: #f0f8ff;border: 1px dotted black;border-radius: 0.25em;box-sizing: border-box;margin-bottom: 0.5em;}#sk-container-id-1 div.sk-estimator:hover {background-color: #d4ebff;}#sk-container-id-1 div.sk-parallel-item::after {content: \"\";width: 100%;border-bottom: 1px solid gray;flex-grow: 1;}#sk-container-id-1 div.sk-label:hover label.sk-toggleable__label {background-color: #d4ebff;}#sk-container-id-1 div.sk-serial::before {content: \"\";position: absolute;border-left: 1px solid gray;box-sizing: border-box;top: 0;bottom: 0;left: 50%;z-index: 0;}#sk-container-id-1 div.sk-serial {display: flex;flex-direction: column;align-items: center;background-color: white;padding-right: 0.2em;padding-left: 0.2em;position: relative;}#sk-container-id-1 div.sk-item {position: relative;z-index: 1;}#sk-container-id-1 div.sk-parallel {display: flex;align-items: stretch;justify-content: center;background-color: white;position: relative;}#sk-container-id-1 div.sk-item::before, #sk-container-id-1 div.sk-parallel-item::before {content: \"\";position: absolute;border-left: 1px solid gray;box-sizing: border-box;top: 0;bottom: 0;left: 50%;z-index: -1;}#sk-container-id-1 div.sk-parallel-item {display: flex;flex-direction: column;z-index: 1;position: relative;background-color: white;}#sk-container-id-1 div.sk-parallel-item:first-child::after {align-self: flex-end;width: 50%;}#sk-container-id-1 div.sk-parallel-item:last-child::after {align-self: flex-start;width: 50%;}#sk-container-id-1 div.sk-parallel-item:only-child::after {width: 0;}#sk-container-id-1 div.sk-dashed-wrapped {border: 1px dashed gray;margin: 0 0.4em 0.5em 0.4em;box-sizing: border-box;padding-bottom: 0.4em;background-color: white;}#sk-container-id-1 div.sk-label label {font-family: monospace;font-weight: bold;display: inline-block;line-height: 1.2em;}#sk-container-id-1 div.sk-label-container {text-align: center;}#sk-container-id-1 div.sk-container {/* jupyter's `normalize.less` sets `[hidden] { display: none; }` but bootstrap.min.css set `[hidden] { display: none !important; }` so we also need the `!important` here to be able to override the default hidden behavior on the sphinx rendered scikit-learn.org. See: https://github.com/scikit-learn/scikit-learn/issues/21755 */display: inline-block !important;position: relative;}#sk-container-id-1 div.sk-text-repr-fallback {display: none;}</style><div id=\"sk-container-id-1\" class=\"sk-top-container\"><div class=\"sk-text-repr-fallback\"><pre>LinearRegression()</pre><b>In a Jupyter environment, please rerun this cell to show the HTML representation or trust the notebook. <br />On GitHub, the HTML representation is unable to render, please try loading this page with nbviewer.org.</b></div><div class=\"sk-container\" hidden><div class=\"sk-item\"><div class=\"sk-estimator sk-toggleable\"><input class=\"sk-toggleable__control sk-hidden--visually\" id=\"sk-estimator-id-1\" type=\"checkbox\" checked><label for=\"sk-estimator-id-1\" class=\"sk-toggleable__label sk-toggleable__label-arrow\">LinearRegression</label><div class=\"sk-toggleable__content\"><pre>LinearRegression()</pre></div></div></div></div></div>"
      ],
      "text/plain": [
       "LinearRegression()"
      ]
     },
     "execution_count": 21,
     "metadata": {},
     "output_type": "execute_result"
    }
   ],
   "source": [
    "regr = LinearRegression()\n",
    "regr.fit(X_train, y_train)"
   ]
  },
  {
   "cell_type": "code",
   "execution_count": 22,
   "id": "36389dab",
   "metadata": {},
   "outputs": [
    {
     "name": "stdout",
     "output_type": "stream",
     "text": [
      "[67.40198272]\n"
     ]
    }
   ],
   "source": [
    "#predict the \"winpercent\" of a candy like \"100 Grand\" (real rating = 66.97) which contains \"chocolate\", \"caramel\", \"crispedricewafer\", \"bar\", and 0.73 \"sugarpercent\" and 0.86 \"pricepercent\":\n",
    "predicted_winpercent = regr.predict([[1, 0, 1, 0, 0, 1, 0, 1, 0, 0.73, 0.86]])\n",
    "print(predicted_winpercent)"
   ]
  },
  {
   "cell_type": "code",
   "execution_count": 23,
   "id": "8f5a9621",
   "metadata": {},
   "outputs": [
    {
     "name": "stdout",
     "output_type": "stream",
     "text": [
      "[34.53397841]\n"
     ]
    }
   ],
   "source": [
    "#predict the \"winpercent\" of a candy without any characteristics - aka the Intercept of a regression equation\n",
    "intercept_equation = regr.predict([[0, 0, 0, 0, 0, 0, 0, 0, 0, 0.00, 0.00]])\n",
    "print(intercept_equation)"
   ]
  },
  {
   "cell_type": "code",
   "execution_count": 24,
   "id": "8f7379ed",
   "metadata": {},
   "outputs": [
    {
     "name": "stdout",
     "output_type": "stream",
     "text": [
      "[67.4201561  57.98692801 33.94624288 31.60454024 49.15951525 64.47256535\n",
      " 68.76443708 43.56493145 39.9853688  49.74246894 57.98692801 46.72391869\n",
      " 41.59307463 46.72391869 44.24092    44.05425552 42.5157669  42.48353399\n",
      " 44.57045761 35.14813554 44.57045761 44.57045761 54.03022711 62.10762775\n",
      " 53.18865794 53.18865794 34.75215083 52.18824556 63.45731941 45.26769839\n",
      " 37.59241548 44.72845318 67.13545018 57.06476171 49.09874057 55.36683694\n",
      " 59.38143854 61.78950033 60.61840185 52.46935129 62.19619497 42.71533185\n",
      " 65.73562512 61.93965865 39.10581241 43.17417136 45.52882898 65.0273212\n",
      " 34.38819552 37.46284036 47.69351996 63.00767092 67.03583998 63.32809654\n",
      " 69.47109198 38.7216157  58.36825248 33.75660577 43.20611857 54.9464364\n",
      " 50.3482051  50.3482051  50.06763063 38.6749501  68.92509504 77.56676622\n",
      " 43.04109763 43.04109763 43.16966253 41.76299765 40.12563279 38.63000934\n",
      " 44.74066614 44.11429256 61.10072805 54.09680951 54.94343052 57.02221281\n",
      " 44.43422546 65.45731361 45.26769839 37.94835302 44.09038056 30.70039873\n",
      " 65.24292226]\n"
     ]
    }
   ],
   "source": [
    "sklearn_y_predictions = regr.predict(X_train)\n",
    "print(sklearn_y_predictions)"
   ]
  },
  {
   "cell_type": "code",
   "execution_count": 25,
   "id": "c47755cb",
   "metadata": {},
   "outputs": [
    {
     "name": "stdout",
     "output_type": "stream",
     "text": [
      "Mean absolute error: 7.955402203016126\n",
      "Mean squared error: 98.37927075848414\n"
     ]
    }
   ],
   "source": [
    "print(\"Mean absolute error: \" + str(mean_absolute_error(sklearn_y_predictions, y_train)))\n",
    "print(\"Mean squared error: \" + str(mean_squared_error(sklearn_y_predictions, y_train)))"
   ]
  },
  {
   "cell_type": "code",
   "execution_count": 26,
   "id": "9079ecad",
   "metadata": {},
   "outputs": [
    {
     "name": "stdout",
     "output_type": "stream",
     "text": [
      "[19.74806698  9.42232207  2.22448136 10.07068847  0.8043306   8.91896981\n",
      " -6.1653265   0.44154009 -0.85449954  9.08676286 -5.92836143]\n"
     ]
    }
   ],
   "source": [
    "# Find out regression coefficients for regression equation, explanation: 1.00 increase in characteristic explains the following increase in \"winpercent\":\n",
    "regression_coefficients_sklearn = regr.coef_\n",
    "print(regression_coefficients_sklearn)"
   ]
  },
  {
   "cell_type": "code",
   "execution_count": 27,
   "id": "4055a325",
   "metadata": {},
   "outputs": [
    {
     "name": "stdout",
     "output_type": "stream",
     "text": [
      "[34.53397841]\n"
     ]
    }
   ],
   "source": [
    "# This looks good, but the Intercept of my regression equation is missing\n",
    "# predict the \"winpercent\" of a candy without any characteristics - aka the Intercept of a regression equation\n",
    "intercept_equation = regr.predict([[0, 0, 0, 0, 0, 0, 0, 0, 0, 0.00, 0.00]])\n",
    "print(intercept_equation)"
   ]
  },
  {
   "cell_type": "code",
   "execution_count": 28,
   "id": "6a971832",
   "metadata": {},
   "outputs": [
    {
     "name": "stdout",
     "output_type": "stream",
     "text": [
      "[34.53397841 19.74806698  9.42232207  2.22448136 10.07068847  0.8043306\n",
      "  8.91896981 -6.1653265   0.44154009 -0.85449954  9.08676286 -5.92836143]\n"
     ]
    }
   ],
   "source": [
    "# Now I have to add the Intercept on the first place of my np.array containing the other equation values\n",
    "regression_coefficients_sklearn = np.insert(regression_coefficients_sklearn, 0, regr.predict([[0, 0, 0, 0, 0, 0, 0, 0, 0, 0.00, 0.00]]))\n",
    "print(regression_coefficients_sklearn)"
   ]
  },
  {
   "cell_type": "code",
   "execution_count": 29,
   "id": "0c8741c4",
   "metadata": {},
   "outputs": [],
   "source": [
    "# note to myself: ok interesting. That looks exactly like the values I got through my \"IBM SPSS approach\"\n",
    "# Lets compare both equations to each other"
   ]
  },
  {
   "cell_type": "code",
   "execution_count": 30,
   "id": "1869fa96",
   "metadata": {},
   "outputs": [
    {
     "name": "stdout",
     "output_type": "stream",
     "text": [
      "[34.53397841 19.74806698  9.42232207  2.22448136 10.07068847  0.8043306\n",
      "  8.91896981 -6.1653265   0.44154009 -0.85449954  9.08676286 -5.92836143]\n"
     ]
    }
   ],
   "source": [
    "# Convert the my \"IBM SPSS approach equation\" to a NumPy array\n",
    "np_regression_coefficients_smf = regression_coefficients_smf.to_numpy()\n",
    "\n",
    "print(np_regression_coefficients_smf)"
   ]
  },
  {
   "cell_type": "code",
   "execution_count": 31,
   "id": "2a26217b",
   "metadata": {},
   "outputs": [
    {
     "data": {
      "text/plain": [
       "array([ 1.42108547e-14, -2.13162821e-14, -8.88178420e-15,  3.55271368e-15,\n",
       "        2.13162821e-14,  1.39888101e-14, -1.77635684e-15,  5.32907052e-15,\n",
       "       -1.74860126e-14,  1.22124533e-15,  1.77635684e-15,  1.42108547e-14])"
      ]
     },
     "execution_count": 31,
     "metadata": {},
     "output_type": "execute_result"
    }
   ],
   "source": [
    "# Now lets see, if there are any differences between the sklearn-equation and the \"IBM SPSS approach equation\":\n",
    "regression_coefficients_sklearn - np_regression_coefficients_smf"
   ]
  },
  {
   "cell_type": "code",
   "execution_count": 32,
   "id": "b9d4807c",
   "metadata": {},
   "outputs": [],
   "source": [
    "# note to myself: those are nearly the EXACT SAME, crazy"
   ]
  },
  {
   "cell_type": "markdown",
   "id": "b34e735d",
   "metadata": {},
   "source": [
    "Calculate the average \"winpercent\" of all candies that contain a characteristic (e.g. \"chocolate\")"
   ]
  },
  {
   "cell_type": "code",
   "execution_count": 33,
   "id": "aab04a73",
   "metadata": {},
   "outputs": [
    {
     "data": {
      "text/plain": [
       "0    66.971725\n",
       "1    67.602936\n",
       "5    50.347546\n",
       "Name: winpercent, dtype: float64"
      ]
     },
     "execution_count": 33,
     "metadata": {},
     "output_type": "execute_result"
    }
   ],
   "source": [
    "# Select the \"chocolate\" column for rows where \"chocolate\" is in the candy\n",
    "chocolate_1 = df_candy.loc[df_candy[\"chocolate\"] > 0, \"winpercent\"]\n",
    "chocolate_1.head(3)"
   ]
  },
  {
   "cell_type": "code",
   "execution_count": 34,
   "id": "b0e7a170",
   "metadata": {},
   "outputs": [
    {
     "name": "stdout",
     "output_type": "stream",
     "text": [
      "The average winpercent of a candy containing chocolate is: 60.9215294054054\n"
     ]
    }
   ],
   "source": [
    "print(\"The average winpercent of a candy containing chocolate is: \" + str(np.mean(chocolate_1)))"
   ]
  },
  {
   "cell_type": "code",
   "execution_count": 35,
   "id": "68f03c4a",
   "metadata": {},
   "outputs": [
    {
     "data": {
      "text/html": [
       "<div>\n",
       "<style scoped>\n",
       "    .dataframe tbody tr th:only-of-type {\n",
       "        vertical-align: middle;\n",
       "    }\n",
       "\n",
       "    .dataframe tbody tr th {\n",
       "        vertical-align: top;\n",
       "    }\n",
       "\n",
       "    .dataframe thead th {\n",
       "        text-align: right;\n",
       "    }\n",
       "</style>\n",
       "<table border=\"1\" class=\"dataframe\">\n",
       "  <thead>\n",
       "    <tr style=\"text-align: right;\">\n",
       "      <th></th>\n",
       "      <th>competitorname</th>\n",
       "      <th>chocolate</th>\n",
       "      <th>fruity</th>\n",
       "      <th>caramel</th>\n",
       "      <th>peanutyalmondy</th>\n",
       "      <th>nougat</th>\n",
       "      <th>crispedricewafer</th>\n",
       "      <th>hard</th>\n",
       "      <th>bar</th>\n",
       "      <th>pluribus</th>\n",
       "      <th>sugarpercent</th>\n",
       "      <th>pricepercent</th>\n",
       "      <th>winpercent</th>\n",
       "    </tr>\n",
       "  </thead>\n",
       "  <tbody>\n",
       "    <tr>\n",
       "      <th>0</th>\n",
       "      <td>100 Grand</td>\n",
       "      <td>1</td>\n",
       "      <td>0</td>\n",
       "      <td>1</td>\n",
       "      <td>0</td>\n",
       "      <td>0</td>\n",
       "      <td>1</td>\n",
       "      <td>0</td>\n",
       "      <td>1</td>\n",
       "      <td>0</td>\n",
       "      <td>0.732</td>\n",
       "      <td>0.860</td>\n",
       "      <td>66.971725</td>\n",
       "    </tr>\n",
       "    <tr>\n",
       "      <th>1</th>\n",
       "      <td>3 Musketeers</td>\n",
       "      <td>1</td>\n",
       "      <td>0</td>\n",
       "      <td>0</td>\n",
       "      <td>0</td>\n",
       "      <td>1</td>\n",
       "      <td>0</td>\n",
       "      <td>0</td>\n",
       "      <td>1</td>\n",
       "      <td>0</td>\n",
       "      <td>0.604</td>\n",
       "      <td>0.511</td>\n",
       "      <td>67.602936</td>\n",
       "    </tr>\n",
       "    <tr>\n",
       "      <th>2</th>\n",
       "      <td>One dime</td>\n",
       "      <td>0</td>\n",
       "      <td>0</td>\n",
       "      <td>0</td>\n",
       "      <td>0</td>\n",
       "      <td>0</td>\n",
       "      <td>0</td>\n",
       "      <td>0</td>\n",
       "      <td>0</td>\n",
       "      <td>0</td>\n",
       "      <td>0.011</td>\n",
       "      <td>0.116</td>\n",
       "      <td>32.261086</td>\n",
       "    </tr>\n",
       "    <tr>\n",
       "      <th>3</th>\n",
       "      <td>One quarter</td>\n",
       "      <td>0</td>\n",
       "      <td>0</td>\n",
       "      <td>0</td>\n",
       "      <td>0</td>\n",
       "      <td>0</td>\n",
       "      <td>0</td>\n",
       "      <td>0</td>\n",
       "      <td>0</td>\n",
       "      <td>0</td>\n",
       "      <td>0.011</td>\n",
       "      <td>0.511</td>\n",
       "      <td>46.116505</td>\n",
       "    </tr>\n",
       "    <tr>\n",
       "      <th>4</th>\n",
       "      <td>Air Heads</td>\n",
       "      <td>0</td>\n",
       "      <td>1</td>\n",
       "      <td>0</td>\n",
       "      <td>0</td>\n",
       "      <td>0</td>\n",
       "      <td>0</td>\n",
       "      <td>0</td>\n",
       "      <td>0</td>\n",
       "      <td>0</td>\n",
       "      <td>0.906</td>\n",
       "      <td>0.511</td>\n",
       "      <td>52.341465</td>\n",
       "    </tr>\n",
       "    <tr>\n",
       "      <th>5</th>\n",
       "      <td>Almond Joy</td>\n",
       "      <td>1</td>\n",
       "      <td>0</td>\n",
       "      <td>0</td>\n",
       "      <td>1</td>\n",
       "      <td>0</td>\n",
       "      <td>0</td>\n",
       "      <td>0</td>\n",
       "      <td>1</td>\n",
       "      <td>0</td>\n",
       "      <td>0.465</td>\n",
       "      <td>0.767</td>\n",
       "      <td>50.347546</td>\n",
       "    </tr>\n",
       "  </tbody>\n",
       "</table>\n",
       "</div>"
      ],
      "text/plain": [
       "  competitorname  chocolate  fruity  caramel  peanutyalmondy  nougat  \\\n",
       "0      100 Grand          1       0        1               0       0   \n",
       "1   3 Musketeers          1       0        0               0       1   \n",
       "2       One dime          0       0        0               0       0   \n",
       "3    One quarter          0       0        0               0       0   \n",
       "4      Air Heads          0       1        0               0       0   \n",
       "5     Almond Joy          1       0        0               1       0   \n",
       "\n",
       "   crispedricewafer  hard  bar  pluribus  sugarpercent  pricepercent  \\\n",
       "0                 1     0    1         0         0.732         0.860   \n",
       "1                 0     0    1         0         0.604         0.511   \n",
       "2                 0     0    0         0         0.011         0.116   \n",
       "3                 0     0    0         0         0.011         0.511   \n",
       "4                 0     0    0         0         0.906         0.511   \n",
       "5                 0     0    1         0         0.465         0.767   \n",
       "\n",
       "   winpercent  \n",
       "0   66.971725  \n",
       "1   67.602936  \n",
       "2   32.261086  \n",
       "3   46.116505  \n",
       "4   52.341465  \n",
       "5   50.347546  "
      ]
     },
     "execution_count": 35,
     "metadata": {},
     "output_type": "execute_result"
    }
   ],
   "source": [
    "df_candy.head(6)"
   ]
  },
  {
   "cell_type": "code",
   "execution_count": 36,
   "id": "b8e5f7f5",
   "metadata": {},
   "outputs": [],
   "source": [
    "# Select the characteristic column for rows where the characteristic is in the candy\n",
    "fruity_1 = np.mean(df_candy.loc[df_candy[\"fruity\"] > 0, \"winpercent\"])\n",
    "caramel_1 = np.mean(df_candy.loc[df_candy[\"caramel\"] > 0, \"winpercent\"])\n",
    "peanutyalmondy_1 = np.mean(df_candy.loc[df_candy[\"peanutyalmondy\"] > 0, \"winpercent\"])\n",
    "nougat_1 = np.mean(df_candy.loc[df_candy[\"nougat\"] > 0, \"winpercent\"])\n",
    "crispedricewafer_1 = np.mean(df_candy.loc[df_candy[\"crispedricewafer\"] > 0, \"winpercent\"])\n",
    "hard_1 = np.mean(df_candy.loc[df_candy[\"hard\"] > 0, \"winpercent\"])\n",
    "bar_1 = np.mean(df_candy.loc[df_candy[\"bar\"] > 0, \"winpercent\"])\n",
    "pluribus_1 = np.mean(df_candy.loc[df_candy[\"pluribus\"] > 0, \"winpercent\"])"
   ]
  },
  {
   "cell_type": "markdown",
   "id": "0d2b371c",
   "metadata": {},
   "source": [
    "# Ok, now I'd like to create a DataFrame that contains every important information at first sight"
   ]
  },
  {
   "cell_type": "code",
   "execution_count": 37,
   "id": "0c3eb7fe",
   "metadata": {},
   "outputs": [
    {
     "name": "stdout",
     "output_type": "stream",
     "text": [
      "['competitorname', 'chocolate', 'fruity', 'caramel', 'peanutyalmondy', 'nougat', 'crispedricewafer', 'hard', 'bar', 'pluribus', 'sugarpercent', 'pricepercent', 'winpercent']\n"
     ]
    }
   ],
   "source": [
    "characteristics_list = list(df_candy.columns)\n",
    "print(characteristics_list)"
   ]
  },
  {
   "cell_type": "code",
   "execution_count": 38,
   "id": "cbda50f1",
   "metadata": {},
   "outputs": [
    {
     "name": "stdout",
     "output_type": "stream",
     "text": [
      "['Intercept of Regression Equation', 'chocolate', 'fruity', 'caramel', 'peanutyalmondy', 'nougat', 'crispedricewafer', 'hard', 'bar', 'pluribus', 'sugarpercent', 'pricepercent']\n"
     ]
    }
   ],
   "source": [
    "characteristics_list[0] = \"Intercept of Regression Equation\"\n",
    "del characteristics_list[-1]\n",
    "print(characteristics_list)"
   ]
  },
  {
   "cell_type": "code",
   "execution_count": 39,
   "id": "7fc2b2aa",
   "metadata": {},
   "outputs": [
    {
     "name": "stdout",
     "output_type": "stream",
     "text": [
      "['Not applicable', 60.9215294054054, 44.11974142105263, 57.34690771428571, 63.69713678571429, 60.05187942857144, 66.170252, 40.5089818, 61.29541261904762, 46.822780818181826, 'Not applicable', 'Not applicable']\n"
     ]
    }
   ],
   "source": [
    "mean_winpercent_list = [\"Not applicable\", np.mean(chocolate_1), fruity_1, caramel_1, peanutyalmondy_1, nougat_1, crispedricewafer_1, hard_1, bar_1, pluribus_1, \"Not applicable\", \"Not applicable\"]\n",
    "print(mean_winpercent_list)"
   ]
  },
  {
   "cell_type": "code",
   "execution_count": 40,
   "id": "8836df2f",
   "metadata": {},
   "outputs": [
    {
     "name": "stdout",
     "output_type": "stream",
     "text": [
      "[34.53397841 19.74806698  9.42232207  2.22448136 10.07068847  0.8043306\n",
      "  8.91896981 -6.1653265   0.44154009 -0.85449954  9.08676286 -5.92836143]\n"
     ]
    }
   ],
   "source": [
    "print(np_regression_coefficients_smf)"
   ]
  },
  {
   "cell_type": "code",
   "execution_count": 41,
   "id": "95c85548",
   "metadata": {},
   "outputs": [
    {
     "data": {
      "text/plain": [
       "[43.529411764705884,\n",
       " 44.70588235294118,\n",
       " 16.470588235294116,\n",
       " 16.470588235294116,\n",
       " 8.235294117647058,\n",
       " 8.235294117647058,\n",
       " 17.647058823529413,\n",
       " 24.705882352941178,\n",
       " 51.76470588235295]"
      ]
     },
     "execution_count": 41,
     "metadata": {},
     "output_type": "execute_result"
    }
   ],
   "source": [
    "# How high is the proportion of candies that have the following characteristics?\n",
    "proportion = [np.mean(df_candy[\"chocolate\"]), np.mean(df_candy[\"fruity\"]), np.mean(df_candy[\"caramel\"]), np.mean(df_candy[\"peanutyalmondy\"]), np.mean(df_candy[\"nougat\"]), np.mean(df_candy[\"crispedricewafer\"]), np.mean(df_candy[\"hard\"]), np.mean(df_candy[\"bar\"]), np.mean(df_candy[\"pluribus\"])]\n",
    "array_proportion = np.array(proportion)\n",
    "array_proportion_percent = array_proportion*100\n",
    "list_proportion = array_proportion_percent.tolist()\n",
    "list_proportion"
   ]
  },
  {
   "cell_type": "code",
   "execution_count": 42,
   "id": "de3f7e79",
   "metadata": {},
   "outputs": [
    {
     "data": {
      "text/plain": [
       "['Not applicable',\n",
       " 43.529411764705884,\n",
       " 44.70588235294118,\n",
       " 16.470588235294116,\n",
       " 16.470588235294116,\n",
       " 8.235294117647058,\n",
       " 8.235294117647058,\n",
       " 17.647058823529413,\n",
       " 24.705882352941178,\n",
       " 51.76470588235295,\n",
       " 'Not applicable',\n",
       " 'Not applicable']"
      ]
     },
     "execution_count": 42,
     "metadata": {},
     "output_type": "execute_result"
    }
   ],
   "source": [
    "list_proportion.append(\"Not applicable\")\n",
    "list_proportion.append(\"Not applicable\")\n",
    "list_proportion.insert(0, \"Not applicable\")\n",
    "list_proportion"
   ]
  },
  {
   "cell_type": "markdown",
   "id": "f76cf58c",
   "metadata": {},
   "source": [
    "# Summary"
   ]
  },
  {
   "cell_type": "code",
   "execution_count": 43,
   "id": "eb0a7a24",
   "metadata": {},
   "outputs": [
    {
     "data": {
      "text/html": [
       "<div>\n",
       "<style scoped>\n",
       "    .dataframe tbody tr th:only-of-type {\n",
       "        vertical-align: middle;\n",
       "    }\n",
       "\n",
       "    .dataframe tbody tr th {\n",
       "        vertical-align: top;\n",
       "    }\n",
       "\n",
       "    .dataframe thead th {\n",
       "        text-align: right;\n",
       "    }\n",
       "</style>\n",
       "<table border=\"1\" class=\"dataframe\">\n",
       "  <thead>\n",
       "    <tr style=\"text-align: right;\">\n",
       "      <th></th>\n",
       "      <th>Characteristic</th>\n",
       "      <th>Proportion of Candy with characteristic</th>\n",
       "      <th>Mean Winpercent</th>\n",
       "      <th>Increase in Winpercent</th>\n",
       "    </tr>\n",
       "  </thead>\n",
       "  <tbody>\n",
       "    <tr>\n",
       "      <th>0</th>\n",
       "      <td>Intercept of Regression Equation</td>\n",
       "      <td>Not applicable</td>\n",
       "      <td>Not applicable</td>\n",
       "      <td>34.533978</td>\n",
       "    </tr>\n",
       "    <tr>\n",
       "      <th>1</th>\n",
       "      <td>chocolate</td>\n",
       "      <td>43.529412</td>\n",
       "      <td>60.921529</td>\n",
       "      <td>19.748067</td>\n",
       "    </tr>\n",
       "    <tr>\n",
       "      <th>2</th>\n",
       "      <td>fruity</td>\n",
       "      <td>44.705882</td>\n",
       "      <td>44.119741</td>\n",
       "      <td>9.422322</td>\n",
       "    </tr>\n",
       "    <tr>\n",
       "      <th>3</th>\n",
       "      <td>caramel</td>\n",
       "      <td>16.470588</td>\n",
       "      <td>57.346908</td>\n",
       "      <td>2.224481</td>\n",
       "    </tr>\n",
       "    <tr>\n",
       "      <th>4</th>\n",
       "      <td>peanutyalmondy</td>\n",
       "      <td>16.470588</td>\n",
       "      <td>63.697137</td>\n",
       "      <td>10.070688</td>\n",
       "    </tr>\n",
       "    <tr>\n",
       "      <th>5</th>\n",
       "      <td>nougat</td>\n",
       "      <td>8.235294</td>\n",
       "      <td>60.051879</td>\n",
       "      <td>0.804331</td>\n",
       "    </tr>\n",
       "    <tr>\n",
       "      <th>6</th>\n",
       "      <td>crispedricewafer</td>\n",
       "      <td>8.235294</td>\n",
       "      <td>66.170252</td>\n",
       "      <td>8.918970</td>\n",
       "    </tr>\n",
       "    <tr>\n",
       "      <th>7</th>\n",
       "      <td>hard</td>\n",
       "      <td>17.647059</td>\n",
       "      <td>40.508982</td>\n",
       "      <td>-6.165327</td>\n",
       "    </tr>\n",
       "    <tr>\n",
       "      <th>8</th>\n",
       "      <td>bar</td>\n",
       "      <td>24.705882</td>\n",
       "      <td>61.295413</td>\n",
       "      <td>0.441540</td>\n",
       "    </tr>\n",
       "    <tr>\n",
       "      <th>9</th>\n",
       "      <td>pluribus</td>\n",
       "      <td>51.764706</td>\n",
       "      <td>46.822781</td>\n",
       "      <td>-0.854500</td>\n",
       "    </tr>\n",
       "    <tr>\n",
       "      <th>10</th>\n",
       "      <td>sugarpercent</td>\n",
       "      <td>Not applicable</td>\n",
       "      <td>Not applicable</td>\n",
       "      <td>9.086763</td>\n",
       "    </tr>\n",
       "    <tr>\n",
       "      <th>11</th>\n",
       "      <td>pricepercent</td>\n",
       "      <td>Not applicable</td>\n",
       "      <td>Not applicable</td>\n",
       "      <td>-5.928361</td>\n",
       "    </tr>\n",
       "  </tbody>\n",
       "</table>\n",
       "</div>"
      ],
      "text/plain": [
       "                      Characteristic Proportion of Candy with characteristic  \\\n",
       "0   Intercept of Regression Equation                          Not applicable   \n",
       "1                          chocolate                               43.529412   \n",
       "2                             fruity                               44.705882   \n",
       "3                            caramel                               16.470588   \n",
       "4                     peanutyalmondy                               16.470588   \n",
       "5                             nougat                                8.235294   \n",
       "6                   crispedricewafer                                8.235294   \n",
       "7                               hard                               17.647059   \n",
       "8                                bar                               24.705882   \n",
       "9                           pluribus                               51.764706   \n",
       "10                      sugarpercent                          Not applicable   \n",
       "11                      pricepercent                          Not applicable   \n",
       "\n",
       "   Mean Winpercent  Increase in Winpercent  \n",
       "0   Not applicable               34.533978  \n",
       "1        60.921529               19.748067  \n",
       "2        44.119741                9.422322  \n",
       "3        57.346908                2.224481  \n",
       "4        63.697137               10.070688  \n",
       "5        60.051879                0.804331  \n",
       "6        66.170252                8.918970  \n",
       "7        40.508982               -6.165327  \n",
       "8        61.295413                0.441540  \n",
       "9        46.822781               -0.854500  \n",
       "10  Not applicable                9.086763  \n",
       "11  Not applicable               -5.928361  "
      ]
     },
     "execution_count": 43,
     "metadata": {},
     "output_type": "execute_result"
    }
   ],
   "source": [
    "df_summary = pd.DataFrame({\"Characteristic\": characteristics_list, \"Proportion of Candy with characteristic\": list_proportion, \"Mean Winpercent\": mean_winpercent_list, \"Increase in Winpercent\": np_regression_coefficients_smf, })\n",
    "df_summary"
   ]
  },
  {
   "cell_type": "code",
   "execution_count": 44,
   "id": "36bd31c7",
   "metadata": {},
   "outputs": [
    {
     "name": "stdout",
     "output_type": "stream",
     "text": [
      "The average is 50.316763811764716\n",
      "The median is 47.829754\n"
     ]
    }
   ],
   "source": [
    "# Average and Median of DV \"winpercent\"\n",
    "print(\"The average is \" + str(np.mean(df_candy[\"winpercent\"])))\n",
    "print(\"The median is \" + str(np.median(df_candy[\"winpercent\"])))"
   ]
  },
  {
   "cell_type": "code",
   "execution_count": null,
   "id": "1a3814ea",
   "metadata": {},
   "outputs": [],
   "source": []
  }
 ],
 "metadata": {
  "kernelspec": {
   "display_name": "Python 3 (ipykernel)",
   "language": "python",
   "name": "python3"
  },
  "language_info": {
   "codemirror_mode": {
    "name": "ipython",
    "version": 3
   },
   "file_extension": ".py",
   "mimetype": "text/x-python",
   "name": "python",
   "nbconvert_exporter": "python",
   "pygments_lexer": "ipython3",
   "version": "3.11.2"
  },
  "varInspector": {
   "cols": {
    "lenName": 16,
    "lenType": 16,
    "lenVar": 40
   },
   "kernels_config": {
    "python": {
     "delete_cmd_postfix": "",
     "delete_cmd_prefix": "del ",
     "library": "var_list.py",
     "varRefreshCmd": "print(var_dic_list())"
    },
    "r": {
     "delete_cmd_postfix": ") ",
     "delete_cmd_prefix": "rm(",
     "library": "var_list.r",
     "varRefreshCmd": "cat(var_dic_list()) "
    }
   },
   "types_to_exclude": [
    "module",
    "function",
    "builtin_function_or_method",
    "instance",
    "_Feature"
   ],
   "window_display": false
  }
 },
 "nbformat": 4,
 "nbformat_minor": 5
}
