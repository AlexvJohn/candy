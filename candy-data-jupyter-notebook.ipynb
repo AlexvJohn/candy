{
 "cells": [
  {
   "cell_type": "markdown",
   "id": "472d754c",
   "metadata": {},
   "source": [
    "# Import libraries"
   ]
  },
  {
   "cell_type": "code",
   "execution_count": 1,
   "id": "71fdaea6",
   "metadata": {},
   "outputs": [],
   "source": [
    "import pandas as pd\n",
    "import numpy as np\n",
    "import matplotlib.pyplot as plt"
   ]
  },
  {
   "cell_type": "markdown",
   "id": "5f76a277",
   "metadata": {},
   "source": [
    "# Import csv file"
   ]
  },
  {
   "cell_type": "code",
   "execution_count": 10,
   "id": "262aec84",
   "metadata": {},
   "outputs": [],
   "source": [
    "df_candy = pd.read_csv(\"/Users\\Lenovo\\Documents\\candy-data.csv\")"
   ]
  },
  {
   "cell_type": "code",
   "execution_count": 11,
   "id": "d526a581",
   "metadata": {
    "scrolled": true
   },
   "outputs": [
    {
     "data": {
      "text/html": [
       "<div>\n",
       "<style scoped>\n",
       "    .dataframe tbody tr th:only-of-type {\n",
       "        vertical-align: middle;\n",
       "    }\n",
       "\n",
       "    .dataframe tbody tr th {\n",
       "        vertical-align: top;\n",
       "    }\n",
       "\n",
       "    .dataframe thead th {\n",
       "        text-align: right;\n",
       "    }\n",
       "</style>\n",
       "<table border=\"1\" class=\"dataframe\">\n",
       "  <thead>\n",
       "    <tr style=\"text-align: right;\">\n",
       "      <th></th>\n",
       "      <th>competitorname</th>\n",
       "      <th>chocolate</th>\n",
       "      <th>fruity</th>\n",
       "      <th>caramel</th>\n",
       "      <th>peanutyalmondy</th>\n",
       "      <th>nougat</th>\n",
       "      <th>crispedricewafer</th>\n",
       "      <th>hard</th>\n",
       "      <th>bar</th>\n",
       "      <th>pluribus</th>\n",
       "      <th>sugarpercent</th>\n",
       "      <th>pricepercent</th>\n",
       "      <th>winpercent</th>\n",
       "    </tr>\n",
       "  </thead>\n",
       "  <tbody>\n",
       "    <tr>\n",
       "      <th>0</th>\n",
       "      <td>100 Grand</td>\n",
       "      <td>1</td>\n",
       "      <td>0</td>\n",
       "      <td>1</td>\n",
       "      <td>0</td>\n",
       "      <td>0</td>\n",
       "      <td>1</td>\n",
       "      <td>0</td>\n",
       "      <td>1</td>\n",
       "      <td>0</td>\n",
       "      <td>0.732</td>\n",
       "      <td>0.860</td>\n",
       "      <td>66.971725</td>\n",
       "    </tr>\n",
       "    <tr>\n",
       "      <th>1</th>\n",
       "      <td>3 Musketeers</td>\n",
       "      <td>1</td>\n",
       "      <td>0</td>\n",
       "      <td>0</td>\n",
       "      <td>0</td>\n",
       "      <td>1</td>\n",
       "      <td>0</td>\n",
       "      <td>0</td>\n",
       "      <td>1</td>\n",
       "      <td>0</td>\n",
       "      <td>0.604</td>\n",
       "      <td>0.511</td>\n",
       "      <td>67.602936</td>\n",
       "    </tr>\n",
       "    <tr>\n",
       "      <th>2</th>\n",
       "      <td>One dime</td>\n",
       "      <td>0</td>\n",
       "      <td>0</td>\n",
       "      <td>0</td>\n",
       "      <td>0</td>\n",
       "      <td>0</td>\n",
       "      <td>0</td>\n",
       "      <td>0</td>\n",
       "      <td>0</td>\n",
       "      <td>0</td>\n",
       "      <td>0.011</td>\n",
       "      <td>0.116</td>\n",
       "      <td>32.261086</td>\n",
       "    </tr>\n",
       "  </tbody>\n",
       "</table>\n",
       "</div>"
      ],
      "text/plain": [
       "  competitorname  chocolate  fruity  caramel  peanutyalmondy  nougat  \\\n",
       "0      100 Grand          1       0        1               0       0   \n",
       "1   3 Musketeers          1       0        0               0       1   \n",
       "2       One dime          0       0        0               0       0   \n",
       "\n",
       "   crispedricewafer  hard  bar  pluribus  sugarpercent  pricepercent  \\\n",
       "0                 1     0    1         0         0.732         0.860   \n",
       "1                 0     0    1         0         0.604         0.511   \n",
       "2                 0     0    0         0         0.011         0.116   \n",
       "\n",
       "   winpercent  \n",
       "0   66.971725  \n",
       "1   67.602936  \n",
       "2   32.261086  "
      ]
     },
     "execution_count": 11,
     "metadata": {},
     "output_type": "execute_result"
    }
   ],
   "source": [
    "df_candy.head(3)"
   ]
  },
  {
   "cell_type": "markdown",
   "id": "2acda6f8",
   "metadata": {},
   "source": [
    "# Get to know my data"
   ]
  },
  {
   "cell_type": "code",
   "execution_count": 12,
   "id": "8a6b5c60",
   "metadata": {
    "scrolled": true
   },
   "outputs": [
    {
     "data": {
      "text/html": [
       "<div>\n",
       "<style scoped>\n",
       "    .dataframe tbody tr th:only-of-type {\n",
       "        vertical-align: middle;\n",
       "    }\n",
       "\n",
       "    .dataframe tbody tr th {\n",
       "        vertical-align: top;\n",
       "    }\n",
       "\n",
       "    .dataframe thead th {\n",
       "        text-align: right;\n",
       "    }\n",
       "</style>\n",
       "<table border=\"1\" class=\"dataframe\">\n",
       "  <thead>\n",
       "    <tr style=\"text-align: right;\">\n",
       "      <th></th>\n",
       "      <th>competitorname</th>\n",
       "      <th>chocolate</th>\n",
       "      <th>fruity</th>\n",
       "      <th>caramel</th>\n",
       "      <th>peanutyalmondy</th>\n",
       "      <th>nougat</th>\n",
       "      <th>crispedricewafer</th>\n",
       "      <th>hard</th>\n",
       "      <th>bar</th>\n",
       "      <th>pluribus</th>\n",
       "      <th>sugarpercent</th>\n",
       "      <th>pricepercent</th>\n",
       "      <th>winpercent</th>\n",
       "    </tr>\n",
       "  </thead>\n",
       "  <tbody>\n",
       "    <tr>\n",
       "      <th>52</th>\n",
       "      <td>Reese's Peanut Butter cup</td>\n",
       "      <td>1</td>\n",
       "      <td>0</td>\n",
       "      <td>0</td>\n",
       "      <td>1</td>\n",
       "      <td>0</td>\n",
       "      <td>0</td>\n",
       "      <td>0</td>\n",
       "      <td>0</td>\n",
       "      <td>0</td>\n",
       "      <td>0.720</td>\n",
       "      <td>0.651</td>\n",
       "      <td>84.180290</td>\n",
       "    </tr>\n",
       "    <tr>\n",
       "      <th>51</th>\n",
       "      <td>Reese's Miniatures</td>\n",
       "      <td>1</td>\n",
       "      <td>0</td>\n",
       "      <td>0</td>\n",
       "      <td>1</td>\n",
       "      <td>0</td>\n",
       "      <td>0</td>\n",
       "      <td>0</td>\n",
       "      <td>0</td>\n",
       "      <td>0</td>\n",
       "      <td>0.034</td>\n",
       "      <td>0.279</td>\n",
       "      <td>81.866257</td>\n",
       "    </tr>\n",
       "    <tr>\n",
       "      <th>79</th>\n",
       "      <td>Twix</td>\n",
       "      <td>1</td>\n",
       "      <td>0</td>\n",
       "      <td>1</td>\n",
       "      <td>0</td>\n",
       "      <td>0</td>\n",
       "      <td>1</td>\n",
       "      <td>0</td>\n",
       "      <td>1</td>\n",
       "      <td>0</td>\n",
       "      <td>0.546</td>\n",
       "      <td>0.906</td>\n",
       "      <td>81.642914</td>\n",
       "    </tr>\n",
       "    <tr>\n",
       "      <th>28</th>\n",
       "      <td>Kit Kat</td>\n",
       "      <td>1</td>\n",
       "      <td>0</td>\n",
       "      <td>0</td>\n",
       "      <td>0</td>\n",
       "      <td>0</td>\n",
       "      <td>1</td>\n",
       "      <td>0</td>\n",
       "      <td>1</td>\n",
       "      <td>0</td>\n",
       "      <td>0.313</td>\n",
       "      <td>0.511</td>\n",
       "      <td>76.768600</td>\n",
       "    </tr>\n",
       "    <tr>\n",
       "      <th>64</th>\n",
       "      <td>Snickers</td>\n",
       "      <td>1</td>\n",
       "      <td>0</td>\n",
       "      <td>1</td>\n",
       "      <td>1</td>\n",
       "      <td>1</td>\n",
       "      <td>0</td>\n",
       "      <td>0</td>\n",
       "      <td>1</td>\n",
       "      <td>0</td>\n",
       "      <td>0.546</td>\n",
       "      <td>0.651</td>\n",
       "      <td>76.673782</td>\n",
       "    </tr>\n",
       "  </tbody>\n",
       "</table>\n",
       "</div>"
      ],
      "text/plain": [
       "               competitorname  chocolate  fruity  caramel  peanutyalmondy  \\\n",
       "52  Reese's Peanut Butter cup          1       0        0               1   \n",
       "51         Reese's Miniatures          1       0        0               1   \n",
       "79                       Twix          1       0        1               0   \n",
       "28                    Kit Kat          1       0        0               0   \n",
       "64                   Snickers          1       0        1               1   \n",
       "\n",
       "    nougat  crispedricewafer  hard  bar  pluribus  sugarpercent  pricepercent  \\\n",
       "52       0                 0     0    0         0         0.720         0.651   \n",
       "51       0                 0     0    0         0         0.034         0.279   \n",
       "79       0                 1     0    1         0         0.546         0.906   \n",
       "28       0                 1     0    1         0         0.313         0.511   \n",
       "64       1                 0     0    1         0         0.546         0.651   \n",
       "\n",
       "    winpercent  \n",
       "52   84.180290  \n",
       "51   81.866257  \n",
       "79   81.642914  \n",
       "28   76.768600  \n",
       "64   76.673782  "
      ]
     },
     "execution_count": 12,
     "metadata": {},
     "output_type": "execute_result"
    }
   ],
   "source": [
    "# Largest values for DV \"winpercent\"\n",
    "df_candy.sort_values(by=\"winpercent\", ascending=False).head(5)"
   ]
  },
  {
   "cell_type": "code",
   "execution_count": 13,
   "id": "09c3c7e5",
   "metadata": {
    "scrolled": true
   },
   "outputs": [
    {
     "data": {
      "text/html": [
       "<div>\n",
       "<style scoped>\n",
       "    .dataframe tbody tr th:only-of-type {\n",
       "        vertical-align: middle;\n",
       "    }\n",
       "\n",
       "    .dataframe tbody tr th {\n",
       "        vertical-align: top;\n",
       "    }\n",
       "\n",
       "    .dataframe thead th {\n",
       "        text-align: right;\n",
       "    }\n",
       "</style>\n",
       "<table border=\"1\" class=\"dataframe\">\n",
       "  <thead>\n",
       "    <tr style=\"text-align: right;\">\n",
       "      <th></th>\n",
       "      <th>competitorname</th>\n",
       "      <th>chocolate</th>\n",
       "      <th>fruity</th>\n",
       "      <th>caramel</th>\n",
       "      <th>peanutyalmondy</th>\n",
       "      <th>nougat</th>\n",
       "      <th>crispedricewafer</th>\n",
       "      <th>hard</th>\n",
       "      <th>bar</th>\n",
       "      <th>pluribus</th>\n",
       "      <th>sugarpercent</th>\n",
       "      <th>pricepercent</th>\n",
       "      <th>winpercent</th>\n",
       "    </tr>\n",
       "  </thead>\n",
       "  <tbody>\n",
       "    <tr>\n",
       "      <th>44</th>\n",
       "      <td>Nik L Nip</td>\n",
       "      <td>0</td>\n",
       "      <td>1</td>\n",
       "      <td>0</td>\n",
       "      <td>0</td>\n",
       "      <td>0</td>\n",
       "      <td>0</td>\n",
       "      <td>0</td>\n",
       "      <td>0</td>\n",
       "      <td>1</td>\n",
       "      <td>0.197</td>\n",
       "      <td>0.976</td>\n",
       "      <td>22.445341</td>\n",
       "    </tr>\n",
       "    <tr>\n",
       "      <th>7</th>\n",
       "      <td>Boston Baked Beans</td>\n",
       "      <td>0</td>\n",
       "      <td>0</td>\n",
       "      <td>0</td>\n",
       "      <td>1</td>\n",
       "      <td>0</td>\n",
       "      <td>0</td>\n",
       "      <td>0</td>\n",
       "      <td>0</td>\n",
       "      <td>1</td>\n",
       "      <td>0.313</td>\n",
       "      <td>0.511</td>\n",
       "      <td>23.417824</td>\n",
       "    </tr>\n",
       "    <tr>\n",
       "      <th>12</th>\n",
       "      <td>Chiclets</td>\n",
       "      <td>0</td>\n",
       "      <td>1</td>\n",
       "      <td>0</td>\n",
       "      <td>0</td>\n",
       "      <td>0</td>\n",
       "      <td>0</td>\n",
       "      <td>0</td>\n",
       "      <td>0</td>\n",
       "      <td>1</td>\n",
       "      <td>0.046</td>\n",
       "      <td>0.325</td>\n",
       "      <td>24.524988</td>\n",
       "    </tr>\n",
       "    <tr>\n",
       "      <th>72</th>\n",
       "      <td>Super Bubble</td>\n",
       "      <td>0</td>\n",
       "      <td>1</td>\n",
       "      <td>0</td>\n",
       "      <td>0</td>\n",
       "      <td>0</td>\n",
       "      <td>0</td>\n",
       "      <td>0</td>\n",
       "      <td>0</td>\n",
       "      <td>0</td>\n",
       "      <td>0.162</td>\n",
       "      <td>0.116</td>\n",
       "      <td>27.303865</td>\n",
       "    </tr>\n",
       "    <tr>\n",
       "      <th>26</th>\n",
       "      <td>Jawbusters</td>\n",
       "      <td>0</td>\n",
       "      <td>1</td>\n",
       "      <td>0</td>\n",
       "      <td>0</td>\n",
       "      <td>0</td>\n",
       "      <td>0</td>\n",
       "      <td>1</td>\n",
       "      <td>0</td>\n",
       "      <td>1</td>\n",
       "      <td>0.093</td>\n",
       "      <td>0.511</td>\n",
       "      <td>28.127439</td>\n",
       "    </tr>\n",
       "  </tbody>\n",
       "</table>\n",
       "</div>"
      ],
      "text/plain": [
       "        competitorname  chocolate  fruity  caramel  peanutyalmondy  nougat  \\\n",
       "44           Nik L Nip          0       1        0               0       0   \n",
       "7   Boston Baked Beans          0       0        0               1       0   \n",
       "12            Chiclets          0       1        0               0       0   \n",
       "72        Super Bubble          0       1        0               0       0   \n",
       "26          Jawbusters          0       1        0               0       0   \n",
       "\n",
       "    crispedricewafer  hard  bar  pluribus  sugarpercent  pricepercent  \\\n",
       "44                 0     0    0         1         0.197         0.976   \n",
       "7                  0     0    0         1         0.313         0.511   \n",
       "12                 0     0    0         1         0.046         0.325   \n",
       "72                 0     0    0         0         0.162         0.116   \n",
       "26                 0     1    0         1         0.093         0.511   \n",
       "\n",
       "    winpercent  \n",
       "44   22.445341  \n",
       "7    23.417824  \n",
       "12   24.524988  \n",
       "72   27.303865  \n",
       "26   28.127439  "
      ]
     },
     "execution_count": 13,
     "metadata": {},
     "output_type": "execute_result"
    }
   ],
   "source": [
    "# Smallest values for DV \"winpercent\"\n",
    "df_candy.sort_values(by=\"winpercent\").head(5)"
   ]
  },
  {
   "cell_type": "code",
   "execution_count": 14,
   "id": "a6173c6c",
   "metadata": {},
   "outputs": [
    {
     "name": "stdout",
     "output_type": "stream",
     "text": [
      "Sum of all winpercent: 4276.924924000001\n",
      "Number of Datapoints: 85\n",
      "The average is 50.316763811764716\n"
     ]
    }
   ],
   "source": [
    "# Average of DV \"winpercent\"\n",
    "\n",
    "print(\"Sum of all winpercent: \" + str(sum(df_candy[\"winpercent\"])))\n",
    "print(\"Number of Datapoints: \" + str(len(df_candy[\"winpercent\"])))\n",
    "print(\"The average is \" + str(sum(df_candy[\"winpercent\"]) / len(df_candy[\"winpercent\"])))"
   ]
  },
  {
   "cell_type": "code",
   "execution_count": 15,
   "id": "91964352",
   "metadata": {},
   "outputs": [
    {
     "name": "stdout",
     "output_type": "stream",
     "text": [
      "42nd value: 47.173229\n",
      "43rd value: 47.829754\n",
      "The median is 47.5014915\n"
     ]
    }
   ],
   "source": [
    "# Median of DV \"winpercent\" = average of 42nd and 43rd value = 41st and 42nd Index divided by two\n",
    "\n",
    "series_winpercent = df_candy[\"winpercent\"]\n",
    "sorted_series_winpercent = series_winpercent.sort_values()\n",
    "print(\"42nd value: \" + str(sorted_series_winpercent.iloc[41]))\n",
    "print(\"43rd value: \" + str(sorted_series_winpercent.iloc[42]))\n",
    "\n",
    "print(\"The median is \" + str((sorted_series_winpercent.iloc[41] + sorted_series_winpercent.iloc[42]) / 2))"
   ]
  },
  {
   "cell_type": "code",
   "execution_count": 16,
   "id": "7d7f2359",
   "metadata": {
    "scrolled": true
   },
   "outputs": [
    {
     "data": {
      "image/png": "[encoded data removed]",
      "text/plain": [
       "<Figure size 640x480 with 1 Axes>"
      ]
     },
     "metadata": {},
     "output_type": "display_data"
    }
   ],
   "source": [
    "# Check boxplot DV \"winpercent\" for outliers\n",
    "plt.boxplot(df_candy[\"winpercent\"], vert = 0)\n",
    "plt.title(\"Are there any outliers in winpercent?\")\n",
    "plt.xlabel(\"Winpercent\")\n",
    "plt.show()"
   ]
  },
  {
   "cell_type": "code",
   "execution_count": 17,
   "id": "e083d9c7",
   "metadata": {},
   "outputs": [
    {
     "data": {
      "image/png": "[encoded data removed]",
      "text/plain": [
       "<Figure size 640x480 with 1 Axes>"
      ]
     },
     "metadata": {},
     "output_type": "display_data"
    }
   ],
   "source": [
    "# Inspect histogram of DV \"winpercent\" to assess distribution \n",
    "plt.hist(df_candy[\"winpercent\"])\n",
    "plt.title(\"Histogram of winpercent\")\n",
    "plt.xlabel(\"winpercent\")\n",
    "plt.ylabel(\"Frequency\")\n",
    "plt.show()"
   ]
  },
  {
   "cell_type": "markdown",
   "id": "2b12632b",
   "metadata": {},
   "source": [
    "# Do the same for IVs \"sugarpercent\" and \"pricepercent\""
   ]
  },
  {
   "cell_type": "markdown",
   "id": "101790e0",
   "metadata": {},
   "source": [
    "# Inspect other IVs \"chocolate\", \"fruity\", etc."
   ]
  },
  {
   "cell_type": "code",
   "execution_count": 18,
   "id": "4b5b7f57",
   "metadata": {},
   "outputs": [
    {
     "name": "stdout",
     "output_type": "stream",
     "text": [
      "37\n",
      "85\n",
      "The proportion of candy that contains chocolate is 0.43529411764705883\n"
     ]
    }
   ],
   "source": [
    "# Find out distribution of IV \"chocolate\"\n",
    "\n",
    "print(sum(df_candy[\"chocolate\"]))\n",
    "print(len(df_candy[\"chocolate\"]))\n",
    "print(\"The proportion of candy that contains chocolate is \" + str(sum(df_candy[\"chocolate\"]) / len(df_candy[\"chocolate\"])))\n"
   ]
  },
  {
   "cell_type": "markdown",
   "id": "471acad2",
   "metadata": {},
   "source": [
    "# Do the same for the rest of the dichotomous IVs"
   ]
  },
  {
   "cell_type": "code",
   "execution_count": 19,
   "id": "7cde533f",
   "metadata": {},
   "outputs": [
    {
     "name": "stdout",
     "output_type": "stream",
     "text": [
      "38\n",
      "85\n",
      "The proportion of candy that is fruity is 0.4470588235294118\n"
     ]
    }
   ],
   "source": [
    "# Find out distribution of IV \"fruity\"\n",
    "\n",
    "print(sum(df_candy[\"fruity\"]))\n",
    "print(len(df_candy[\"fruity\"]))\n",
    "print(\"The proportion of candy that is fruity is \" + str(sum(df_candy[\"fruity\"]) / len(df_candy[\"fruity\"])))\n",
    "\n",
    "# Etc. pp.\n"
   ]
  },
  {
   "cell_type": "markdown",
   "id": "af9f9c05",
   "metadata": {},
   "source": [
    "# Do Multiple Linear Regression Analysis"
   ]
  },
  {
   "cell_type": "code",
   "execution_count": 20,
   "id": "fad45a14",
   "metadata": {},
   "outputs": [
    {
     "name": "stdout",
     "output_type": "stream",
     "text": [
      "[66.971725 67.602936 32.261086 46.116505 52.341465 50.347546 56.914547\n",
      " 23.417824 38.010963 34.517681 38.975037 36.017628 24.524988 42.272076\n",
      " 39.460556 43.088924 39.185505 46.783348 57.11974  34.158958 51.41243\n",
      " 42.178772 55.375454 62.284481 56.490501 59.236122 28.127439 57.21925\n",
      " 76.7686   41.389557 39.141056 52.911392 71.46505  66.574585 46.411716\n",
      " 55.064072 73.099556 60.800701 64.35334  47.829754 54.526451 55.354046\n",
      " 70.735641 66.47068  22.445341 39.4468   46.296597 69.483788 37.722336\n",
      " 41.265511 37.348522 81.866257 84.18029  73.43499  72.887901 35.290756\n",
      " 65.716286 29.703691 42.849144 34.722    63.08514  55.103695 37.887188\n",
      " 45.995827 76.673782 59.529251 59.863998 52.825947 67.037628 34.578991\n",
      " 33.43755  32.230995 27.303865 54.861111 48.982651 43.068897 45.736748\n",
      " 49.653503 47.173229 81.642914 45.466282 39.011898 44.375519 41.904308\n",
      " 49.524113]\n"
     ]
    }
   ],
   "source": [
    "y = df_candy[\"winpercent\"].values\n",
    "print(y)"
   ]
  },
  {
   "cell_type": "code",
   "execution_count": 21,
   "id": "f0fc62d3",
   "metadata": {},
   "outputs": [
    {
     "name": "stdout",
     "output_type": "stream",
     "text": [
      "[[1.         0.         1.         0.         0.         1.\n",
      "  0.         1.         0.         0.73199999 0.86000001]\n",
      " [1.         0.         0.         0.         1.         0.\n",
      "  0.         1.         0.         0.60399997 0.51099998]\n",
      " [0.         0.         0.         0.         0.         0.\n",
      "  0.         0.         0.         0.011      0.116     ]\n",
      " [0.         0.         0.         0.         0.         0.\n",
      "  0.         0.         0.         0.011      0.51099998]\n",
      " [0.         1.         0.         0.         0.         0.\n",
      "  0.         0.         0.         0.90600002 0.51099998]\n",
      " [1.         0.         0.         1.         0.         0.\n",
      "  0.         1.         0.         0.465      0.76700002]\n",
      " [1.         0.         1.         1.         1.         0.\n",
      "  0.         1.         0.         0.60399997 0.76700002]\n",
      " [0.         0.         0.         1.         0.         0.\n",
      "  0.         0.         1.         0.31299999 0.51099998]\n",
      " [0.         0.         0.         0.         0.         0.\n",
      "  0.         0.         1.         0.90600002 0.32499999]\n",
      " [0.         1.         1.         0.         0.         0.\n",
      "  0.         0.         0.         0.60399997 0.32499999]\n",
      " [1.         0.         0.         0.         1.         0.\n",
      "  0.         1.         0.         0.60399997 0.51099998]\n",
      " [0.         1.         0.         0.         0.         0.\n",
      "  0.         0.         1.         0.73199999 0.51099998]\n",
      " [0.         1.         0.         0.         0.         0.\n",
      "  0.         0.         1.         0.046      0.32499999]\n",
      " [0.         1.         0.         0.         0.         0.\n",
      "  0.         0.         1.         0.73199999 0.51099998]\n",
      " [0.         1.         0.         0.         0.         0.\n",
      "  1.         0.         0.         0.73199999 0.034     ]\n",
      " [0.         1.         0.         0.         0.         0.\n",
      "  0.         0.         1.         0.127      0.034     ]\n",
      " [0.         1.         0.         0.         0.         0.\n",
      "  1.         0.         0.         0.73199999 0.32499999]\n",
      " [0.         1.         0.         0.         0.         0.\n",
      "  1.         0.         1.         0.90600002 0.45300001]\n",
      " [0.         1.         0.         0.         0.         0.\n",
      "  0.         0.         1.         0.465      0.465     ]\n",
      " [0.         0.         0.         0.         0.         0.\n",
      "  0.         0.         1.         0.465      0.465     ]\n",
      " [0.         1.         0.         0.         0.         0.\n",
      "  0.         0.         1.         0.465      0.465     ]\n",
      " [0.         1.         0.         0.         0.         0.\n",
      "  0.         0.         1.         0.465      0.465     ]\n",
      " [1.         0.         0.         0.         0.         0.\n",
      "  0.         0.         1.         0.127      0.093     ]\n",
      " [1.         0.         0.         0.         0.         1.\n",
      "  0.         1.         0.         0.43000001 0.91799998]\n",
      " [1.         0.         0.         0.         0.         0.\n",
      "  0.         1.         0.         0.43000001 0.91799998]\n",
      " [1.         0.         0.         0.         0.         0.\n",
      "  0.         1.         0.         0.43000001 0.91799998]\n",
      " [0.         1.         0.         0.         0.         0.\n",
      "  1.         0.         1.         0.093      0.51099998]\n",
      " [1.         0.         0.         0.         0.         0.\n",
      "  0.         0.         1.         0.197      0.51099998]\n",
      " [1.         0.         0.         0.         0.         1.\n",
      "  0.         1.         0.         0.31299999 0.51099998]\n",
      " [0.         1.         0.         0.         0.         0.\n",
      "  0.         0.         0.         0.22       0.116     ]\n",
      " [0.         1.         0.         0.         0.         0.\n",
      "  1.         0.         0.         0.046      0.104     ]\n",
      " [0.         1.         0.         0.         0.         0.\n",
      "  0.         0.         0.         0.26699999 0.27900001]\n",
      " [1.         0.         0.         1.         0.         0.\n",
      "  0.         0.         1.         0.82499999 0.65100002]\n",
      " [1.         0.         0.         0.         0.         0.\n",
      "  0.         0.         1.         0.82499999 0.65100002]\n",
      " [0.         1.         0.         0.         0.         0.\n",
      "  0.         0.         1.         0.87199998 0.32499999]\n",
      " [1.         0.         1.         0.         0.         0.\n",
      "  0.         0.         1.         0.30199999 0.51099998]\n",
      " [1.         0.         1.         0.         1.         0.\n",
      "  0.         1.         0.         0.60399997 0.65100002]\n",
      " [1.         0.         1.         0.         1.         0.\n",
      "  0.         1.         0.         0.73199999 0.44100001]\n",
      " [1.         0.         1.         0.         0.         0.\n",
      "  0.         1.         0.         0.96499997 0.86000001]\n",
      " [1.         0.         0.         0.         0.         0.\n",
      "  0.         1.         0.         0.31299999 0.86000001]\n",
      " [1.         0.         0.         1.         0.         0.\n",
      "  0.         1.         0.         0.31299999 0.91799998]\n",
      " [0.         1.         0.         0.         0.         0.\n",
      "  1.         0.         1.         0.84799999 0.32499999]\n",
      " [1.         0.         0.         1.         0.         0.\n",
      "  0.         1.         0.         0.60399997 0.76700002]\n",
      " [1.         0.         0.         0.         0.         1.\n",
      "  0.         1.         0.         0.31299999 0.76700002]\n",
      " [0.         1.         0.         0.         0.         0.\n",
      "  0.         0.         1.         0.197      0.97600001]\n",
      " [0.         1.         0.         0.         0.         0.\n",
      "  0.         0.         1.         0.22       0.32499999]\n",
      " [0.         0.         0.         1.         1.         0.\n",
      "  0.         1.         0.         0.465      0.76700002]\n",
      " [1.         0.         0.         1.         0.         0.\n",
      "  0.         0.         1.         0.59299999 0.65100002]\n",
      " [0.         0.         0.         0.         0.         0.\n",
      "  0.         0.         1.         0.093      0.023     ]\n",
      " [0.         1.         0.         0.         0.         0.\n",
      "  1.         0.         1.         0.60399997 0.83700001]\n",
      " [0.         1.         0.         0.         0.         0.\n",
      "  0.         0.         1.         0.58099997 0.116     ]\n",
      " [1.         0.         0.         1.         0.         0.\n",
      "  0.         0.         0.         0.034      0.27900001]\n",
      " [1.         0.         0.         1.         0.         0.\n",
      "  0.         0.         0.         0.72000003 0.65100002]\n",
      " [1.         0.         0.         1.         0.         0.\n",
      "  0.         0.         1.         0.40599999 0.65100002]\n",
      " [1.         0.         0.         1.         0.         0.\n",
      "  0.         0.         0.         0.98799998 0.65100002]\n",
      " [0.         1.         0.         0.         0.         0.\n",
      "  1.         0.         0.         0.73199999 0.96499997]\n",
      " [1.         0.         1.         0.         0.         0.\n",
      "  0.         0.         1.         0.86000001 0.86000001]\n",
      " [0.         0.         0.         0.         0.         0.\n",
      "  1.         0.         1.         0.73199999 0.069     ]\n",
      " [0.         1.         0.         0.         0.         0.\n",
      "  1.         0.         1.         0.87199998 0.27900001]\n",
      " [1.         0.         0.         0.         0.         0.\n",
      "  0.         0.         1.         0.22       0.081     ]\n",
      " [0.         1.         0.         0.         0.         0.\n",
      "  0.         0.         1.         0.94099998 0.22      ]\n",
      " [0.         1.         0.         0.         0.         0.\n",
      "  0.         0.         1.         0.94099998 0.22      ]\n",
      " [1.         0.         0.         0.         0.         0.\n",
      "  0.         0.         1.         0.26699999 0.97600001]\n",
      " [0.         1.         0.         0.         0.         0.\n",
      "  1.         0.         1.         0.26699999 0.116     ]\n",
      " [1.         0.         1.         1.         1.         0.\n",
      "  0.         1.         0.         0.546      0.65100002]\n",
      " [1.         0.         1.         1.         0.         1.\n",
      "  0.         1.         0.         0.60399997 0.65100002]\n",
      " [0.         1.         0.         0.         0.         0.\n",
      "  0.         0.         1.         0.069      0.116     ]\n",
      " [0.         1.         0.         0.         0.         0.\n",
      "  0.         0.         1.         0.069      0.116     ]\n",
      " [0.         1.         0.         0.         0.         0.\n",
      "  0.         0.         1.         0.15099999 0.22      ]\n",
      " [0.         1.         0.         0.         0.         0.\n",
      "  1.         0.         1.         0.56900001 0.058     ]\n",
      " [0.         0.         1.         0.         0.         0.\n",
      "  0.         0.         1.         0.96499997 0.76700002]\n",
      " [0.         0.         1.         0.         0.         0.\n",
      "  0.         0.         0.         0.41800001 0.32499999]\n",
      " [0.         1.         0.         0.         0.         0.\n",
      "  0.         0.         0.         0.162      0.116     ]\n",
      " [0.         1.         0.         0.         0.         0.\n",
      "  0.         0.         1.         0.60399997 0.755     ]\n",
      " [1.         1.         0.         0.         0.         0.\n",
      "  1.         0.         0.         0.60399997 0.32499999]\n",
      " [1.         0.         0.         0.         0.         0.\n",
      "  0.         0.         0.         0.31299999 0.51099998]\n",
      " [1.         0.         0.         0.         0.         0.\n",
      "  0.         0.         1.         0.17399999 0.011     ]\n",
      " [1.         0.         0.         0.         0.         0.\n",
      "  0.         1.         0.         0.465      0.32499999]\n",
      " [0.         1.         0.         0.         0.         0.\n",
      "  0.         0.         1.         0.31299999 0.255     ]\n",
      " [1.         0.         1.         0.         0.         1.\n",
      "  0.         1.         0.         0.546      0.90600002]\n",
      " [0.         1.         0.         0.         0.         0.\n",
      "  0.         0.         0.         0.22       0.116     ]\n",
      " [0.         1.         0.         0.         0.         0.\n",
      "  1.         0.         0.         0.093      0.116     ]\n",
      " [0.         1.         0.         0.         0.         0.\n",
      "  0.         0.         1.         0.31299999 0.31299999]\n",
      " [0.         0.         1.         0.         0.         0.\n",
      "  1.         0.         0.         0.186      0.26699999]\n",
      " [1.         0.         0.         0.         0.         1.\n",
      "  0.         0.         1.         0.87199998 0.84799999]]\n"
     ]
    }
   ],
   "source": [
    "X = df_candy[[\"chocolate\", \"fruity\", \"caramel\", \"peanutyalmondy\", \"nougat\", \"crispedricewafer\", \"hard\", \"bar\", \"pluribus\", \"sugarpercent\", \"pricepercent\"]].values\n",
    "print(X)"
   ]
  },
  {
   "cell_type": "code",
   "execution_count": 22,
   "id": "631b55ca",
   "metadata": {},
   "outputs": [],
   "source": [
    "from sklearn.linear_model import LinearRegression"
   ]
  },
  {
   "cell_type": "code",
   "execution_count": 23,
   "id": "15720539",
   "metadata": {},
   "outputs": [],
   "source": [
    "regr = LinearRegression()"
   ]
  },
  {
   "cell_type": "code",
   "execution_count": 24,
   "id": "ebd7c538",
   "metadata": {},
   "outputs": [
    {
     "data": {
      "text/html": [
       "<style>#sk-container-id-1 {color: black;background-color: white;}#sk-container-id-1 pre{padding: 0;}#sk-container-id-1 div.sk-toggleable {background-color: white;}#sk-container-id-1 label.sk-toggleable__label {cursor: pointer;display: block;width: 100%;margin-bottom: 0;padding: 0.3em;box-sizing: border-box;text-align: center;}#sk-container-id-1 label.sk-toggleable__label-arrow:before {content: \"▸\";float: left;margin-right: 0.25em;color: #696969;}#sk-container-id-1 label.sk-toggleable__label-arrow:hover:before {color: black;}#sk-container-id-1 div.sk-estimator:hover label.sk-toggleable__label-arrow:before {color: black;}#sk-container-id-1 div.sk-toggleable__content {max-height: 0;max-width: 0;overflow: hidden;text-align: left;background-color: #f0f8ff;}#sk-container-id-1 div.sk-toggleable__content pre {margin: 0.2em;color: black;border-radius: 0.25em;background-color: #f0f8ff;}#sk-container-id-1 input.sk-toggleable__control:checked~div.sk-toggleable__content {max-height: 200px;max-width: 100%;overflow: auto;}#sk-container-id-1 input.sk-toggleable__control:checked~label.sk-toggleable__label-arrow:before {content: \"▾\";}#sk-container-id-1 div.sk-estimator input.sk-toggleable__control:checked~label.sk-toggleable__label {background-color: #d4ebff;}#sk-container-id-1 div.sk-label input.sk-toggleable__control:checked~label.sk-toggleable__label {background-color: #d4ebff;}#sk-container-id-1 input.sk-hidden--visually {border: 0;clip: rect(1px 1px 1px 1px);clip: rect(1px, 1px, 1px, 1px);height: 1px;margin: -1px;overflow: hidden;padding: 0;position: absolute;width: 1px;}#sk-container-id-1 div.sk-estimator {font-family: monospace;background-color: #f0f8ff;border: 1px dotted black;border-radius: 0.25em;box-sizing: border-box;margin-bottom: 0.5em;}#sk-container-id-1 div.sk-estimator:hover {background-color: #d4ebff;}#sk-container-id-1 div.sk-parallel-item::after {content: \"\";width: 100%;border-bottom: 1px solid gray;flex-grow: 1;}#sk-container-id-1 div.sk-label:hover label.sk-toggleable__label {background-color: #d4ebff;}#sk-container-id-1 div.sk-serial::before {content: \"\";position: absolute;border-left: 1px solid gray;box-sizing: border-box;top: 0;bottom: 0;left: 50%;z-index: 0;}#sk-container-id-1 div.sk-serial {display: flex;flex-direction: column;align-items: center;background-color: white;padding-right: 0.2em;padding-left: 0.2em;position: relative;}#sk-container-id-1 div.sk-item {position: relative;z-index: 1;}#sk-container-id-1 div.sk-parallel {display: flex;align-items: stretch;justify-content: center;background-color: white;position: relative;}#sk-container-id-1 div.sk-item::before, #sk-container-id-1 div.sk-parallel-item::before {content: \"\";position: absolute;border-left: 1px solid gray;box-sizing: border-box;top: 0;bottom: 0;left: 50%;z-index: -1;}#sk-container-id-1 div.sk-parallel-item {display: flex;flex-direction: column;z-index: 1;position: relative;background-color: white;}#sk-container-id-1 div.sk-parallel-item:first-child::after {align-self: flex-end;width: 50%;}#sk-container-id-1 div.sk-parallel-item:last-child::after {align-self: flex-start;width: 50%;}#sk-container-id-1 div.sk-parallel-item:only-child::after {width: 0;}#sk-container-id-1 div.sk-dashed-wrapped {border: 1px dashed gray;margin: 0 0.4em 0.5em 0.4em;box-sizing: border-box;padding-bottom: 0.4em;background-color: white;}#sk-container-id-1 div.sk-label label {font-family: monospace;font-weight: bold;display: inline-block;line-height: 1.2em;}#sk-container-id-1 div.sk-label-container {text-align: center;}#sk-container-id-1 div.sk-container {/* jupyter's `normalize.less` sets `[hidden] { display: none; }` but bootstrap.min.css set `[hidden] { display: none !important; }` so we also need the `!important` here to be able to override the default hidden behavior on the sphinx rendered scikit-learn.org. See: https://github.com/scikit-learn/scikit-learn/issues/21755 */display: inline-block !important;position: relative;}#sk-container-id-1 div.sk-text-repr-fallback {display: none;}</style><div id=\"sk-container-id-1\" class=\"sk-top-container\"><div class=\"sk-text-repr-fallback\"><pre>LinearRegression()</pre><b>In a Jupyter environment, please rerun this cell to show the HTML representation or trust the notebook. <br />On GitHub, the HTML representation is unable to render, please try loading this page with nbviewer.org.</b></div><div class=\"sk-container\" hidden><div class=\"sk-item\"><div class=\"sk-estimator sk-toggleable\"><input class=\"sk-toggleable__control sk-hidden--visually\" id=\"sk-estimator-id-1\" type=\"checkbox\" checked><label for=\"sk-estimator-id-1\" class=\"sk-toggleable__label sk-toggleable__label-arrow\">LinearRegression</label><div class=\"sk-toggleable__content\"><pre>LinearRegression()</pre></div></div></div></div></div>"
      ],
      "text/plain": [
       "LinearRegression()"
      ]
     },
     "execution_count": 24,
     "metadata": {},
     "output_type": "execute_result"
    }
   ],
   "source": [
    "regr.fit(X, y)"
   ]
  },
  {
   "cell_type": "code",
   "execution_count": 25,
   "id": "209c74c0",
   "metadata": {},
   "outputs": [
    {
     "name": "stdout",
     "output_type": "stream",
     "text": [
      "[67.40198272]\n"
     ]
    }
   ],
   "source": [
    "#predict the \"winpercent\" of a candy like \"100 Grand\" (real rating = 66.97) which contains \"chocolate\", \"caramel\", \"crispedricewafer\", \"bar\", and 0.73 \"sugarpercent\" and 0.86 \"pricepercent\":\n",
    "predicted_winpercent = regr.predict([[1, 0, 1, 0, 0, 1, 0, 1, 0, 0.73, 0.86]])\n",
    "print(predicted_winpercent)"
   ]
  },
  {
   "cell_type": "code",
   "execution_count": 26,
   "id": "96fd845c",
   "metadata": {},
   "outputs": [
    {
     "name": "stdout",
     "output_type": "stream",
     "text": [
      "[19.74806698  9.42232207  2.22448136 10.07068847  0.8043306   8.91896981\n",
      " -6.1653265   0.44154009 -0.85449954  9.08676286 -5.92836143]\n"
     ]
    }
   ],
   "source": [
    "# Find out regression coefficients for regression equation, explanation: 1.00 increase in characteristic explains which increase in \"winpercent\"?\n",
    "print(regr.coef_)"
   ]
  },
  {
   "cell_type": "code",
   "execution_count": 27,
   "id": "e8d8612a",
   "metadata": {},
   "outputs": [],
   "source": [
    "# Note for me: it seems that \"chocolate\", \"fruit\", \"caramel\", \"peanutyalmondy\"=good; \"nougat\"=doesnt matter; \"crispedricewafer\"=good; \"hard\"=bad; \"bar\", \"pluribus\"=dont matter; 1.00 more sugar=better but sugar is measured in 0.xx; 1.00 higher price=worse but price is measured in 0.yy"
   ]
  },
  {
   "cell_type": "code",
   "execution_count": 28,
   "id": "d31612fd",
   "metadata": {},
   "outputs": [],
   "source": [
    "# I still havent calculated Rsquared,statistical significance, Confidence Intervalls, checked assumptions (work in progress...)"
   ]
  },
  {
   "cell_type": "code",
   "execution_count": null,
   "id": "f502bad1",
   "metadata": {},
   "outputs": [],
   "source": []
  }
 ],
 "metadata": {
  "kernelspec": {
   "display_name": "Python 3 (ipykernel)",
   "language": "python",
   "name": "python3"
  },
  "language_info": {
   "codemirror_mode": {
    "name": "ipython",
    "version": 3
   },
   "file_extension": ".py",
   "mimetype": "text/x-python",
   "name": "python",
   "nbconvert_exporter": "python",
   "pygments_lexer": "ipython3",
   "version": "3.11.2"
  },
  "varInspector": {
   "cols": {
    "lenName": 16,
    "lenType": 16,
    "lenVar": 40
   },
   "kernels_config": {
    "python": {
     "delete_cmd_postfix": "",
     "delete_cmd_prefix": "del ",
     "library": "var_list.py",
     "varRefreshCmd": "print(var_dic_list())"
    },
    "r": {
     "delete_cmd_postfix": ") ",
     "delete_cmd_prefix": "rm(",
     "library": "var_list.r",
     "varRefreshCmd": "cat(var_dic_list()) "
    }
   },
   "position": {
    "height": "316.854px",
    "left": "910px",
    "right": "20px",
    "top": "120px",
    "width": "350px"
   },
   "types_to_exclude": [
    "module",
    "function",
    "builtin_function_or_method",
    "instance",
    "_Feature"
   ],
   "window_display": false
  }
 },
 "nbformat": 4,
 "nbformat_minor": 5
}
