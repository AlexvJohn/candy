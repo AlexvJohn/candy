{
 "cells": [
  {
   "cell_type": "markdown",
   "id": "3a2a6c6a",
   "metadata": {},
   "source": [
    "# Import libraries 2"
   ]
  },
  {
   "cell_type": "code",
   "execution_count": 1,
   "id": "72ce52dd",
   "metadata": {},
   "outputs": [],
   "source": [
    "import pandas as pd\n",
    "import numpy as np\n",
    "import matplotlib.pyplot as plt\n",
    "from sklearn.linear_model import LinearRegression"
   ]
  },
  {
   "cell_type": "markdown",
   "id": "5a42ae3a",
   "metadata": {},
   "source": [
    "# Import csv file"
   ]
  },
  {
   "cell_type": "code",
   "execution_count": 2,
   "id": "600f3808",
   "metadata": {},
   "outputs": [
    {
     "data": {
      "text/html": [
       "<div>\n",
       "<style scoped>\n",
       "    .dataframe tbody tr th:only-of-type {\n",
       "        vertical-align: middle;\n",
       "    }\n",
       "\n",
       "    .dataframe tbody tr th {\n",
       "        vertical-align: top;\n",
       "    }\n",
       "\n",
       "    .dataframe thead th {\n",
       "        text-align: right;\n",
       "    }\n",
       "</style>\n",
       "<table border=\"1\" class=\"dataframe\">\n",
       "  <thead>\n",
       "    <tr style=\"text-align: right;\">\n",
       "      <th></th>\n",
       "      <th>competitorname</th>\n",
       "      <th>chocolate</th>\n",
       "      <th>fruity</th>\n",
       "      <th>caramel</th>\n",
       "      <th>peanutyalmondy</th>\n",
       "      <th>nougat</th>\n",
       "      <th>crispedricewafer</th>\n",
       "      <th>hard</th>\n",
       "      <th>bar</th>\n",
       "      <th>pluribus</th>\n",
       "      <th>sugarpercent</th>\n",
       "      <th>pricepercent</th>\n",
       "      <th>winpercent</th>\n",
       "    </tr>\n",
       "  </thead>\n",
       "  <tbody>\n",
       "    <tr>\n",
       "      <th>0</th>\n",
       "      <td>100 Grand</td>\n",
       "      <td>1</td>\n",
       "      <td>0</td>\n",
       "      <td>1</td>\n",
       "      <td>0</td>\n",
       "      <td>0</td>\n",
       "      <td>1</td>\n",
       "      <td>0</td>\n",
       "      <td>1</td>\n",
       "      <td>0</td>\n",
       "      <td>0.732</td>\n",
       "      <td>0.860</td>\n",
       "      <td>66.971725</td>\n",
       "    </tr>\n",
       "    <tr>\n",
       "      <th>1</th>\n",
       "      <td>3 Musketeers</td>\n",
       "      <td>1</td>\n",
       "      <td>0</td>\n",
       "      <td>0</td>\n",
       "      <td>0</td>\n",
       "      <td>1</td>\n",
       "      <td>0</td>\n",
       "      <td>0</td>\n",
       "      <td>1</td>\n",
       "      <td>0</td>\n",
       "      <td>0.604</td>\n",
       "      <td>0.511</td>\n",
       "      <td>67.602936</td>\n",
       "    </tr>\n",
       "    <tr>\n",
       "      <th>2</th>\n",
       "      <td>One dime</td>\n",
       "      <td>0</td>\n",
       "      <td>0</td>\n",
       "      <td>0</td>\n",
       "      <td>0</td>\n",
       "      <td>0</td>\n",
       "      <td>0</td>\n",
       "      <td>0</td>\n",
       "      <td>0</td>\n",
       "      <td>0</td>\n",
       "      <td>0.011</td>\n",
       "      <td>0.116</td>\n",
       "      <td>32.261086</td>\n",
       "    </tr>\n",
       "  </tbody>\n",
       "</table>\n",
       "</div>"
      ],
      "text/plain": [
       "  competitorname  chocolate  fruity  caramel  peanutyalmondy  nougat  \\\n",
       "0      100 Grand          1       0        1               0       0   \n",
       "1   3 Musketeers          1       0        0               0       1   \n",
       "2       One dime          0       0        0               0       0   \n",
       "\n",
       "   crispedricewafer  hard  bar  pluribus  sugarpercent  pricepercent  \\\n",
       "0                 1     0    1         0         0.732         0.860   \n",
       "1                 0     0    1         0         0.604         0.511   \n",
       "2                 0     0    0         0         0.011         0.116   \n",
       "\n",
       "   winpercent  \n",
       "0   66.971725  \n",
       "1   67.602936  \n",
       "2   32.261086  "
      ]
     },
     "execution_count": 2,
     "metadata": {},
     "output_type": "execute_result"
    }
   ],
   "source": [
    "df_candy = pd.read_csv(\"/Users\\Lenovo\\Documents\\candy-data.csv\")\n",
    "df_candy.head(3)"
   ]
  },
  {
   "cell_type": "markdown",
   "id": "6717705e",
   "metadata": {},
   "source": [
    "# Here I should get toknow my data (see. candy-data-jupyter-notebook.ipynb)"
   ]
  },
  {
   "cell_type": "markdown",
   "id": "83987e51",
   "metadata": {},
   "source": [
    "# Now im looking at correlations with my DV"
   ]
  },
  {
   "cell_type": "code",
   "execution_count": 3,
   "id": "4bed8296",
   "metadata": {},
   "outputs": [
    {
     "data": {
      "text/plain": [
       "chocolate           0.636517\n",
       "fruity             -0.380938\n",
       "caramel             0.213416\n",
       "peanutyalmondy      0.406192\n",
       "nougat              0.199375\n",
       "crispedricewafer    0.324680\n",
       "hard               -0.310382\n",
       "bar                 0.429929\n",
       "pluribus           -0.247448\n",
       "sugarpercent        0.229151\n",
       "pricepercent        0.345325\n",
       "winpercent          1.000000\n",
       "Name: winpercent, dtype: float64"
      ]
     },
     "execution_count": 3,
     "metadata": {},
     "output_type": "execute_result"
    }
   ],
   "source": [
    "df_candy.corr(numeric_only=True)[\"winpercent\"]"
   ]
  },
  {
   "cell_type": "code",
   "execution_count": 4,
   "id": "9facdb30",
   "metadata": {},
   "outputs": [
    {
     "name": "stdout",
     "output_type": "stream",
     "text": [
      "[[1.         0.         1.         0.         0.         1.\n",
      "  0.         1.         0.         0.73199999 0.86000001]\n",
      " [1.         0.         0.         0.         1.         0.\n",
      "  0.         1.         0.         0.60399997 0.51099998]\n",
      " [0.         0.         0.         0.         0.         0.\n",
      "  0.         0.         0.         0.011      0.116     ]\n",
      " [0.         0.         0.         0.         0.         0.\n",
      "  0.         0.         0.         0.011      0.51099998]\n",
      " [0.         1.         0.         0.         0.         0.\n",
      "  0.         0.         0.         0.90600002 0.51099998]\n",
      " [1.         0.         0.         1.         0.         0.\n",
      "  0.         1.         0.         0.465      0.76700002]\n",
      " [1.         0.         1.         1.         1.         0.\n",
      "  0.         1.         0.         0.60399997 0.76700002]\n",
      " [0.         0.         0.         1.         0.         0.\n",
      "  0.         0.         1.         0.31299999 0.51099998]\n",
      " [0.         0.         0.         0.         0.         0.\n",
      "  0.         0.         1.         0.90600002 0.32499999]\n",
      " [0.         1.         1.         0.         0.         0.\n",
      "  0.         0.         0.         0.60399997 0.32499999]\n",
      " [1.         0.         0.         0.         1.         0.\n",
      "  0.         1.         0.         0.60399997 0.51099998]\n",
      " [0.         1.         0.         0.         0.         0.\n",
      "  0.         0.         1.         0.73199999 0.51099998]\n",
      " [0.         1.         0.         0.         0.         0.\n",
      "  0.         0.         1.         0.046      0.32499999]\n",
      " [0.         1.         0.         0.         0.         0.\n",
      "  0.         0.         1.         0.73199999 0.51099998]\n",
      " [0.         1.         0.         0.         0.         0.\n",
      "  1.         0.         0.         0.73199999 0.034     ]\n",
      " [0.         1.         0.         0.         0.         0.\n",
      "  0.         0.         1.         0.127      0.034     ]\n",
      " [0.         1.         0.         0.         0.         0.\n",
      "  1.         0.         0.         0.73199999 0.32499999]\n",
      " [0.         1.         0.         0.         0.         0.\n",
      "  1.         0.         1.         0.90600002 0.45300001]\n",
      " [0.         1.         0.         0.         0.         0.\n",
      "  0.         0.         1.         0.465      0.465     ]\n",
      " [0.         0.         0.         0.         0.         0.\n",
      "  0.         0.         1.         0.465      0.465     ]\n",
      " [0.         1.         0.         0.         0.         0.\n",
      "  0.         0.         1.         0.465      0.465     ]\n",
      " [0.         1.         0.         0.         0.         0.\n",
      "  0.         0.         1.         0.465      0.465     ]\n",
      " [1.         0.         0.         0.         0.         0.\n",
      "  0.         0.         1.         0.127      0.093     ]\n",
      " [1.         0.         0.         0.         0.         1.\n",
      "  0.         1.         0.         0.43000001 0.91799998]\n",
      " [1.         0.         0.         0.         0.         0.\n",
      "  0.         1.         0.         0.43000001 0.91799998]\n",
      " [1.         0.         0.         0.         0.         0.\n",
      "  0.         1.         0.         0.43000001 0.91799998]\n",
      " [0.         1.         0.         0.         0.         0.\n",
      "  1.         0.         1.         0.093      0.51099998]\n",
      " [1.         0.         0.         0.         0.         0.\n",
      "  0.         0.         1.         0.197      0.51099998]\n",
      " [1.         0.         0.         0.         0.         1.\n",
      "  0.         1.         0.         0.31299999 0.51099998]\n",
      " [0.         1.         0.         0.         0.         0.\n",
      "  0.         0.         0.         0.22       0.116     ]\n",
      " [0.         1.         0.         0.         0.         0.\n",
      "  1.         0.         0.         0.046      0.104     ]\n",
      " [0.         1.         0.         0.         0.         0.\n",
      "  0.         0.         0.         0.26699999 0.27900001]\n",
      " [1.         0.         0.         1.         0.         0.\n",
      "  0.         0.         1.         0.82499999 0.65100002]\n",
      " [1.         0.         0.         0.         0.         0.\n",
      "  0.         0.         1.         0.82499999 0.65100002]\n",
      " [0.         1.         0.         0.         0.         0.\n",
      "  0.         0.         1.         0.87199998 0.32499999]\n",
      " [1.         0.         1.         0.         0.         0.\n",
      "  0.         0.         1.         0.30199999 0.51099998]\n",
      " [1.         0.         1.         0.         1.         0.\n",
      "  0.         1.         0.         0.60399997 0.65100002]\n",
      " [1.         0.         1.         0.         1.         0.\n",
      "  0.         1.         0.         0.73199999 0.44100001]\n",
      " [1.         0.         1.         0.         0.         0.\n",
      "  0.         1.         0.         0.96499997 0.86000001]\n",
      " [1.         0.         0.         0.         0.         0.\n",
      "  0.         1.         0.         0.31299999 0.86000001]\n",
      " [1.         0.         0.         1.         0.         0.\n",
      "  0.         1.         0.         0.31299999 0.91799998]\n",
      " [0.         1.         0.         0.         0.         0.\n",
      "  1.         0.         1.         0.84799999 0.32499999]\n",
      " [1.         0.         0.         1.         0.         0.\n",
      "  0.         1.         0.         0.60399997 0.76700002]\n",
      " [1.         0.         0.         0.         0.         1.\n",
      "  0.         1.         0.         0.31299999 0.76700002]\n",
      " [0.         1.         0.         0.         0.         0.\n",
      "  0.         0.         1.         0.197      0.97600001]\n",
      " [0.         1.         0.         0.         0.         0.\n",
      "  0.         0.         1.         0.22       0.32499999]\n",
      " [0.         0.         0.         1.         1.         0.\n",
      "  0.         1.         0.         0.465      0.76700002]\n",
      " [1.         0.         0.         1.         0.         0.\n",
      "  0.         0.         1.         0.59299999 0.65100002]\n",
      " [0.         0.         0.         0.         0.         0.\n",
      "  0.         0.         1.         0.093      0.023     ]\n",
      " [0.         1.         0.         0.         0.         0.\n",
      "  1.         0.         1.         0.60399997 0.83700001]\n",
      " [0.         1.         0.         0.         0.         0.\n",
      "  0.         0.         1.         0.58099997 0.116     ]\n",
      " [1.         0.         0.         1.         0.         0.\n",
      "  0.         0.         0.         0.034      0.27900001]\n",
      " [1.         0.         0.         1.         0.         0.\n",
      "  0.         0.         0.         0.72000003 0.65100002]\n",
      " [1.         0.         0.         1.         0.         0.\n",
      "  0.         0.         1.         0.40599999 0.65100002]\n",
      " [1.         0.         0.         1.         0.         0.\n",
      "  0.         0.         0.         0.98799998 0.65100002]\n",
      " [0.         1.         0.         0.         0.         0.\n",
      "  1.         0.         0.         0.73199999 0.96499997]\n",
      " [1.         0.         1.         0.         0.         0.\n",
      "  0.         0.         1.         0.86000001 0.86000001]\n",
      " [0.         0.         0.         0.         0.         0.\n",
      "  1.         0.         1.         0.73199999 0.069     ]\n",
      " [0.         1.         0.         0.         0.         0.\n",
      "  1.         0.         1.         0.87199998 0.27900001]\n",
      " [1.         0.         0.         0.         0.         0.\n",
      "  0.         0.         1.         0.22       0.081     ]\n",
      " [0.         1.         0.         0.         0.         0.\n",
      "  0.         0.         1.         0.94099998 0.22      ]\n",
      " [0.         1.         0.         0.         0.         0.\n",
      "  0.         0.         1.         0.94099998 0.22      ]\n",
      " [1.         0.         0.         0.         0.         0.\n",
      "  0.         0.         1.         0.26699999 0.97600001]\n",
      " [0.         1.         0.         0.         0.         0.\n",
      "  1.         0.         1.         0.26699999 0.116     ]\n",
      " [1.         0.         1.         1.         1.         0.\n",
      "  0.         1.         0.         0.546      0.65100002]\n",
      " [1.         0.         1.         1.         0.         1.\n",
      "  0.         1.         0.         0.60399997 0.65100002]\n",
      " [0.         1.         0.         0.         0.         0.\n",
      "  0.         0.         1.         0.069      0.116     ]\n",
      " [0.         1.         0.         0.         0.         0.\n",
      "  0.         0.         1.         0.069      0.116     ]\n",
      " [0.         1.         0.         0.         0.         0.\n",
      "  0.         0.         1.         0.15099999 0.22      ]\n",
      " [0.         1.         0.         0.         0.         0.\n",
      "  1.         0.         1.         0.56900001 0.058     ]\n",
      " [0.         0.         1.         0.         0.         0.\n",
      "  0.         0.         1.         0.96499997 0.76700002]\n",
      " [0.         0.         1.         0.         0.         0.\n",
      "  0.         0.         0.         0.41800001 0.32499999]\n",
      " [0.         1.         0.         0.         0.         0.\n",
      "  0.         0.         0.         0.162      0.116     ]\n",
      " [0.         1.         0.         0.         0.         0.\n",
      "  0.         0.         1.         0.60399997 0.755     ]\n",
      " [1.         1.         0.         0.         0.         0.\n",
      "  1.         0.         0.         0.60399997 0.32499999]\n",
      " [1.         0.         0.         0.         0.         0.\n",
      "  0.         0.         0.         0.31299999 0.51099998]\n",
      " [1.         0.         0.         0.         0.         0.\n",
      "  0.         0.         1.         0.17399999 0.011     ]\n",
      " [1.         0.         0.         0.         0.         0.\n",
      "  0.         1.         0.         0.465      0.32499999]\n",
      " [0.         1.         0.         0.         0.         0.\n",
      "  0.         0.         1.         0.31299999 0.255     ]\n",
      " [1.         0.         1.         0.         0.         1.\n",
      "  0.         1.         0.         0.546      0.90600002]\n",
      " [0.         1.         0.         0.         0.         0.\n",
      "  0.         0.         0.         0.22       0.116     ]\n",
      " [0.         1.         0.         0.         0.         0.\n",
      "  1.         0.         0.         0.093      0.116     ]\n",
      " [0.         1.         0.         0.         0.         0.\n",
      "  0.         0.         1.         0.31299999 0.31299999]\n",
      " [0.         0.         1.         0.         0.         0.\n",
      "  1.         0.         0.         0.186      0.26699999]\n",
      " [1.         0.         0.         0.         0.         1.\n",
      "  0.         0.         1.         0.87199998 0.84799999]]\n"
     ]
    }
   ],
   "source": [
    "X_train = df_candy[[\"chocolate\", \"fruity\", \"caramel\", \"peanutyalmondy\", \"nougat\", \"crispedricewafer\", \"hard\", \"bar\", \"pluribus\", \"sugarpercent\", \"pricepercent\"]].values\n",
    "print(X_train)"
   ]
  },
  {
   "cell_type": "code",
   "execution_count": 5,
   "id": "1a9f7868",
   "metadata": {},
   "outputs": [
    {
     "name": "stdout",
     "output_type": "stream",
     "text": [
      "[66.971725 67.602936 32.261086 46.116505 52.341465 50.347546 56.914547\n",
      " 23.417824 38.010963 34.517681 38.975037 36.017628 24.524988 42.272076\n",
      " 39.460556 43.088924 39.185505 46.783348 57.11974  34.158958 51.41243\n",
      " 42.178772 55.375454 62.284481 56.490501 59.236122 28.127439 57.21925\n",
      " 76.7686   41.389557 39.141056 52.911392 71.46505  66.574585 46.411716\n",
      " 55.064072 73.099556 60.800701 64.35334  47.829754 54.526451 55.354046\n",
      " 70.735641 66.47068  22.445341 39.4468   46.296597 69.483788 37.722336\n",
      " 41.265511 37.348522 81.866257 84.18029  73.43499  72.887901 35.290756\n",
      " 65.716286 29.703691 42.849144 34.722    63.08514  55.103695 37.887188\n",
      " 45.995827 76.673782 59.529251 59.863998 52.825947 67.037628 34.578991\n",
      " 33.43755  32.230995 27.303865 54.861111 48.982651 43.068897 45.736748\n",
      " 49.653503 47.173229 81.642914 45.466282 39.011898 44.375519 41.904308\n",
      " 49.524113]\n"
     ]
    }
   ],
   "source": [
    "y_train = df_candy[\"winpercent\"].values\n",
    "print(y_train)"
   ]
  },
  {
   "cell_type": "code",
   "execution_count": 6,
   "id": "46d26be9",
   "metadata": {},
   "outputs": [
    {
     "data": {
      "text/html": [
       "<style>#sk-container-id-1 {color: black;background-color: white;}#sk-container-id-1 pre{padding: 0;}#sk-container-id-1 div.sk-toggleable {background-color: white;}#sk-container-id-1 label.sk-toggleable__label {cursor: pointer;display: block;width: 100%;margin-bottom: 0;padding: 0.3em;box-sizing: border-box;text-align: center;}#sk-container-id-1 label.sk-toggleable__label-arrow:before {content: \"▸\";float: left;margin-right: 0.25em;color: #696969;}#sk-container-id-1 label.sk-toggleable__label-arrow:hover:before {color: black;}#sk-container-id-1 div.sk-estimator:hover label.sk-toggleable__label-arrow:before {color: black;}#sk-container-id-1 div.sk-toggleable__content {max-height: 0;max-width: 0;overflow: hidden;text-align: left;background-color: #f0f8ff;}#sk-container-id-1 div.sk-toggleable__content pre {margin: 0.2em;color: black;border-radius: 0.25em;background-color: #f0f8ff;}#sk-container-id-1 input.sk-toggleable__control:checked~div.sk-toggleable__content {max-height: 200px;max-width: 100%;overflow: auto;}#sk-container-id-1 input.sk-toggleable__control:checked~label.sk-toggleable__label-arrow:before {content: \"▾\";}#sk-container-id-1 div.sk-estimator input.sk-toggleable__control:checked~label.sk-toggleable__label {background-color: #d4ebff;}#sk-container-id-1 div.sk-label input.sk-toggleable__control:checked~label.sk-toggleable__label {background-color: #d4ebff;}#sk-container-id-1 input.sk-hidden--visually {border: 0;clip: rect(1px 1px 1px 1px);clip: rect(1px, 1px, 1px, 1px);height: 1px;margin: -1px;overflow: hidden;padding: 0;position: absolute;width: 1px;}#sk-container-id-1 div.sk-estimator {font-family: monospace;background-color: #f0f8ff;border: 1px dotted black;border-radius: 0.25em;box-sizing: border-box;margin-bottom: 0.5em;}#sk-container-id-1 div.sk-estimator:hover {background-color: #d4ebff;}#sk-container-id-1 div.sk-parallel-item::after {content: \"\";width: 100%;border-bottom: 1px solid gray;flex-grow: 1;}#sk-container-id-1 div.sk-label:hover label.sk-toggleable__label {background-color: #d4ebff;}#sk-container-id-1 div.sk-serial::before {content: \"\";position: absolute;border-left: 1px solid gray;box-sizing: border-box;top: 0;bottom: 0;left: 50%;z-index: 0;}#sk-container-id-1 div.sk-serial {display: flex;flex-direction: column;align-items: center;background-color: white;padding-right: 0.2em;padding-left: 0.2em;position: relative;}#sk-container-id-1 div.sk-item {position: relative;z-index: 1;}#sk-container-id-1 div.sk-parallel {display: flex;align-items: stretch;justify-content: center;background-color: white;position: relative;}#sk-container-id-1 div.sk-item::before, #sk-container-id-1 div.sk-parallel-item::before {content: \"\";position: absolute;border-left: 1px solid gray;box-sizing: border-box;top: 0;bottom: 0;left: 50%;z-index: -1;}#sk-container-id-1 div.sk-parallel-item {display: flex;flex-direction: column;z-index: 1;position: relative;background-color: white;}#sk-container-id-1 div.sk-parallel-item:first-child::after {align-self: flex-end;width: 50%;}#sk-container-id-1 div.sk-parallel-item:last-child::after {align-self: flex-start;width: 50%;}#sk-container-id-1 div.sk-parallel-item:only-child::after {width: 0;}#sk-container-id-1 div.sk-dashed-wrapped {border: 1px dashed gray;margin: 0 0.4em 0.5em 0.4em;box-sizing: border-box;padding-bottom: 0.4em;background-color: white;}#sk-container-id-1 div.sk-label label {font-family: monospace;font-weight: bold;display: inline-block;line-height: 1.2em;}#sk-container-id-1 div.sk-label-container {text-align: center;}#sk-container-id-1 div.sk-container {/* jupyter's `normalize.less` sets `[hidden] { display: none; }` but bootstrap.min.css set `[hidden] { display: none !important; }` so we also need the `!important` here to be able to override the default hidden behavior on the sphinx rendered scikit-learn.org. See: https://github.com/scikit-learn/scikit-learn/issues/21755 */display: inline-block !important;position: relative;}#sk-container-id-1 div.sk-text-repr-fallback {display: none;}</style><div id=\"sk-container-id-1\" class=\"sk-top-container\"><div class=\"sk-text-repr-fallback\"><pre>LinearRegression()</pre><b>In a Jupyter environment, please rerun this cell to show the HTML representation or trust the notebook. <br />On GitHub, the HTML representation is unable to render, please try loading this page with nbviewer.org.</b></div><div class=\"sk-container\" hidden><div class=\"sk-item\"><div class=\"sk-estimator sk-toggleable\"><input class=\"sk-toggleable__control sk-hidden--visually\" id=\"sk-estimator-id-1\" type=\"checkbox\" checked><label for=\"sk-estimator-id-1\" class=\"sk-toggleable__label sk-toggleable__label-arrow\">LinearRegression</label><div class=\"sk-toggleable__content\"><pre>LinearRegression()</pre></div></div></div></div></div>"
      ],
      "text/plain": [
       "LinearRegression()"
      ]
     },
     "execution_count": 6,
     "metadata": {},
     "output_type": "execute_result"
    }
   ],
   "source": [
    "regr = LinearRegression()\n",
    "regr.fit(X_train, y_train)"
   ]
  },
  {
   "cell_type": "code",
   "execution_count": 7,
   "id": "425e5a43",
   "metadata": {},
   "outputs": [
    {
     "name": "stdout",
     "output_type": "stream",
     "text": [
      "[67.40198272]\n"
     ]
    }
   ],
   "source": [
    "#predict the \"winpercent\" of a candy like \"100 Grand\" (real rating = 66.97) which contains \"chocolate\", \"caramel\", \"crispedricewafer\", \"bar\", and 0.73 \"sugarpercent\" and 0.86 \"pricepercent\":\n",
    "predicted_winpercent = regr.predict([[1, 0, 1, 0, 0, 1, 0, 1, 0, 0.73, 0.86]])\n",
    "print(predicted_winpercent)"
   ]
  },
  {
   "cell_type": "code",
   "execution_count": 8,
   "id": "8bc2fc0a",
   "metadata": {},
   "outputs": [
    {
     "name": "stdout",
     "output_type": "stream",
     "text": [
      "[67.4201561  57.98692801 33.94624288 31.60454024 49.15951525 64.47256535\n",
      " 68.76443708 43.56493145 39.9853688  49.74246894 57.98692801 46.72391869\n",
      " 41.59307463 46.72391869 44.24092    44.05425552 42.5157669  42.48353399\n",
      " 44.57045761 35.14813554 44.57045761 44.57045761 54.03022711 62.10762775\n",
      " 53.18865794 53.18865794 34.75215083 52.18824556 63.45731941 45.26769839\n",
      " 37.59241548 44.72845318 67.13545018 57.06476171 49.09874057 55.36683694\n",
      " 59.38143854 61.78950033 60.61840185 52.46935129 62.19619497 42.71533185\n",
      " 65.73562512 61.93965865 39.10581241 43.17417136 45.52882898 65.0273212\n",
      " 34.38819552 37.46284036 47.69351996 63.00767092 67.03583998 63.32809654\n",
      " 69.47109198 38.7216157  58.36825248 33.75660577 43.20611857 54.9464364\n",
      " 50.3482051  50.3482051  50.06763063 38.6749501  68.92509504 77.56676622\n",
      " 43.04109763 43.04109763 43.16966253 41.76299765 40.12563279 38.63000934\n",
      " 44.74066614 44.11429256 61.10072805 54.09680951 54.94343052 57.02221281\n",
      " 44.43422546 65.45731361 45.26769839 37.94835302 44.09038056 30.70039873\n",
      " 65.24292226]\n"
     ]
    }
   ],
   "source": [
    "sklearn_y_predictions = regr.predict(X_train)\n",
    "print(sklearn_y_predictions)"
   ]
  },
  {
   "cell_type": "code",
   "execution_count": 9,
   "id": "d1cee9a3",
   "metadata": {},
   "outputs": [],
   "source": [
    "from sklearn.metrics import mean_absolute_error, mean_squared_error"
   ]
  },
  {
   "cell_type": "code",
   "execution_count": 10,
   "id": "f86b118a",
   "metadata": {},
   "outputs": [
    {
     "name": "stdout",
     "output_type": "stream",
     "text": [
      "Mean absolute error: 7.955402203016126\n",
      "Mean squared error: 98.37927075848414\n"
     ]
    }
   ],
   "source": [
    "print(\"Mean absolute error: \" + str(mean_absolute_error(sklearn_y_predictions, y_train)))\n",
    "print(\"Mean squared error: \" + str(mean_squared_error(sklearn_y_predictions, y_train)))"
   ]
  },
  {
   "cell_type": "markdown",
   "id": "7b95768c",
   "metadata": {},
   "source": [
    "# Diese Scatter Matrix war ein voller fail, aber das Prinzip macht sinn für die Variablen, die nicht dichotomous sind"
   ]
  },
  {
   "cell_type": "code",
   "execution_count": 11,
   "id": "289a871b",
   "metadata": {},
   "outputs": [],
   "source": [
    "from pandas.plotting import scatter_matrix"
   ]
  },
  {
   "cell_type": "code",
   "execution_count": 12,
   "id": "2c09a8ef",
   "metadata": {},
   "outputs": [],
   "source": [
    "# scatter_matrix(df_candy, figsize=(20,20))\n",
    "# plt.show"
   ]
  },
  {
   "cell_type": "markdown",
   "id": "c93acf25",
   "metadata": {},
   "source": [
    "# Get to know scipy (mit nem Inder)"
   ]
  },
  {
   "cell_type": "markdown",
   "id": "eed00311",
   "metadata": {},
   "source": [
    "# scipy: Confidence Intervals, t-Distribution; numpy: Mean, Median"
   ]
  },
  {
   "cell_type": "markdown",
   "id": "57a0671f",
   "metadata": {},
   "source": [
    "Import libraries part 2:"
   ]
  },
  {
   "cell_type": "code",
   "execution_count": 13,
   "id": "84a65d58",
   "metadata": {},
   "outputs": [],
   "source": [
    "from scipy import stats\n",
    "from scipy.stats import linregress, t"
   ]
  },
  {
   "cell_type": "code",
   "execution_count": 14,
   "id": "7cf1e6df",
   "metadata": {},
   "outputs": [],
   "source": [
    "samp_data = [15, 15, 15, 15, 14, 17, 18, 21, 22, 24, 26, 29, 29,30, 25]"
   ]
  },
  {
   "cell_type": "code",
   "execution_count": 15,
   "id": "83db7392",
   "metadata": {},
   "outputs": [
    {
     "data": {
      "text/plain": [
       "(17.764149813840643, 24.235850186159357)"
      ]
     },
     "execution_count": 15,
     "metadata": {},
     "output_type": "execute_result"
    }
   ],
   "source": [
    "stats.t.interval(confidence=0.95, loc=np.mean(samp_data), df=len(samp_data)-1, scale=stats.sem(samp_data))"
   ]
  },
  {
   "cell_type": "code",
   "execution_count": 16,
   "id": "48819173",
   "metadata": {},
   "outputs": [
    {
     "name": "stdout",
     "output_type": "stream",
     "text": [
      "21.0\n",
      "21.0\n"
     ]
    }
   ],
   "source": [
    "print(np.mean(samp_data))\n",
    "print(np.median(samp_data))"
   ]
  },
  {
   "cell_type": "code",
   "execution_count": 17,
   "id": "b7e40fa2",
   "metadata": {},
   "outputs": [],
   "source": [
    "# There was some mistake in this code:\n",
    "# scipy.stats.linregress(X_data, y_data, alternate=\"less\")"
   ]
  },
  {
   "cell_type": "markdown",
   "id": "c0c7757b",
   "metadata": {},
   "source": [
    "# scipy: Simple Linear Regression, Intercept, Slope, Regressionline"
   ]
  },
  {
   "cell_type": "code",
   "execution_count": 18,
   "id": "33f9a62b",
   "metadata": {},
   "outputs": [],
   "source": [
    "rand_numgen = np.random.default_rng(3)\n",
    "X_data = rand_numgen.random(15)\n",
    "y_data = 1.5*X_data + rand_numgen.random(15)"
   ]
  },
  {
   "cell_type": "code",
   "execution_count": 19,
   "id": "86a15d87",
   "metadata": {},
   "outputs": [],
   "source": [
    "lin_res = linregress(X_data, y_data)"
   ]
  },
  {
   "cell_type": "code",
   "execution_count": 20,
   "id": "15025a99",
   "metadata": {},
   "outputs": [
    {
     "name": "stdout",
     "output_type": "stream",
     "text": [
      "Slope 1.4045125427669276\n",
      "Intercept 0.5689065772815937\n"
     ]
    }
   ],
   "source": [
    "print(\"Slope\", lin_res.slope)\n",
    "print(\"Intercept\", lin_res.intercept)"
   ]
  },
  {
   "cell_type": "code",
   "execution_count": 21,
   "id": "1d4e0892",
   "metadata": {
    "scrolled": true
   },
   "outputs": [
    {
     "data": {
      "text/plain": [
       "<matplotlib.legend.Legend at 0x1b4ffaeced0>"
      ]
     },
     "execution_count": 21,
     "metadata": {},
     "output_type": "execute_result"
    },
    {
     "data": {
      "image/png": "[encoded data removed]",
      "text/plain": [
       "<Figure size 640x480 with 1 Axes>"
      ]
     },
     "metadata": {},
     "output_type": "display_data"
    }
   ],
   "source": [
    "plt.plot(X_data, y_data, \"o\", label=\"original data\")\n",
    "plt.plot(X_data, lin_res.intercept + lin_res.slope*X_data, \"r\", label=\"fitted line\")\n",
    "plt.legend()"
   ]
  },
  {
   "cell_type": "markdown",
   "id": "9e856608",
   "metadata": {},
   "source": [
    "# scipy: Mean Difference Confidence Interval"
   ]
  },
  {
   "cell_type": "code",
   "execution_count": 22,
   "id": "1373def3",
   "metadata": {},
   "outputs": [],
   "source": [
    "alp =0.05\n",
    "samp_data1 = np.array([14,17, 10, 19, 7, 20])\n",
    "samp_data2 = np.array([3, 2, 10, 16, 10, 8])\n",
    "diffsamp = samp_data1 - samp_data2"
   ]
  },
  {
   "cell_type": "code",
   "execution_count": 23,
   "id": "96ffaea6",
   "metadata": {},
   "outputs": [],
   "source": [
    "len_no_obs= len(samp_data1)"
   ]
  },
  {
   "cell_type": "code",
   "execution_count": 24,
   "id": "962a2fd0",
   "metadata": {},
   "outputs": [],
   "source": [
    "diffmean = np.mean(diffsamp)\n",
    "diffvar = np.var(diffsamp, ddof=1)\n",
    "criticalvalue = stats.t.ppf(q = 1-alp/2, df = len_no_obs - 1)\n",
    "rad = criticalvalue*np.sqrt(diffvar)/np.sqrt(len_no_obs)"
   ]
  },
  {
   "cell_type": "code",
   "execution_count": 25,
   "id": "cbf7196c",
   "metadata": {},
   "outputs": [
    {
     "name": "stdout",
     "output_type": "stream",
     "text": [
      "The mean difference between our 2 samples is: 6.333333333333333\n",
      "Our 95% CI reaches from: -1.3402349840535628 to 14.006901650720229\n"
     ]
    }
   ],
   "source": [
    "# compute CI difference\n",
    "print(\"The mean difference between our 2 samples is: \" + str(diffmean))\n",
    "print(\"Our 95% CI reaches from: \" + str(diffmean - rad) + \" to \" + str(diffmean + rad))"
   ]
  },
  {
   "cell_type": "markdown",
   "id": "03bac412",
   "metadata": {},
   "source": [
    "# scipy: Confidence Interval from a random sample to a population"
   ]
  },
  {
   "cell_type": "code",
   "execution_count": 26,
   "id": "ebea12e9",
   "metadata": {},
   "outputs": [],
   "source": [
    "def m_conf_intval(samp_data, confid=0.95):\n",
    "    data = 1.0 * np.array(samp_data)\n",
    "    len_n = len(data)\n",
    "    mean, std_err = np.mean(data), stats.sem(data)\n",
    "    h = std_err * stats.t.ppf((1 + confid) / 2., len_n-1)\n",
    "    return mean, mean-h, mean+h"
   ]
  },
  {
   "cell_type": "code",
   "execution_count": 27,
   "id": "9aa8c476",
   "metadata": {},
   "outputs": [
    {
     "data": {
      "text/plain": [
       "(5.142857142857143, 2.729466217951526, 7.556248067762761)"
      ]
     },
     "execution_count": 27,
     "metadata": {},
     "output_type": "execute_result"
    }
   ],
   "source": [
    "data = [2, 4, 6, 3, 8, 9, 4]\n",
    "m_conf_intval(data)"
   ]
  },
  {
   "cell_type": "markdown",
   "id": "74ce37e8",
   "metadata": {},
   "source": [
    "# scipy: Confidence Interval Binominal"
   ]
  },
  {
   "cell_type": "code",
   "execution_count": 28,
   "id": "199176d0",
   "metadata": {},
   "outputs": [
    {
     "name": "stdout",
     "output_type": "stream",
     "text": [
      "5.3\n",
      "0.7461009761866464\n"
     ]
    }
   ],
   "source": [
    "samp_data_binom = [2, 5, 3, 7, 9, 5, 7, 2, 6, 7]\n",
    "print(np.mean(samp_data_binom))\n",
    "print(stats.sem(samp_data_binom))"
   ]
  },
  {
   "cell_type": "code",
   "execution_count": 29,
   "id": "50b33b76",
   "metadata": {},
   "outputs": [
    {
     "data": {
      "text/plain": [
       "(8.3, 14.3)"
      ]
     },
     "execution_count": 29,
     "metadata": {},
     "output_type": "execute_result"
    }
   ],
   "source": [
    "stats.binom.interval(confidence=0.99,\n",
    "                    n=len(samp_data_binom)-1,\n",
    "                    loc=np.mean(samp_data_binom),\n",
    "                    p=stats.sem(samp_data_binom))"
   ]
  },
  {
   "cell_type": "markdown",
   "id": "5868b0c7",
   "metadata": {},
   "source": [
    "# Confidence Intervals (mit nem Ami)"
   ]
  },
  {
   "cell_type": "markdown",
   "id": "3436ccc5",
   "metadata": {},
   "source": [
    "Right now unimportant, because he explains CIs for sample estimations of a population "
   ]
  },
  {
   "cell_type": "markdown",
   "id": "13aab9f0",
   "metadata": {},
   "source": [
    "# A very sexy Simple Linear Regression (mit nem anderen Ami)"
   ]
  },
  {
   "cell_type": "markdown",
   "id": "0a9a218c",
   "metadata": {},
   "source": [
    "I will be using patsy, I probably includes Confidence Intervals, Rsquared and other fun things"
   ]
  },
  {
   "cell_type": "code",
   "execution_count": 30,
   "id": "cd4cd187",
   "metadata": {},
   "outputs": [],
   "source": [
    "import seaborn as sns"
   ]
  },
  {
   "cell_type": "code",
   "execution_count": 31,
   "id": "cc4e84e7",
   "metadata": {},
   "outputs": [],
   "source": [
    "import statsmodels.formula.api as smf"
   ]
  },
  {
   "cell_type": "code",
   "execution_count": 38,
   "id": "73679692",
   "metadata": {},
   "outputs": [],
   "source": [
    "import patsy"
   ]
  },
  {
   "cell_type": "code",
   "execution_count": 39,
   "id": "5cc49017",
   "metadata": {},
   "outputs": [],
   "source": [
    "# With the following code I can create a matrix of scatterplots showing the correlations between all of my variables\n",
    "# hue=\"competitornam\" makes every Candyname have a different colour in those scatterplots\n",
    "# sns.pairplot(df_candy, hue=\"competitorname\")"
   ]
  },
  {
   "cell_type": "code",
   "execution_count": 52,
   "id": "3617093f",
   "metadata": {},
   "outputs": [
    {
     "data": {
      "text/plain": [
       "0    66.971725\n",
       "1    67.602936\n",
       "2    32.261086\n",
       "Name: winpercent, dtype: float64"
      ]
     },
     "execution_count": 52,
     "metadata": {},
     "output_type": "execute_result"
    }
   ],
   "source": [
    "y_data = df_candy[\"winpercent\"]\n",
    "y_data.head(3)"
   ]
  },
  {
   "cell_type": "code",
   "execution_count": 53,
   "id": "0ec68437",
   "metadata": {},
   "outputs": [
    {
     "data": {
      "text/plain": [
       "0    0.732\n",
       "1    0.604\n",
       "2    0.011\n",
       "Name: sugarpercent, dtype: float64"
      ]
     },
     "execution_count": 53,
     "metadata": {},
     "output_type": "execute_result"
    }
   ],
   "source": [
    "X_data = df_candy[\"sugarpercent\"]\n",
    "X_data.head(3)"
   ]
  },
  {
   "cell_type": "code",
   "execution_count": 54,
   "id": "e61047a8",
   "metadata": {},
   "outputs": [
    {
     "data": {
      "text/html": [
       "<div>\n",
       "<style scoped>\n",
       "    .dataframe tbody tr th:only-of-type {\n",
       "        vertical-align: middle;\n",
       "    }\n",
       "\n",
       "    .dataframe tbody tr th {\n",
       "        vertical-align: top;\n",
       "    }\n",
       "\n",
       "    .dataframe thead th {\n",
       "        text-align: right;\n",
       "    }\n",
       "</style>\n",
       "<table border=\"1\" class=\"dataframe\">\n",
       "  <thead>\n",
       "    <tr style=\"text-align: right;\">\n",
       "      <th></th>\n",
       "      <th>X_data</th>\n",
       "      <th>y_data</th>\n",
       "    </tr>\n",
       "  </thead>\n",
       "  <tbody>\n",
       "    <tr>\n",
       "      <th>0</th>\n",
       "      <td>0.732</td>\n",
       "      <td>66.971725</td>\n",
       "    </tr>\n",
       "    <tr>\n",
       "      <th>1</th>\n",
       "      <td>0.604</td>\n",
       "      <td>67.602936</td>\n",
       "    </tr>\n",
       "    <tr>\n",
       "      <th>2</th>\n",
       "      <td>0.011</td>\n",
       "      <td>32.261086</td>\n",
       "    </tr>\n",
       "  </tbody>\n",
       "</table>\n",
       "</div>"
      ],
      "text/plain": [
       "   X_data     y_data\n",
       "0   0.732  66.971725\n",
       "1   0.604  67.602936\n",
       "2   0.011  32.261086"
      ]
     },
     "execution_count": 54,
     "metadata": {},
     "output_type": "execute_result"
    }
   ],
   "source": [
    "data = pd.concat([X_data, y_data], axis=1, keys=['X_data', 'y_data'])\n",
    "data.head(3)"
   ]
  },
  {
   "cell_type": "code",
   "execution_count": 55,
   "id": "1d972bba",
   "metadata": {},
   "outputs": [
    {
     "data": {
      "image/png": "[encoded data removed]",
      "text/plain": [
       "<Figure size 640x480 with 1 Axes>"
      ]
     },
     "metadata": {},
     "output_type": "display_data"
    }
   ],
   "source": [
    "plt.scatter(X_data, y_data)\n",
    "plt.xlabel(\"sugarpercent\")\n",
    "plt.ylabel(\"winpercent\")\n",
    "plt.show()"
   ]
  },
  {
   "cell_type": "code",
   "execution_count": 56,
   "id": "1d7a28a2",
   "metadata": {},
   "outputs": [],
   "source": [
    "y_dm, X_dm = patsy.dmatrices(\"y_data ~ X_data\", data)"
   ]
  },
  {
   "cell_type": "code",
   "execution_count": 60,
   "id": "e780a011",
   "metadata": {},
   "outputs": [],
   "source": [
    "# nice"
   ]
  },
  {
   "cell_type": "code",
   "execution_count": 62,
   "id": "69e55ff7",
   "metadata": {},
   "outputs": [],
   "source": [
    "# Define a matrix A\n",
    "# A = np.array([[1, 2, 3], [4, 5, 6]])\n",
    "\n",
    "# Compute the pseudoinverse of A\n",
    "# A_pinv = np.linalg.pinv(A)\n",
    "\n",
    "# Fuer mich bedeutet das:\n",
    "X_dm_pinv = np.linalg.pinv(X_dm)"
   ]
  },
  {
   "cell_type": "code",
   "execution_count": 63,
   "id": "cab96f67",
   "metadata": {
    "scrolled": true
   },
   "outputs": [
    {
     "name": "stdout",
     "output_type": "stream",
     "text": [
      "[[-0.0062892   0.00283207  0.04508919  0.04508919 -0.01868843  0.01273719\n",
      "   0.00283207  0.0235687  -0.01868843  0.00283207  0.00283207 -0.0062892\n",
      "   0.0425951  -0.0062892  -0.0062892   0.03682304 -0.0062892  -0.01868843\n",
      "   0.01273719  0.01273719  0.01273719  0.01273719  0.03682304  0.01523129\n",
      "   0.01523129  0.01523129  0.03924588  0.03183485  0.0235687   0.03019587\n",
      "   0.0425951   0.02684666 -0.01291637 -0.01291637 -0.01626559  0.02435256\n",
      "   0.00283207 -0.0062892  -0.02289276  0.0235687   0.0235687  -0.01455535\n",
      "   0.00283207  0.0235687   0.03183485  0.03019587  0.01273719  0.00361593\n",
      "   0.03924588  0.00283207  0.00447105  0.04345021 -0.00543409  0.01694153\n",
      "  -0.02453174 -0.0062892  -0.01541047 -0.0062892  -0.01626559  0.03019587\n",
      "  -0.02118252 -0.02118252  0.02684666  0.02684666  0.00696514  0.00283207\n",
      "   0.04095612  0.04095612  0.03511281  0.00532616 -0.02289276  0.01608641\n",
      "   0.03432895  0.00283207  0.00283207  0.0235687   0.03347383  0.01273719\n",
      "   0.0235687   0.00696514  0.03019587  0.03924588  0.0235687   0.03261871\n",
      "  -0.01626559]\n",
      " [ 0.03771862  0.01866226 -0.06962225 -0.06962225  0.06362336 -0.00203174\n",
      "   0.01866226 -0.02466117  0.06362336  0.01866226  0.01866226  0.03771862\n",
      "  -0.06441153  0.03771862  0.03771862 -0.05235243  0.03771862  0.06362336\n",
      "  -0.00203174 -0.00203174 -0.00203174 -0.00203174 -0.05235243 -0.00724246\n",
      "  -0.00724246 -0.00724246 -0.05741428 -0.04193099 -0.02466117 -0.0385068\n",
      "  -0.06441153 -0.03150954  0.05156426  0.05156426  0.05856151 -0.02629882\n",
      "   0.01866226  0.03771862  0.07240714 -0.02466117 -0.02466117  0.05498844\n",
      "   0.01866226 -0.02466117 -0.04193099 -0.0385068  -0.00203174  0.01702461\n",
      "  -0.05741428  0.01866226  0.01523807 -0.06619806  0.03593209 -0.01081553\n",
      "   0.07583133  0.03771862  0.05677498  0.03771862  0.05856151 -0.0385068\n",
      "   0.06883408  0.06883408 -0.03150954 -0.03150954  0.01002736  0.01866226\n",
      "  -0.06098734 -0.06098734 -0.04877937  0.01345155  0.07240714 -0.009029\n",
      "  -0.04714171  0.01866226  0.01866226 -0.02466117 -0.04535518 -0.00203174\n",
      "  -0.02466117  0.01002736 -0.0385068  -0.05741428 -0.02466117 -0.04356864\n",
      "   0.05856151]]\n"
     ]
    }
   ],
   "source": [
    "print(X_dm_pinv)"
   ]
  },
  {
   "cell_type": "code",
   "execution_count": 66,
   "id": "56047cd4",
   "metadata": {},
   "outputs": [
    {
     "data": {
      "text/plain": [
       "array([[44.60944181],\n",
       "       [11.92386329]])"
      ]
     },
     "execution_count": 66,
     "metadata": {},
     "output_type": "execute_result"
    }
   ],
   "source": [
    "X_dm_pinv @ y_dm"
   ]
  },
  {
   "cell_type": "markdown",
   "id": "afa3a78f",
   "metadata": {},
   "source": [
    "Now do a fully automated version of Simple Linear Regression using statsmodels"
   ]
  },
  {
   "cell_type": "code",
   "execution_count": 67,
   "id": "fcd33111",
   "metadata": {},
   "outputs": [],
   "source": [
    "import statsmodels.api as sm"
   ]
  },
  {
   "cell_type": "code",
   "execution_count": 68,
   "id": "45e3c283",
   "metadata": {},
   "outputs": [
    {
     "data": {
      "text/html": [
       "<table class=\"simpletable\">\n",
       "<caption>OLS Regression Results</caption>\n",
       "<tr>\n",
       "  <th>Dep. Variable:</th>         <td>y_data</td>      <th>  R-squared:         </th> <td>   0.053</td>\n",
       "</tr>\n",
       "<tr>\n",
       "  <th>Model:</th>                   <td>OLS</td>       <th>  Adj. R-squared:    </th> <td>   0.041</td>\n",
       "</tr>\n",
       "<tr>\n",
       "  <th>Method:</th>             <td>Least Squares</td>  <th>  F-statistic:       </th> <td>   4.600</td>\n",
       "</tr>\n",
       "<tr>\n",
       "  <th>Date:</th>             <td>Sat, 25 Feb 2023</td> <th>  Prob (F-statistic):</th>  <td>0.0349</td> \n",
       "</tr>\n",
       "<tr>\n",
       "  <th>Time:</th>                 <td>19:23:16</td>     <th>  Log-Likelihood:    </th> <td> -346.36</td>\n",
       "</tr>\n",
       "<tr>\n",
       "  <th>No. Observations:</th>      <td>    85</td>      <th>  AIC:               </th> <td>   696.7</td>\n",
       "</tr>\n",
       "<tr>\n",
       "  <th>Df Residuals:</th>          <td>    83</td>      <th>  BIC:               </th> <td>   701.6</td>\n",
       "</tr>\n",
       "<tr>\n",
       "  <th>Df Model:</th>              <td>     1</td>      <th>                     </th>     <td> </td>   \n",
       "</tr>\n",
       "<tr>\n",
       "  <th>Covariance Type:</th>      <td>nonrobust</td>    <th>                     </th>     <td> </td>   \n",
       "</tr>\n",
       "</table>\n",
       "<table class=\"simpletable\">\n",
       "<tr>\n",
       "      <td></td>         <th>coef</th>     <th>std err</th>      <th>t</th>      <th>P>|t|</th>  <th>[0.025</th>    <th>0.975]</th>  \n",
       "</tr>\n",
       "<tr>\n",
       "  <th>Intercept</th> <td>   44.6094</td> <td>    3.086</td> <td>   14.455</td> <td> 0.000</td> <td>   38.471</td> <td>   50.748</td>\n",
       "</tr>\n",
       "<tr>\n",
       "  <th>X_data</th>    <td>   11.9239</td> <td>    5.560</td> <td>    2.145</td> <td> 0.035</td> <td>    0.866</td> <td>   22.982</td>\n",
       "</tr>\n",
       "</table>\n",
       "<table class=\"simpletable\">\n",
       "<tr>\n",
       "  <th>Omnibus:</th>       <td> 3.009</td> <th>  Durbin-Watson:     </th> <td>   1.404</td>\n",
       "</tr>\n",
       "<tr>\n",
       "  <th>Prob(Omnibus):</th> <td> 0.222</td> <th>  Jarque-Bera (JB):  </th> <td>   2.845</td>\n",
       "</tr>\n",
       "<tr>\n",
       "  <th>Skew:</th>          <td> 0.379</td> <th>  Prob(JB):          </th> <td>   0.241</td>\n",
       "</tr>\n",
       "<tr>\n",
       "  <th>Kurtosis:</th>      <td> 2.523</td> <th>  Cond. No.          </th> <td>    4.43</td>\n",
       "</tr>\n",
       "</table><br/><br/>Notes:<br/>[1] Standard Errors assume that the covariance matrix of the errors is correctly specified."
      ],
      "text/plain": [
       "<class 'statsmodels.iolib.summary.Summary'>\n",
       "\"\"\"\n",
       "                            OLS Regression Results                            \n",
       "==============================================================================\n",
       "Dep. Variable:                 y_data   R-squared:                       0.053\n",
       "Model:                            OLS   Adj. R-squared:                  0.041\n",
       "Method:                 Least Squares   F-statistic:                     4.600\n",
       "Date:                Sat, 25 Feb 2023   Prob (F-statistic):             0.0349\n",
       "Time:                        19:23:16   Log-Likelihood:                -346.36\n",
       "No. Observations:                  85   AIC:                             696.7\n",
       "Df Residuals:                      83   BIC:                             701.6\n",
       "Df Model:                           1                                         \n",
       "Covariance Type:            nonrobust                                         \n",
       "==============================================================================\n",
       "                 coef    std err          t      P>|t|      [0.025      0.975]\n",
       "------------------------------------------------------------------------------\n",
       "Intercept     44.6094      3.086     14.455      0.000      38.471      50.748\n",
       "X_data        11.9239      5.560      2.145      0.035       0.866      22.982\n",
       "==============================================================================\n",
       "Omnibus:                        3.009   Durbin-Watson:                   1.404\n",
       "Prob(Omnibus):                  0.222   Jarque-Bera (JB):                2.845\n",
       "Skew:                           0.379   Prob(JB):                        0.241\n",
       "Kurtosis:                       2.523   Cond. No.                         4.43\n",
       "==============================================================================\n",
       "\n",
       "Notes:\n",
       "[1] Standard Errors assume that the covariance matrix of the errors is correctly specified.\n",
       "\"\"\""
      ]
     },
     "execution_count": 68,
     "metadata": {},
     "output_type": "execute_result"
    }
   ],
   "source": [
    "fit = sm.OLS(endog=y_dm, exog=X_dm).fit()\n",
    "fit.summary()"
   ]
  },
  {
   "cell_type": "markdown",
   "id": "89fd2497",
   "metadata": {},
   "source": [
    "Even more sexy a fully automated version of S.L.Regression using statsmodels.formula.api (We imported this further up)\n",
    "The advantage of this is that we dont need to construct design matrices (e.g. y_dm, X_dm).\n",
    "For the variable data see the lines of code directly after \"A very sexy Simple Linear Regression (mit nem anderen Ami)\""
   ]
  },
  {
   "cell_type": "code",
   "execution_count": 69,
   "id": "4e7dfac9",
   "metadata": {},
   "outputs": [
    {
     "data": {
      "text/html": [
       "<table class=\"simpletable\">\n",
       "<caption>OLS Regression Results</caption>\n",
       "<tr>\n",
       "  <th>Dep. Variable:</th>         <td>y_data</td>      <th>  R-squared:         </th> <td>   0.053</td>\n",
       "</tr>\n",
       "<tr>\n",
       "  <th>Model:</th>                   <td>OLS</td>       <th>  Adj. R-squared:    </th> <td>   0.041</td>\n",
       "</tr>\n",
       "<tr>\n",
       "  <th>Method:</th>             <td>Least Squares</td>  <th>  F-statistic:       </th> <td>   4.600</td>\n",
       "</tr>\n",
       "<tr>\n",
       "  <th>Date:</th>             <td>Sat, 25 Feb 2023</td> <th>  Prob (F-statistic):</th>  <td>0.0349</td> \n",
       "</tr>\n",
       "<tr>\n",
       "  <th>Time:</th>                 <td>19:44:46</td>     <th>  Log-Likelihood:    </th> <td> -346.36</td>\n",
       "</tr>\n",
       "<tr>\n",
       "  <th>No. Observations:</th>      <td>    85</td>      <th>  AIC:               </th> <td>   696.7</td>\n",
       "</tr>\n",
       "<tr>\n",
       "  <th>Df Residuals:</th>          <td>    83</td>      <th>  BIC:               </th> <td>   701.6</td>\n",
       "</tr>\n",
       "<tr>\n",
       "  <th>Df Model:</th>              <td>     1</td>      <th>                     </th>     <td> </td>   \n",
       "</tr>\n",
       "<tr>\n",
       "  <th>Covariance Type:</th>      <td>nonrobust</td>    <th>                     </th>     <td> </td>   \n",
       "</tr>\n",
       "</table>\n",
       "<table class=\"simpletable\">\n",
       "<tr>\n",
       "      <td></td>         <th>coef</th>     <th>std err</th>      <th>t</th>      <th>P>|t|</th>  <th>[0.025</th>    <th>0.975]</th>  \n",
       "</tr>\n",
       "<tr>\n",
       "  <th>Intercept</th> <td>   44.6094</td> <td>    3.086</td> <td>   14.455</td> <td> 0.000</td> <td>   38.471</td> <td>   50.748</td>\n",
       "</tr>\n",
       "<tr>\n",
       "  <th>X_data</th>    <td>   11.9239</td> <td>    5.560</td> <td>    2.145</td> <td> 0.035</td> <td>    0.866</td> <td>   22.982</td>\n",
       "</tr>\n",
       "</table>\n",
       "<table class=\"simpletable\">\n",
       "<tr>\n",
       "  <th>Omnibus:</th>       <td> 3.009</td> <th>  Durbin-Watson:     </th> <td>   1.404</td>\n",
       "</tr>\n",
       "<tr>\n",
       "  <th>Prob(Omnibus):</th> <td> 0.222</td> <th>  Jarque-Bera (JB):  </th> <td>   2.845</td>\n",
       "</tr>\n",
       "<tr>\n",
       "  <th>Skew:</th>          <td> 0.379</td> <th>  Prob(JB):          </th> <td>   0.241</td>\n",
       "</tr>\n",
       "<tr>\n",
       "  <th>Kurtosis:</th>      <td> 2.523</td> <th>  Cond. No.          </th> <td>    4.43</td>\n",
       "</tr>\n",
       "</table><br/><br/>Notes:<br/>[1] Standard Errors assume that the covariance matrix of the errors is correctly specified."
      ],
      "text/plain": [
       "<class 'statsmodels.iolib.summary.Summary'>\n",
       "\"\"\"\n",
       "                            OLS Regression Results                            \n",
       "==============================================================================\n",
       "Dep. Variable:                 y_data   R-squared:                       0.053\n",
       "Model:                            OLS   Adj. R-squared:                  0.041\n",
       "Method:                 Least Squares   F-statistic:                     4.600\n",
       "Date:                Sat, 25 Feb 2023   Prob (F-statistic):             0.0349\n",
       "Time:                        19:44:46   Log-Likelihood:                -346.36\n",
       "No. Observations:                  85   AIC:                             696.7\n",
       "Df Residuals:                      83   BIC:                             701.6\n",
       "Df Model:                           1                                         \n",
       "Covariance Type:            nonrobust                                         \n",
       "==============================================================================\n",
       "                 coef    std err          t      P>|t|      [0.025      0.975]\n",
       "------------------------------------------------------------------------------\n",
       "Intercept     44.6094      3.086     14.455      0.000      38.471      50.748\n",
       "X_data        11.9239      5.560      2.145      0.035       0.866      22.982\n",
       "==============================================================================\n",
       "Omnibus:                        3.009   Durbin-Watson:                   1.404\n",
       "Prob(Omnibus):                  0.222   Jarque-Bera (JB):                2.845\n",
       "Skew:                           0.379   Prob(JB):                        0.241\n",
       "Kurtosis:                       2.523   Cond. No.                         4.43\n",
       "==============================================================================\n",
       "\n",
       "Notes:\n",
       "[1] Standard Errors assume that the covariance matrix of the errors is correctly specified.\n",
       "\"\"\""
      ]
     },
     "execution_count": 69,
     "metadata": {},
     "output_type": "execute_result"
    }
   ],
   "source": [
    "fit_new = smf.ols(\"y_data ~ X_data\", data).fit()\n",
    "fit_new.summary()"
   ]
  },
  {
   "cell_type": "code",
   "execution_count": 71,
   "id": "f4581bf1",
   "metadata": {},
   "outputs": [
    {
     "data": {
      "image/png": "[encoded data removed]",
      "text/plain": [
       "<Figure size 640x480 with 1 Axes>"
      ]
     },
     "metadata": {},
     "output_type": "display_data"
    }
   ],
   "source": [
    "# Create a scatterplot of sugarpercent vs. winpercent\n",
    "sns.regplot(x=\"sugarpercent\", y=\"winpercent\", data=df_candy)\n",
    "\n",
    "# Add axis labels and a title\n",
    "plt.xlabel(\"Sugarpercent\")\n",
    "plt.ylabel(\"Winpercent\")\n",
    "plt.title(\"Scatterplot of Sugarpercent vs. Winpercent\")\n",
    "\n",
    "# Show the plot\n",
    "plt.show()"
   ]
  },
  {
   "cell_type": "markdown",
   "id": "c6b45090",
   "metadata": {},
   "source": [
    "# Multiple Linear Regression (der gleiche Ami wie Simple Linear Regression)"
   ]
  },
  {
   "cell_type": "markdown",
   "id": "8c0404e7",
   "metadata": {},
   "source": [
    "Sexysexy"
   ]
  },
  {
   "cell_type": "code",
   "execution_count": 72,
   "id": "c48148cb",
   "metadata": {},
   "outputs": [
    {
     "data": {
      "text/html": [
       "<div>\n",
       "<style scoped>\n",
       "    .dataframe tbody tr th:only-of-type {\n",
       "        vertical-align: middle;\n",
       "    }\n",
       "\n",
       "    .dataframe tbody tr th {\n",
       "        vertical-align: top;\n",
       "    }\n",
       "\n",
       "    .dataframe thead th {\n",
       "        text-align: right;\n",
       "    }\n",
       "</style>\n",
       "<table border=\"1\" class=\"dataframe\">\n",
       "  <thead>\n",
       "    <tr style=\"text-align: right;\">\n",
       "      <th></th>\n",
       "      <th>competitorname</th>\n",
       "      <th>chocolate</th>\n",
       "      <th>fruity</th>\n",
       "      <th>caramel</th>\n",
       "      <th>peanutyalmondy</th>\n",
       "      <th>nougat</th>\n",
       "      <th>crispedricewafer</th>\n",
       "      <th>hard</th>\n",
       "      <th>bar</th>\n",
       "      <th>pluribus</th>\n",
       "      <th>sugarpercent</th>\n",
       "      <th>pricepercent</th>\n",
       "      <th>winpercent</th>\n",
       "    </tr>\n",
       "  </thead>\n",
       "  <tbody>\n",
       "    <tr>\n",
       "      <th>0</th>\n",
       "      <td>100 Grand</td>\n",
       "      <td>1</td>\n",
       "      <td>0</td>\n",
       "      <td>1</td>\n",
       "      <td>0</td>\n",
       "      <td>0</td>\n",
       "      <td>1</td>\n",
       "      <td>0</td>\n",
       "      <td>1</td>\n",
       "      <td>0</td>\n",
       "      <td>0.732</td>\n",
       "      <td>0.860</td>\n",
       "      <td>66.971725</td>\n",
       "    </tr>\n",
       "    <tr>\n",
       "      <th>1</th>\n",
       "      <td>3 Musketeers</td>\n",
       "      <td>1</td>\n",
       "      <td>0</td>\n",
       "      <td>0</td>\n",
       "      <td>0</td>\n",
       "      <td>1</td>\n",
       "      <td>0</td>\n",
       "      <td>0</td>\n",
       "      <td>1</td>\n",
       "      <td>0</td>\n",
       "      <td>0.604</td>\n",
       "      <td>0.511</td>\n",
       "      <td>67.602936</td>\n",
       "    </tr>\n",
       "    <tr>\n",
       "      <th>2</th>\n",
       "      <td>One dime</td>\n",
       "      <td>0</td>\n",
       "      <td>0</td>\n",
       "      <td>0</td>\n",
       "      <td>0</td>\n",
       "      <td>0</td>\n",
       "      <td>0</td>\n",
       "      <td>0</td>\n",
       "      <td>0</td>\n",
       "      <td>0</td>\n",
       "      <td>0.011</td>\n",
       "      <td>0.116</td>\n",
       "      <td>32.261086</td>\n",
       "    </tr>\n",
       "    <tr>\n",
       "      <th>3</th>\n",
       "      <td>One quarter</td>\n",
       "      <td>0</td>\n",
       "      <td>0</td>\n",
       "      <td>0</td>\n",
       "      <td>0</td>\n",
       "      <td>0</td>\n",
       "      <td>0</td>\n",
       "      <td>0</td>\n",
       "      <td>0</td>\n",
       "      <td>0</td>\n",
       "      <td>0.011</td>\n",
       "      <td>0.511</td>\n",
       "      <td>46.116505</td>\n",
       "    </tr>\n",
       "    <tr>\n",
       "      <th>4</th>\n",
       "      <td>Air Heads</td>\n",
       "      <td>0</td>\n",
       "      <td>1</td>\n",
       "      <td>0</td>\n",
       "      <td>0</td>\n",
       "      <td>0</td>\n",
       "      <td>0</td>\n",
       "      <td>0</td>\n",
       "      <td>0</td>\n",
       "      <td>0</td>\n",
       "      <td>0.906</td>\n",
       "      <td>0.511</td>\n",
       "      <td>52.341465</td>\n",
       "    </tr>\n",
       "  </tbody>\n",
       "</table>\n",
       "</div>"
      ],
      "text/plain": [
       "  competitorname  chocolate  fruity  caramel  peanutyalmondy  nougat  \\\n",
       "0      100 Grand          1       0        1               0       0   \n",
       "1   3 Musketeers          1       0        0               0       1   \n",
       "2       One dime          0       0        0               0       0   \n",
       "3    One quarter          0       0        0               0       0   \n",
       "4      Air Heads          0       1        0               0       0   \n",
       "\n",
       "   crispedricewafer  hard  bar  pluribus  sugarpercent  pricepercent  \\\n",
       "0                 1     0    1         0         0.732         0.860   \n",
       "1                 0     0    1         0         0.604         0.511   \n",
       "2                 0     0    0         0         0.011         0.116   \n",
       "3                 0     0    0         0         0.011         0.511   \n",
       "4                 0     0    0         0         0.906         0.511   \n",
       "\n",
       "   winpercent  \n",
       "0   66.971725  \n",
       "1   67.602936  \n",
       "2   32.261086  \n",
       "3   46.116505  \n",
       "4   52.341465  "
      ]
     },
     "execution_count": 72,
     "metadata": {},
     "output_type": "execute_result"
    }
   ],
   "source": [
    "df_candy.head(5)"
   ]
  },
  {
   "cell_type": "markdown",
   "id": "f7877949",
   "metadata": {},
   "source": [
    "Ok now let's look at the correlations between my IVs and my DV\n",
    "Info: We plotted the Scatterplot of \"sugarpercent\" vs. \"winpercent\" some lines further up so we dont have to do it here again"
   ]
  },
  {
   "cell_type": "code",
   "execution_count": 75,
   "id": "2696fab4",
   "metadata": {},
   "outputs": [
    {
     "data": {
      "image/png": "[encoded data removed]",
      "text/plain": [
       "<Figure size 640x480 with 1 Axes>"
      ]
     },
     "metadata": {},
     "output_type": "display_data"
    }
   ],
   "source": [
    "# Create a scatterplot of sugarpercent vs. winpercent\n",
    "sns.regplot(x=\"pricepercent\", y=\"winpercent\", data=df_candy)\n",
    "\n",
    "# Add axis labels and a title\n",
    "plt.xlabel(\"Pricepercent\")\n",
    "plt.ylabel(\"Winpercent\")\n",
    "plt.title(\"Scatterplot of Pricepercent vs. Winpercent\")\n",
    "\n",
    "# Show the plot\n",
    "plt.show()"
   ]
  },
  {
   "cell_type": "code",
   "execution_count": 76,
   "id": "89d960b0",
   "metadata": {},
   "outputs": [
    {
     "data": {
      "image/png": "[encoded data removed]",
      "text/plain": [
       "<Figure size 640x480 with 1 Axes>"
      ]
     },
     "metadata": {},
     "output_type": "display_data"
    }
   ],
   "source": [
    "# just for fun we'll also look at the scatterplot of both IVs (\"sugarpercent\" and \"pricepercent\")\n",
    "\n",
    "# Create a scatterplot of \"sugarpercent\" and \"pricepercent\"\n",
    "sns.regplot(x=\"sugarpercent\", y=\"pricepercent\", data=df_candy)\n",
    "\n",
    "# Add axis labels and a title\n",
    "plt.xlabel(\"Sugarpercent\")\n",
    "plt.ylabel(\"Pricepercent\")\n",
    "plt.title(\"Scatterplot of Sugarpercent vs. Pricepercent\")\n",
    "\n",
    "# Show the plot\n",
    "plt.show()"
   ]
  },
  {
   "cell_type": "code",
   "execution_count": 80,
   "id": "4fd6a16d",
   "metadata": {},
   "outputs": [
    {
     "data": {
      "text/html": [
       "<div>\n",
       "<style scoped>\n",
       "    .dataframe tbody tr th:only-of-type {\n",
       "        vertical-align: middle;\n",
       "    }\n",
       "\n",
       "    .dataframe tbody tr th {\n",
       "        vertical-align: top;\n",
       "    }\n",
       "\n",
       "    .dataframe thead th {\n",
       "        text-align: right;\n",
       "    }\n",
       "</style>\n",
       "<table border=\"1\" class=\"dataframe\">\n",
       "  <thead>\n",
       "    <tr style=\"text-align: right;\">\n",
       "      <th></th>\n",
       "      <th>x1_mlregression_sugarpercent</th>\n",
       "      <th>x2_mlregression_pricepercent</th>\n",
       "      <th>y_mlregression_winpercent</th>\n",
       "    </tr>\n",
       "  </thead>\n",
       "  <tbody>\n",
       "    <tr>\n",
       "      <th>0</th>\n",
       "      <td>0.732</td>\n",
       "      <td>0.860</td>\n",
       "      <td>66.971725</td>\n",
       "    </tr>\n",
       "    <tr>\n",
       "      <th>1</th>\n",
       "      <td>0.604</td>\n",
       "      <td>0.511</td>\n",
       "      <td>67.602936</td>\n",
       "    </tr>\n",
       "    <tr>\n",
       "      <th>2</th>\n",
       "      <td>0.011</td>\n",
       "      <td>0.116</td>\n",
       "      <td>32.261086</td>\n",
       "    </tr>\n",
       "  </tbody>\n",
       "</table>\n",
       "</div>"
      ],
      "text/plain": [
       "   x1_mlregression_sugarpercent  x2_mlregression_pricepercent  \\\n",
       "0                         0.732                         0.860   \n",
       "1                         0.604                         0.511   \n",
       "2                         0.011                         0.116   \n",
       "\n",
       "   y_mlregression_winpercent  \n",
       "0                  66.971725  \n",
       "1                  67.602936  \n",
       "2                  32.261086  "
      ]
     },
     "execution_count": 80,
     "metadata": {},
     "output_type": "execute_result"
    }
   ],
   "source": [
    "# Clarify my Criterion and my Predictors\n",
    "\n",
    "y_mlregression_winpercent = df_candy[\"winpercent\"]\n",
    "x1_mlregression_sugarpercent = df_candy[\"sugarpercent\"]\n",
    "x2_mlregression_pricepercent = df_candy[\"pricepercent\"]\n",
    "\n",
    "mlregression_data = pd.concat([x1_mlregression_sugarpercent, x2_mlregression_pricepercent, y_mlregression_winpercent], axis=1, keys=['x1_mlregression_sugarpercent', \"x2_mlregression_pricepercent\", 'y_mlregression_winpercent'])\n",
    "mlregression_data.head(3)"
   ]
  },
  {
   "cell_type": "code",
   "execution_count": 82,
   "id": "eaa921d5",
   "metadata": {},
   "outputs": [
    {
     "data": {
      "text/html": [
       "<table class=\"simpletable\">\n",
       "<caption>OLS Regression Results</caption>\n",
       "<tr>\n",
       "  <th>Dep. Variable:</th>    <td>y_mlregression_winpercent</td> <th>  R-squared:         </th> <td>   0.134</td>\n",
       "</tr>\n",
       "<tr>\n",
       "  <th>Model:</th>                       <td>OLS</td>            <th>  Adj. R-squared:    </th> <td>   0.113</td>\n",
       "</tr>\n",
       "<tr>\n",
       "  <th>Method:</th>                 <td>Least Squares</td>       <th>  F-statistic:       </th> <td>   6.353</td>\n",
       "</tr>\n",
       "<tr>\n",
       "  <th>Date:</th>                 <td>Sat, 25 Feb 2023</td>      <th>  Prob (F-statistic):</th>  <td>0.00272</td>\n",
       "</tr>\n",
       "<tr>\n",
       "  <th>Time:</th>                     <td>20:54:11</td>          <th>  Log-Likelihood:    </th> <td> -342.53</td>\n",
       "</tr>\n",
       "<tr>\n",
       "  <th>No. Observations:</th>          <td>    85</td>           <th>  AIC:               </th> <td>   691.1</td>\n",
       "</tr>\n",
       "<tr>\n",
       "  <th>Df Residuals:</th>              <td>    82</td>           <th>  BIC:               </th> <td>   698.4</td>\n",
       "</tr>\n",
       "<tr>\n",
       "  <th>Df Model:</th>                  <td>     2</td>           <th>                     </th>     <td> </td>   \n",
       "</tr>\n",
       "<tr>\n",
       "  <th>Covariance Type:</th>          <td>nonrobust</td>         <th>                     </th>     <td> </td>   \n",
       "</tr>\n",
       "</table>\n",
       "<table class=\"simpletable\">\n",
       "<tr>\n",
       "                <td></td>                  <th>coef</th>     <th>std err</th>      <th>t</th>      <th>P>|t|</th>  <th>[0.025</th>    <th>0.975]</th>  \n",
       "</tr>\n",
       "<tr>\n",
       "  <th>Intercept</th>                    <td>   39.7867</td> <td>    3.438</td> <td>   11.574</td> <td> 0.000</td> <td>   32.948</td> <td>   46.625</td>\n",
       "</tr>\n",
       "<tr>\n",
       "  <th>x1_mlregression_sugarpercent</th> <td>    6.7311</td> <td>    5.664</td> <td>    1.188</td> <td> 0.238</td> <td>   -4.536</td> <td>   17.998</td>\n",
       "</tr>\n",
       "<tr>\n",
       "  <th>x2_mlregression_pricepercent</th> <td>   15.5865</td> <td>    5.605</td> <td>    2.781</td> <td> 0.007</td> <td>    4.436</td> <td>   26.737</td>\n",
       "</tr>\n",
       "</table>\n",
       "<table class=\"simpletable\">\n",
       "<tr>\n",
       "  <th>Omnibus:</th>       <td> 0.572</td> <th>  Durbin-Watson:     </th> <td>   1.424</td>\n",
       "</tr>\n",
       "<tr>\n",
       "  <th>Prob(Omnibus):</th> <td> 0.751</td> <th>  Jarque-Bera (JB):  </th> <td>   0.467</td>\n",
       "</tr>\n",
       "<tr>\n",
       "  <th>Skew:</th>          <td> 0.180</td> <th>  Prob(JB):          </th> <td>   0.792</td>\n",
       "</tr>\n",
       "<tr>\n",
       "  <th>Kurtosis:</th>      <td> 2.946</td> <th>  Cond. No.          </th> <td>    5.27</td>\n",
       "</tr>\n",
       "</table><br/><br/>Notes:<br/>[1] Standard Errors assume that the covariance matrix of the errors is correctly specified."
      ],
      "text/plain": [
       "<class 'statsmodels.iolib.summary.Summary'>\n",
       "\"\"\"\n",
       "                                OLS Regression Results                               \n",
       "=====================================================================================\n",
       "Dep. Variable:     y_mlregression_winpercent   R-squared:                       0.134\n",
       "Model:                                   OLS   Adj. R-squared:                  0.113\n",
       "Method:                        Least Squares   F-statistic:                     6.353\n",
       "Date:                       Sat, 25 Feb 2023   Prob (F-statistic):            0.00272\n",
       "Time:                               20:54:11   Log-Likelihood:                -342.53\n",
       "No. Observations:                         85   AIC:                             691.1\n",
       "Df Residuals:                             82   BIC:                             698.4\n",
       "Df Model:                                  2                                         \n",
       "Covariance Type:                   nonrobust                                         \n",
       "================================================================================================\n",
       "                                   coef    std err          t      P>|t|      [0.025      0.975]\n",
       "------------------------------------------------------------------------------------------------\n",
       "Intercept                       39.7867      3.438     11.574      0.000      32.948      46.625\n",
       "x1_mlregression_sugarpercent     6.7311      5.664      1.188      0.238      -4.536      17.998\n",
       "x2_mlregression_pricepercent    15.5865      5.605      2.781      0.007       4.436      26.737\n",
       "==============================================================================\n",
       "Omnibus:                        0.572   Durbin-Watson:                   1.424\n",
       "Prob(Omnibus):                  0.751   Jarque-Bera (JB):                0.467\n",
       "Skew:                           0.180   Prob(JB):                        0.792\n",
       "Kurtosis:                       2.946   Cond. No.                         5.27\n",
       "==============================================================================\n",
       "\n",
       "Notes:\n",
       "[1] Standard Errors assume that the covariance matrix of the errors is correctly specified.\n",
       "\"\"\""
      ]
     },
     "execution_count": 82,
     "metadata": {},
     "output_type": "execute_result"
    }
   ],
   "source": [
    "fit_new_mlr = smf.ols(\"y_mlregression_winpercent ~ x1_mlregression_sugarpercent + x2_mlregression_pricepercent\", mlregression_data).fit()\n",
    "fit_new_mlr.summary()"
   ]
  },
  {
   "cell_type": "code",
   "execution_count": 85,
   "id": "7e24c858",
   "metadata": {},
   "outputs": [
    {
     "data": {
      "image/png": "[encoded data removed]",
      "text/plain": [
       "<Figure size 640x480 with 1 Axes>"
      ]
     },
     "metadata": {},
     "output_type": "display_data"
    }
   ],
   "source": [
    "sm.graphics.plot_fit(fit_new_mlr, \"x1_mlregression_sugarpercent\");"
   ]
  },
  {
   "cell_type": "code",
   "execution_count": 86,
   "id": "ece39fc3",
   "metadata": {
    "scrolled": true
   },
   "outputs": [
    {
     "data": {
      "image/png": "[encoded data removed]",
      "text/plain": [
       "<Figure size 640x480 with 1 Axes>"
      ]
     },
     "metadata": {},
     "output_type": "display_data"
    }
   ],
   "source": [
    "sm.graphics.plot_fit(fit_new_mlr, \"x2_mlregression_pricepercent\");"
   ]
  },
  {
   "cell_type": "code",
   "execution_count": null,
   "id": "170e6ec7",
   "metadata": {},
   "outputs": [],
   "source": []
  }
 ],
 "metadata": {
  "kernelspec": {
   "display_name": "Python 3 (ipykernel)",
   "language": "python",
   "name": "python3"
  },
  "language_info": {
   "codemirror_mode": {
    "name": "ipython",
    "version": 3
   },
   "file_extension": ".py",
   "mimetype": "text/x-python",
   "name": "python",
   "nbconvert_exporter": "python",
   "pygments_lexer": "ipython3",
   "version": "3.11.2"
  },
  "varInspector": {
   "cols": {
    "lenName": 16,
    "lenType": 16,
    "lenVar": 40
   },
   "kernels_config": {
    "python": {
     "delete_cmd_postfix": "",
     "delete_cmd_prefix": "del ",
     "library": "var_list.py",
     "varRefreshCmd": "print(var_dic_list())"
    },
    "r": {
     "delete_cmd_postfix": ") ",
     "delete_cmd_prefix": "rm(",
     "library": "var_list.r",
     "varRefreshCmd": "cat(var_dic_list()) "
    }
   },
   "types_to_exclude": [
    "module",
    "function",
    "builtin_function_or_method",
    "instance",
    "_Feature"
   ],
   "window_display": false
  }
 },
 "nbformat": 4,
 "nbformat_minor": 5
}
